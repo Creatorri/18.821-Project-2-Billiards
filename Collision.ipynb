{
 "cells": [
  {
   "cell_type": "code",
   "execution_count": 1,
   "metadata": {},
   "outputs": [],
   "source": [
    "import numpy as np\n",
    "import scipy as sp\n",
    "import matplotlib.pyplot as plt\n",
    "import math\n",
    "from numpy.random import default_rng\n",
    "import numba as nb\n",
    "from numba import vectorize,jit,prange,objmode"
   ]
  },
  {
   "cell_type": "code",
   "execution_count": 2,
   "metadata": {},
   "outputs": [],
   "source": [
    "rng = default_rng()"
   ]
  },
  {
   "cell_type": "code",
   "execution_count": 3,
   "metadata": {},
   "outputs": [],
   "source": [
    "error = 1e-10 #because machine error is *really* important when working with linalg"
   ]
  },
  {
   "cell_type": "code",
   "execution_count": 4,
   "metadata": {},
   "outputs": [],
   "source": [
    "#@jit(fastmath=True,parallel=True)\n",
    "def normalize(v):\n",
    "    l = np.linalg.norm(v)\n",
    "    if l < error:\n",
    "        print(\"Something has gone terribly wrong with \"+str(v))\n",
    "        return v\n",
    "    return v/l"
   ]
  },
  {
   "cell_type": "markdown",
   "metadata": {},
   "source": [
    "Questions for next version:\n",
    "* Make precise:\n",
    "    * Why probability 1? Give intuition and what measure 0 set works\n",
    "    * Say what $x_n, p_n, v_n$ are, give picture\n",
    "    * Conjecture 4.1: Provide evidence and convince the reader that, for irrational starting direction \n",
    "        * Get some random [convex polygons](https://cglab.ca/~sander/misc/ConvexGeneration/convex.html) and see if that works\n",
    "    * Check conj 4.2 for irregular triangles\n",
    "* Density of paths:\n",
    "    * How to measure?\n",
    "        * Maybe try making circles and finding the largest radius $\\epsilon$ s.t. $B_\\epsilon \\cap L =\\emptyset$ (for $L$ is the set of points in the lines)\n",
    "    * How dense are random paths on 7-gons? Show with 1000 bounces\n",
    "    * Are there protected regions in small $n$ $n$-gons? If so, how?"
   ]
  },
  {
   "cell_type": "markdown",
   "metadata": {},
   "source": [
    "### Defining shapes\n",
    "In general we will define a discrete shape to be an array of pairs of points which represent the lines between them."
   ]
  },
  {
   "cell_type": "code",
   "execution_count": 85,
   "metadata": {},
   "outputs": [],
   "source": [
    "#@jit(fastmath=True,parallel=True)\n",
    "def polar_poly(r,n):\n",
    "    r = np.vectorize(r)\n",
    "    theta = 2*np.pi/n\n",
    "    angles = np.array([x*theta for x in prange(n)])\n",
    "    p0s = np.vstack((r(angles)*np.cos(angles),r(angles)*np.sin(angles))).T\n",
    "    p1s = np.array([p0s[1]])\n",
    "    #for i,_ in enumerate(p0s):\n",
    "    #    p1s = np.append(p1s,[p0s[(i+1)%n]],axis=0)\n",
    "    #p1s = p1s[1:]\n",
    "    p1s = np.array(list(map(lambda i: p0s[(i+1)%n],range(n))))\n",
    "    return (np.vstack((p0s,p1s)).T)"
   ]
  },
  {
   "cell_type": "code",
   "execution_count": 86,
   "metadata": {},
   "outputs": [],
   "source": [
    "#@jit(fastmath=True,parallel=True,forceobj=True)\n",
    "def ngon(n):\n",
    "    return polar_poly(lambda t: 1,n)"
   ]
  },
  {
   "cell_type": "code",
<<<<<<< HEAD
   "execution_count": 87,
   "metadata": {},
   "outputs": [
    {
     "name": "stdout",
     "output_type": "stream",
     "text": [
      "[ 1.0000000e+00  6.1232340e-17 -1.0000000e+00 -1.8369702e-16\n",
      "  6.1232340e-17 -1.0000000e+00 -1.8369702e-16  1.0000000e+00]\n",
      "[[ 1.0000000e+00  6.1232340e-17 -1.0000000e+00 -1.8369702e-16\n",
      "   6.1232340e-17 -1.0000000e+00 -1.8369702e-16  1.0000000e+00]\n",
      " [ 0.0000000e+00  1.0000000e+00  1.2246468e-16 -1.0000000e+00\n",
      "   1.0000000e+00  1.2246468e-16 -1.0000000e+00  0.0000000e+00]]\n"
     ]
    },
    {
     "data": {
      "text/plain": [
       "[<matplotlib.lines.Line2D at 0x1adafe2df40>,\n",
       " <matplotlib.lines.Line2D at 0x1adafe2d310>,\n",
       " <matplotlib.lines.Line2D at 0x1adafe3a0d0>,\n",
       " <matplotlib.lines.Line2D at 0x1adafe3a190>]"
      ]
     },
     "execution_count": 87,
     "metadata": {},
     "output_type": "execute_result"
    },
    {
     "data": {
      "image/png": "iVBORw0KGgoAAAANSUhEUgAAAYIAAAD4CAYAAADhNOGaAAAAOXRFWHRTb2Z0d2FyZQBNYXRwbG90bGliIHZlcnNpb24zLjMuMSwgaHR0cHM6Ly9tYXRwbG90bGliLm9yZy/d3fzzAAAACXBIWXMAAAsTAAALEwEAmpwYAAA7pklEQVR4nO3ddXgU5/f38feJIMElQPCE0lIKhWLFCjW0QALFtRSXYjVaCqVQF6S4tpTilgQpWlxapBTX4JbgTux+/tjl++RHE0jIbibJntd15cruyM6HzbJn79mZM2KMQSmllOtyszqAUkopa2khUEopF6eFQCmlXJwWAqWUcnFaCJRSysV5WB3gaeTMmdMULlzY6hhKKZWi7Ny587IxxvvR6SmyEBQuXJgdO3ZYHUMppVIUETkV23TdNaSUUi5OC4FSSrk4LQRKKeXitBAopZSL00KglFIuziGFQESmikioiOyLY76IyM8ickxE9ohImRjzaovIYfu8/o7Io5RSKv4cNSL4Faj9mPl1gKL2n87AOAARcQfG2OcXB1qISHEHZVJKKRUPDikExpgNwNXHLOIP/GZstgFZRcQHqAAcM8aEGGPCgdn2ZZVKcc7sPUxw14+5cz/c6ihKJUhSfUeQDzgT4/5Z+7S4pv+HiHQWkR0isiMsLMxpQZVKKBMZyZUpU7nZsil5N62k/ZD5bDl22epYSsVbUhUCiWWaecz0/040ZqIxppwxppy393/OkFbKEvcPH+Fki5aE/vADmV+pStTUWYRlz0vLyX/Rf8EebtyLsDqiUk+UVC0mzgIFYtzPD5wH0sQxXalkLTo8nCvjJ3B54kTcM2cm3/BhZKpdmwIi/PFSUYavPsKkDSGsPRzKlwElqVE8t9WRlYpTUo0IgoG29qOHKgI3jDEXgO1AURHxFZE0QHP7skolW/d27+ZEo0ZcHjuWzHXr4Ld0CZnr1EHENsBN5+nOJ3WeJ7BHFbJ5paHTbzvoOXMXl28/sDi5UrFzyIhARGYBrwI5ReQs8DngCWCMGQ8sA+oCx4C7QHv7vEgR6QmsANyBqcaY/Y7IpJSjRd+9S9jIn7n622945M5NgQnjyVi9epzLv5g/K4vfq8r4dccZ9ecxNh27zOf1ixNQOt//ioZSyYGkxIvXlytXzmj3UZWU7mzdyoWBg4g4e5asLZqT6/33cc+YMd7rH710i48W7OGf09d57TlvvmpYkrxZ0zsxsVL/JSI7jTHlHp2uZxYr9RhRN29yYeBATrd/F3F3p9D03/D5/PMEFQGAorkzMb9rZT6vX5xtIVepOXwD07edIjo65X0QU6mPFgKl4nBrzRpC3qrH9YWLyNGpI75BgXiVL//Uj+fuJrSv4svKvtUoXSArAwP30XzSNkLCbjswtVIJp4VAqUdEXr7M2b59OdujJ+45clB4zhxyvf8+bunSOeTxC2T3YnqHCnzf+EUOXbhJnZEbGb/+OJFR0Q55fKUSSguBUnbGGG4EBxPyVj1ur16Dd5/e+M6bS/oSLzh8WyJC03IFWN2vOq8+5823fxwiYOxmDpy/6fBtKfUkWgiUAiLOn+dMly6c/+hj0vj64hu4iJxduyKenk7dbq7M6RjfuixjW5Xh4o37NBi9iZ9WHuZBZJRTt6tUTCnymsVKOYqJjub6nDmE/vAjxhhyf/op2Vq1RNzdkyyDiFC3pA+V/HIwdOkBRv15jD/2XeS7t1+kbKFsSZZDuS4dESiX9eDECU61bcvFL4aQvnQp/BYHk71tmyQtAjFly5CGYU1L82v78twLj6Lx+C18sXg/dx5EWpJHuQ4tBMrlmMhIrkyezImAhjw4chSfr76iwJQppMmf3+poALz6XC5W9K1G24qF+GXzSWqN2MDGo9poUTmPFgLlUu4fOsTJps0I/fEnMlZ7Bb8li8n6dqNkd6ZvxrQefOFfgnldK5HGw402U/7mw3n/cuOuNrFTjqeFQLmE6AcPCB0xghONmxARGkq+kSPJP2oUnrlyWR3tscoXzs6yXq/Q/dUiLPznHG8OX8/yfRetjqVSGS0EKtW7u+sfTjRsxJXxE8hSrx5Fliwmc62aVseKt3Se7nxUuxhBPargnTEtXX/fSfcZOwm9dd/qaCqV0KOGVKoVfecOoSNGcu333/HwyUOBSZPI+EpVq2M9tRL5shDUswoTN4Qwcs1RNh+7wqB6xWlURpvYqcTREYFKlW5v2kxI/QZc+/13srVsiV/w4hRdBB7ydHejx2vPsKzXKxTNlZH35/1Lu1+2c/baXaujqRRMC4FKVaJu3OD8J59ypmNHJG1aCv0+nTwDP8M9YwaroznUM7kyMrdLJb5o8AI7Ttqa2E3bclKb2KmnooVApRo3V67keL163AgOJkfnzvgGLsKrbFmrYzmNm5vQrnJhVvatRrnC2fk8eD9NJ2zluDaxUwmkhUCleJFhYZzt1ZtzvXrjkdMb33lzydWvL25p01odLUnkz+bFtPbl+bFJKY6G3qbOyI2MWXuMCG1ip+LJIYVARGqLyGEROSYi/WOZ/6GI7Lb/7BORKBHJbp93UkT22ufp1WZUvBljuL4okOP16nN73Tq8+/bFd+4c0hUvbnW0JCciNC6bn1X9qvHm87n4YcVhAsZsZt+5G1ZHUylAoq9QJiLuwBGgBraL1G8HWhhjDsSxfH2grzHmdfv9k0A5Y8zl+G5Tr1CmIs6d48Lng7mzaRPpy5TB58uhpPXzszpWsrF83wUGBu3n6p1wulTzo9cbRUnnaU3rDJV8xHWFMkccPloBOGaMCbFvaDbgD8RaCIAWwCwHbFe5IBMdzbWZswgdNgwBcg/8jGwtWiBuupczptolfKjkl5Mvlx5g7LrjLN9va2JXvnB2q6OpZMgR/3vyAWdi3D9rn/YfIuIF1AYWxJhsgJUislNEOse1ERHpLCI7RGRHWJj2XXFFD0JCONW6DZe+/BKvMmVsTeJatdIiEIcsXp780KQU0ztUIDwymibjtzIoaB+3tYmdeoQj/gfFdiZLXPub6gObjTFXY0yrYowpA9QBeohItdhWNMZMNMaUM8aU8/b2TlxilaKYiAguj5/ACf8AHhw/js+331Bg0kQ888X6eUM94pWi3qzoU413Khdm+rZT1Bq+gfVH9MOU+v8cUQjOAgVi3M8PnI9j2eY8slvIGHPe/jsUWIRtV5NSANw/cIATTZsRNmIEGV9/nSJLl5A1IEDPpE2gDGk9GNzgBeZ3rUQ6TzfaTf2bfnN3c/1uuNXRVDLgiEKwHSgqIr4ikgbbm33wowuJSBagOhAUY1oGEcn08DZQE9jngEwqhYt+8IDQn4ZxoklTIi+Hke/nkeQfOQKPnDmtjpailS2UnaW9XqHna88QvPs8bw5bz7K9F6yOpSyW6EJgjIkEegIrgIPAXGPMfhHpKiJdYyzaEFhpjLkTY1puYJOI/Av8DSw1xixPbCaVst3duZMT/gFcmTSJLP7+FFmyhMw1U06TuOQunac7H9R6jqCeVciTJR3dZ+yi6/SdhN7UJnauKtGHj1pBDx9NnaJu3yFs2DCuzZyJZ7585BnyBRmrVLE6VqoWGRXN5E0nGL7qCGk93PisXnGalM2vu95SqbgOH9XDLVSycHvjRkIa1OfarFlka9sGv+AgLQJJwMPdja7Vi/BH71coliczH83fQ5spf3PmqjaxcyVaCJSlIq9d4/zH/TnTqTNu6b0oNHMGeT79FLcMqatJXHLn552R2Z0rMjSgBP+cvkbN4Rv4ZfMJorSJnUvQQqAsYYzh5vIVhNSrz42lS8nRrSu+ixbi9dJLVkdzWW5uQpuKhVjZrzov+2Xni8UHaDJ+C8dCb1kdTTmZFgKV5CJCQznXqxfn+vTBM08efOfPI1fv3rilSWN1NAXky5qeX94pz/BmpThx+Q51R25i9J9HtYldKqaFQCUZYwzXFywgpF59bm/YSK4P3qfwnNmkK1bM6mjqESJCw5fys6pfdWq+kJsfVx6h/qhN7D2rTexSIy0EKkmEnz3LmQ4duDDgM9I9+yy+gYvI0bEj4qFXS03OcmZMy+iWZZjYpixX74TjP2YT3/xxkPsRUVZHUw6k/wuVU5moKK7NmEHo8BGImxt5Bn9O1qZNtT9QClPzhTy87JeDb5YdZML6EFbuv8S3jUrysl8Oq6MpB9D/jcppHhw7xqlWrbn09Td4lS+H35LFZGveXItACpUlvSffvv0iMzq+TGR0NM0mbuOzwL3cuh9hdTSVSPo/UjmciYjg8rhxnGjYiPCTJ8n7w/cUmDABTx8fq6MpB6jyTE5W9KlGh6q+zPjrNLWGb2DtoVCrY6lE0EKgHOrevv2caNyEsJE/k6nGm/gtXUKW+vX1TNVUxiuNBwPrFWdBt8pkSOtB+1+303fObq7e0SZ2KZEWAuUQ0ffvE/rjj5xs2pSoq1fJP2Y0+YYNwyOH7kNOzcoUzMaSXlXp/UZRFv97nhrD1rP43/OkxNY1rkwLgUq0O3//TYi/P1cmTyHr22/jt3QJmd54w+pYKomk9XCnb41nWdKrKvmypee9Wf/Q6bedXNImdimGFgL11KJu3+bC4MGcbtsOog0Ff/0Fn6FDcM+c2epoygLF8mRmYbfKDKj7PBuPhvHmsPXM/vu0jg5SAC0E6qncXr+ekHr1uT53HtnfeQe/oEAyVKxodSxlMQ93NzpV82NFn2oU98lM/4V7aTX5L05f0SZ2yZkWApUgkdeuce7DjzjTpStuGTNQeNZMcvf/GDcvL6ujqWSkcM4MzOpUka8blmTv2RvUHLGeyRtDtIldMqWFQMWLMYaby5YR8lY9bv7xBzl79MB34ULSlypldTSVTLm5CS1fLsjKftWoUiQnXy49yNvjtnD4ojaxS24cUghEpLaIHBaRYyLSP5b5r4rIDRHZbf8ZFN91lfUiLl3ibI+enOv3Pp558+K7YAHe7/XUJnEqXnyypGdyu3KMbF6a01fvUm/URkasPkJ4pDaxSy4S3WJCRNyBMUANbBey3y4iwcaYA48sutEYU+8p11UWMMZwfd48Qr//ARMZSa6PPiJ72zbaH0glmIjgXzofVZ/JyZAlBxix+ih/7L3I941fpFSBrFbHc3mOGBFUAI4ZY0KMMeHAbMA/CdZVThR++jSn32nPxUGfk654cfyCAsnxbnstAipRcmRMy8jmLzG5bTlu3Iug4djNfLX0APfCtYmdlRxRCPIBZ2LcP2uf9qhKIvKviPwhIi8kcF1EpLOI7BCRHWFhYQ6IrWJjoqK48suvhDTw5/7+/eT54gsK/voLaQoVsjqaSkXeLJ6blf2q0bxCQSZtPEHtkRvYevyK1bFcliMKQWy9Ax49NGAXUMgYUwoYBQQmYF3bRGMmGmPKGWPKeXt7P21W9Rj3jxzhZIuWhH73HRkqVrQ1iWumnUKVc2RO58nXDUsyq5PtsOMWk7bxycK93NQmdknOEf/DzwIFYtzPD5yPuYAx5qYx5rb99jLAU0Ryxmdd5XwmPJyw0WM48XZjIs6cIe+PP5J/3Fg88+SxOppyAZWK5GB572p0rubHnO2nqTlsA6sPXLI6lktxRCHYDhQVEV8RSQM0B4JjLiAiecTedUxEKti3eyU+6yrnurdnDyfebszl0aPJXKuWrUlcvbe0SZxKUunTuPNp3edZ1L0KWb086fjbDnrN+ocrtx9YHc0lJPqbP2NMpIj0BFYA7sBUY8x+Eelqnz8eaAx0E5FI4B7Q3NjOO4913cRmUk8Wfe8eYT+P4uq0aXh4e5N/3Fgyvfaa1bGUiytVICvBPasybt1xRq89ysajYQxu8AINSuXVDydOJCmxD0i5cuXMjh07rI6RYt3Z9hcXBg4k4swZsjZrRq4P3sc9UyarYyn1fxy5dIuP5u9h95nrvFEsF182LIFPlvRWx0rRRGSnMabco9P1W0AXEnXrFhcGfc7pd94BEQpOm4bPF4O1CKhk6dncmVjQrTID6xVny/Er1Bi2gRl/nSJa21Q4nBYCF3Hrz7WEvFWP6/Pnk/3dd21N4l6uYHUspR7L3U3oUNWXFX2qUapAFgYs2kfLyds4efmO1dFSFS0EqVzk1auc6/c+Z7t3xz1rVgrPmU3ujz7ELb0OsVXKUTCHF793eJnv3i7J/vM3qTViAxM3HCcySttUOIIWglTKGMONxUsIqfsWN1etIud7PfGdP4/0JUtaHU2ppyIiNCtfkNX9qlPtWW++XnaIRuO2cPDCTaujpXhaCFKhiAsXONu1G+c//BDPQgXxW7gA7x49EG0Sp1KB3JnTMbFNWUa3fIlz1+5Rf9Qmhq06woNIbVPxtLRxTCpioqO5PnceoT/8gImOJvcn/cnWujXi7m51NKUcSkSo92JeqhSxNbH7ec1R/th7ge8av0iZgtmsjpfi6IgglQg/eZLT7d7h4uDBpHuxJH7BQWRv106LgErVsmVIw/BmpfnlnfLceRDJ2+O2MHTJAe6GR1odLUXRQpDCmchIrkyZQoh/APcPHcLny6EUnDqVNAUKPHllpVKJ14rlYkXfarR+uRBTNp2g1ogNbD522epYKYYWghTs/uHDnGzegtAffiRD1ar4LVlC1saN9QxM5ZIypfNkaEAJ5nSuiIebG60m/8XH8/dw4542sXsSLQQpUHR4OGE//2xrEnf+PPmGDyP/6FF45s5ldTSlLPeyXw7+6P0KXasXYf6us9QYtp6V+y9aHStZ00KQwtzbvZsTjRpxeew4srxVF7+lS8hcp46OApSKIZ2nO/3rFCOwexVyZExL5+k76TFzF2G3tIldbLQQpBDRd+9y6ZtvONmiJdF37lJg4gTyfvcdHtn0CAml4lIyfxaCe1bhg5rPsmr/JWoMX8+if86SEnusOZMWghTgzpYthDTw5+q038jWojl+i4PJWK2a1bGUShE83d3o+XpRlvWuil/ODPSd8y/tf93Ouev3rI6WbGghSMaibt7k/IABnH63A+LuTqHpv5Fn0CDcM2a0OppSKc4zuTIxr2tlBtcvzt8nrlJz2Hqmbz2pTezQQpBs3Vq9mpC36nEjMIgcnTriGxSIV/nyVsdSKkVzdxPeqWJrYlemUDYGBu2n+cRthITdtjqapRxSCESktogcFpFjItI/lvmtRGSP/WeLiJSKMe+kiOwVkd0i4vIXGYi8fJmzffpytud7uOfIQeE5c8j1/vu4pUtndTSlUo0C2b347d0K/ND4RQ5dvEntkRsZt851m9glusWEiLgDY4Aa2K5BvF1Ego0xB2IsdgKoboy5JiJ1gInAyzHmv2aMcemzP4wx3AwO5tLX3xB99y7effqQo8O7iKen1dGUSpVEhCblClD9WW8GBu3ju+WHWLr3PN+/XYrieTNbHS9JOWJEUAE4ZowJMcaEA7MB/5gLGGO2GGOu2e9uw3aRemUXcf48Z7p04fzH/Unj64tv4CJydu2iRUCpJJArczomtCnHuFZluHjjAQ1Gb+LHFYe5H+E6TewcUQjyAWdi3D9rnxaXDsAfMe4bYKWI7BSRznGtJCKdRWSHiOwICwtLVODkwkRHc3XmTELq1efujp3kHjCAQjN+J22RIlZHU8rl1Cnpw+p+1fAvnY/Ra4/x1s8b2XnqqtWxkoQjCkFsZzLF+jW8iLyGrRB8HGNyFWNMGaAO0ENEYj0u0hgz0RhTzhhTztvbO7GZLfcg5ASn2rTl0pChpC9dGr/gYLK30U6hSlkpq1cafmpaimnvVuB+RDSNx29lcPB+7jxI3U3sHFEIzgIxO5zlB84/upCIvAhMBvyNMVceTjfGnLf/DgUWYdvVlGqZyEguT5zEiYAAHhw9is/XX1NgymTS5H/cIEoplZSqP+vNir7VaFuxENO2nqTm8A1sOJI69kTExhGFYDtQVER8RSQN0BwIjrmAiBQEFgJtjDFHYkzPICKZHt4GagL7HJApWbp/8CAnmzYjbNgwMlavjt+SxWRt1FDbQyiVDGVM68EX/iWY26USaT3daDv1bz6Y9y837qa+JnaJPmrIGBMpIj2BFYA7MNUYs19EutrnjwcGATmAsfY3vUhjTDkgN7DIPs0DmGmMWZ7YTMlN9IMHXB47jiuTJ+OeLRv5Ro4kc62aVsdSSsVD+cLZWdbrFUb9eZTx60NYfySMof4vULuEj9XRHEZSYs+NcuXKmR07UsYpB3d37eLCZwMJDwkhS0AAuft/jHvWrFbHUko9hf3nb/DR/D3sP3+TOiXy8IX/C+TKlHLO8RGRnfYP4f+HXqrSSaLv3CF0+AiuzZiBh08eCkyaRMZXqlodSymVCC/kzUJgjypM2hjCiNVH2XL8Cp+99TyNy+ZP0bt4tcWEE9zetJmQ+g24NmMG2Vq2xC94sRYBpVIJT3c3ur/6DH/0foVnc2fkw/l7aDv1b85cvWt1tKemhcCBoq5f5/wnn3KmY0ckbVoK/T6dPAM/wz1jBqujKaUcrIh3RuZ0rsQQ/xfYdeoatUZs4NfNJ1JkEzstBA5yc8VKjterz43gYHJ06YJv4CK8ypa1OpZSyonc3IS2lQqzom81yhXOzuDFB2g6YSvHQlNWEzstBIkUGRbG2V69Ode7Nx65vPGdP49cffvgljat1dGUUkkkfzYvprUvz09NSnEs7DZ1R25kzNpjRKSQJnZaCJ6SMYbrCxdxvF59bq9bh3e/fvjOmUO655+3OppSygIiwttl87Oqb3VqFM/NDysO4z96M/vO3bA62hNpIXgK4WfPcaZDRy58+ilpn3kG38BAcnbupE3ilFJ4Z0rLmFZlGN+6LGG3H+A/ZjPfLT+UrJvY6eGjCWCio7k2Yyahw4cjQO6Bn5GtRQvETeupUur/ql0iD5X8cvDVsgOMW3ecFfsu8l3jFylfOLvV0f5D38Hi6cHx45xq1ZpLX32FV5ky+C0OJnurVloElFJxyuLlyfeNS/F7h5cJj4qmyfitDArax+1k1sRO38WewEREcHn8BE4ENCQ8JASfb7+hwKSJeObTJnFKqfipWjQnK/pU490qvkzfdopawzew7nCo1bH+RwvBY9zbv58TTZsRNmIEGd94A7+lS8gaEJCizyBUSlkjQ1oPBtUvzvyulUmfxp13ftlOv7m7uXYn3OpoWghiE33/PqE/DeNk02ZEXg4j36ifyT9iOB45c1odTSmVwpUtlI2lvarS6/VnCN59nhrD17N0zwWs7PumheARd3fs4ERAQ65MmkSWAH+KLFlC5ho1rI6llEpF0nq406/mcwT3rIpPlvT0mLmLLtN3EnrzviV5tBDYRd2+w8UhQzjVug0mIoKCU6eQ96uvcM+SxepoSqlUqnjezCzqXplP6hRj/ZEw3hi2nrnbzyT56EALAXB7wwZC6tfn2qzZZGvbBr/gIDJUrmx1LKWUC/Bwd6NL9SL80fsVnvfJzEcL9tBmStI2sXPpQhB57RrnP/6YM5274OblRaGZM8jz6ae4ZdAmcUqppOXnnZHZnSryZUAJdp+5Ts3hG5i66QRRSdDEziGFQERqi8hhETkmIv1jmS8i8rN9/h4RKRPfdZ3BGMPN5csJqVefG0uXkbN7N3wXLcTrpZeSYvNKKRUrNzehdcVCrOxbjYp+2Rmy5ACNx2/h6KVbzt1uYh9ARNyBMUAdoDjQQkSKP7JYHaCo/aczMC4B6zpUxKVQzr73Huf69MUzTx5858/Du1cv3NKkceZmlVIq3vJmTc/Ud8ozollpTl6+w1s/b+LnNUcJj3ROEztHjAgqAMeMMSHGmHBgNuD/yDL+wG/GZhuQVUR84rmuw1wfPYCQWm9wZ+Mmcn34AYXnzCZdsWLO2pxSSj01ESHgpXys6ledWiXyMGLDBir/2oxNJ445fFuOKAT5gDMx7p+1T4vPMvFZFwAR6SwiO0RkR1hY2FMFjbpwhnSZ7uLb4D45quZFPLTVklIqecuS3o3iz28jc5HRhLud4dK9sw7fhiMKQWyn2T767UZcy8RnXdtEYyYaY8oZY8p5e3snMKJN9iG/UHDmbNL6ZIdZzWH+u3Dn8lM9llJKOdvesL00XdKUsf+OpVbhmqxptpS3i7/q8O044iPxWaBAjPv5gfPxXCZNPNZ1GHF3hwLlofM62DQcNvwAx9dCne+hZGPQ1hFKqWTgXuQ9xvwzhukHp5MzfU5Gvz6a6gWqO217jhgRbAeKioiviKQBmgPBjywTDLS1Hz1UEbhhjLkQz3UdzyMNvPoxdN0I2f1gYUeY2QxuOH7IpZRSCfH3hb9pFNSIaQem0bhoYwL9A51aBMABIwJjTKSI9ARWAO7AVGPMfhHpap8/HlgG1AWOAXeB9o9bN7GZ4i3X89BhJfw1Af4cCmMqQo0voGx70PbSSqkkdCv8FsN2DmP+kfkUzFSQqbWmUj5P+STZtljZ6OhplStXzuzYscOxD3r1BCzuDSfWQ6Gq0OBnyFHEsdtQSqlYrDuzjqFbh3L5/mXaFW9Ht9LdSO+R3uHbEZGdxphyj07Xj70PZfeFtkHQYBRc3AvjKsPmkRCVvC4goZRKPa7ev8pH6z/ivT/fI0u6LMysO5N+5fo5pQg8jh4/GZMIlGkLz9SApe/DqkGwfxE0GA15SlidTimVShhjWHZiGd/+/S23I27To3QPOpTogKe7Ndc91xFBbDL7QPMZ0PgXuH4GJlaHP7+CyAdWJ1NKpXAX71yk55896b+xPwUzF2RevXl0LdXVsiIAOiKImwiUaAR+r8LyT2DD93Aw2DY6KJA0X+AopVKPaBPN/CPzGbZzGNEmmo/Lf0yLYi1wd3O3OpqOCJ7IKzs0mgCt5sOD2zClhq0whN+xOplSKoU4dfMUHVZ0YOi2oZTIWYIFDRbQunjrZFEEQEcE8Ve0BnTfCmu+gG1j4dASqP8zFHnN6mRKqWQqMjqS6QemM2b3GNK4pWFI5SEEPJP8rnuuI4KESJcZ3voJ3lkGbp4wPQCCesC961YnU0olM4evHqb1stYM2zmMynkrExgQSMOiDZNdEQAdETydwlWg22ZY9y1sGQVHV9sKxPP1rE6mlLJYeFQ4E/dMZMreKWROm5kfq/9IzUI1k2UBeEhHBE/LM73tLOROayCDN8xpBXPbwe1Qq5MppSzyb9i/NF3clAl7JlDHtw5B/kHUKlwrWRcB0BFB4uV9CTqvtZ18tv4725nJtb+FF5tpEzulXMTdiLuM+mcUMw7OIHeG3Ix9Yyyv5H/F6ljxpiMCR3D3hGofQNdNkKMoLOoCMxrbzkFQSqVqW89vpVFwI34/+DvNnmtGoH9giioCoIXAsbyfg3eX29pan9oKYyvC35Mg2jmXl1NKWedm+E0GbR5E51Wd8XDz4NfavzKg4gAyeGawOlqCaSFwNDd3eLmL7VDT/OVh2Qfwa124fNTqZEopB1lzeg0BgQEEHw+mQ4kOzK8/n7K5y1od66lpIXCWbIWgzSLwHwuhB2BcFdg4TJvYKZWCXb53mffXvU+ftX3IkT4HM9+aSZ+yfUjnkc7qaImiXxY7kwi81AqeeROWvW87Ge1AoK1Nhc+LVqdTSsWTMYYlIUv4bvt33I24S6+XevFOiXfwdLOuP5Aj6YggKWTKDc1+h6a/wc0LMPFVWDMEIu5bnUwp9QQXbl+g25pufLrpU3wz+zK/wXw6vdgp1RQBSGQhEJHsIrJKRI7af2eLZZkCIrJWRA6KyH4R6R1j3mAROSciu+0/dROTJ9kr7g89/rIdWrrxJ5jwCpzeZnUqpVQsok00sw7NIiAogF2XdtG/Qn+m1ZmGXxY/q6M5XGJHBP2BNcaYosAa+/1HRQLvG2OeByoCPUSkeIz5w40xpe0/yxKZJ/nzyg4Nx0HrBRBxD6bWhmUf2RraKaWShRM3TtB+eXu+/utrSnmXYpH/Ilo93wo3SZ07URL7r/IHptlvTwMCHl3AGHPBGLPLfvsWcBDIl8jtpnzPvGk7sqhCJ/h7IoytBMfWWJ1KKZcWGR3J5L2TaRzcmKPXjzK0ylAm1JhAvoyp+y0rsYUgtzHmAtje8IFcj1tYRAoDLwF/xZjcU0T2iMjU2HYtxVi3s4jsEJEdYWFhiYydTKTNBHV/sJ174JEWfm8Egd3h7lWrkynlcg5dPUTLpS0ZuWsk1QtUJzggOFl2CnWGJ168XkRWA3limTUAmGaMyRpj2WvGmFjfzEUkI7Ae+MoYs9A+LTdwGTDAUMDHGPPuk0I75eL1Vou4b7v4zaYR4JUD3vrR9p2CUsqpHkQ9YMK/E5i6bypZ02ZlQMUB1ChUw+pYThHXxeufePioMebNxzzoJRHxMcZcEBEfINaOayLiCSwAZjwsAvbHvhRjmUnAkiflSbU808Ebg6B4gK219dy28HwDqPuj7agjpZTD/RP6D4M2D+LkzZP4F/Hnw/IfkiVtFqtjJbnE7hoKBtrZb7cDgh5dQGzjqinAQWPMsEfm+cS42xDYl8g8KZ/Pi9DpT3jjcziyAsaUh39mwBNGbkqp+LsbcZdv/vqGdn+0IzwqnAlvTuDLql+6ZBGAeOwaeuzKIjmAuUBB4DTQxBhzVUTyApONMXVFpCqwEdgLPGy686kxZpmITAdKY9s1dBLo8vA7h8dJlbuGYnP5KAS/B6e3gt9rUH+k7YxlpdRT23JuC19s/YILdy7QolgLepfpjZenl9WxkkRcu4YSVQis4jKFAGwN63ZMgdWDbaOCNz+H8p3ALXUexqaUs9x4cIMftv9A0PEgfLP48kXlL3gp10tWx0pScRUCfTdJ7tzcbIeYdt8KhSrBHx/BL7Uh7LDVyZRKMVadWoV/oD9LQpbQqWQn5tWf53JF4HG0EKQUWQtCq/nQcAJcPgLjq8KGHyEqwupkSiVbYXfD6Lu2L/3W9SOXVy5m15tNrzK9SOue1upoyYo2nUtJRKBUcyjyOiz7EP4cCvsDwX805C1tdTqlkg1jDEHHg/h++/c8iHxAnzJ9aPdCOzzc9C0vNjoiSIky5oKm02yN7O6EwqTXYdXntpYVSrm4c7fP0WVVFwZuHkjRrEWZ32A+HUp20CLwGPrMpGTP14fCVWHlZ7B5BBxaAg1GQaHKVidTKsk9bBI3ctdIBGHAywNo+lzTVNsfyJH0GUrp0mcD/zHQJhCiwuGXOrD0fXhwy+pkSiWZkOshtPujHd/+/S1lcpch0D+Q5sWaaxGIJx0RpBZFXoPu2+DPL2HbODi8HOqPgKKp81R5pQAioiP4dd+vjPt3HF6eXnxd9Wvq+dVzif5AjqTlMjVJkwFqfwMdVtpuz2gMC7toEzuVKh24coAWS1rw8z8/83rB1wn0D6R+kfpaBJ6CjghSowIVoOtG2+Glm4bB8TW2LqfFA2xHHimVgt2PvM+4f8cxbf80sqXLxojXRvBGwTesjpWi6YggtfJIC68PgM7rIHM+mPcOzGltu1SmUinUzks7abK4CVP3TcX/GX8C/QO1CDiAFoLULk9J6LgGagyBY6thzMuw6zdtYqdSlDsRd/hy25e8s/wdIqIjmFhjIl9U/sJlm8Q5mhYCV+DuAVV6Q7ctkKeErZHdb/5w9YTVyZR6oo1nNxIQFMDcw3Np/XxrFjZYSKW8layOlapoIXAlOYpAuyXw1jA4twvGVYatYyE6yupkSv3H9fvX+XTjp3Rf050MHhmYXnc6H1f42GU6hSYl/bLY1bi5QfkO8GwtWNIXVnwC+xdCg9GQq5jV6ZTCGMOKUyv45q9vuPngJl1e7ELnFzuTxj2N1dFSLR0RuKos+aHlXGg0Ca4chwmvwPrvITLc6mTKhYXeDaXP2j58uP5D8mTIw+x6s+n5Uk8tAk6WqBGBiGQH5gCFsV1Ypqkx5losy50EbgFRQOTDftjxXV85iQi82NR20ZvlH8Par+xN7EZBvrJWp1MuxBjDomOL+HH7j4RHh9OvbD/aFG+j/YGSSGJHBP2BNcaYosAa+/24vGaMKf3IRRESsr5yloze0HgqNJ8F967C5Ddh5UAIv2t1MuUCztw6Q6dVnfh8y+c8l/05FjRYQPsS7bUIJKHEXqryMPBqjIvXrzPGPBfLcieBcsaYy0+z/qNc6gplSe3+DVsR2DUNsvvZmtgVrmp1KpUKRUVHMfPQTEb9Mwo3caNf2X40frax9gdyIqdcqlJErhtjssa4f80Yky2W5U4A17Bdm3iCMWZiQta3z+sMdAYoWLBg2VOnTj11bhUPIethcS+4dhLKvQtvfgHpMludSqUSx64d4/Mtn7Pn8h6q5a/GwIoDyZMhj9WxUr24CsETx14ishqI7S80IAHbr2KMOS8iuYBVInLIGLMhAetjLx4TwTYiSMi66in4VYduW23fG2wbC0dWQL3htqONlHpKEVERTNk3hQl7JpDRMyPfvvItdX3ran8giz2xEBhj3oxrnohcEhGfGLt2QuN4jPP236EisgioAGwA4rW+skgaL6j1FbzQEIJ6wsymULIJ1P4WMuS0Op1KYfZd3segLYM4eu0odQrXof/L/cmeLrvVsRSJ/7I4GGhnv90OCHp0ARHJICKZHt4GagL74ru+Sgbyl4MuG6B6f9tRRWMqwN752qZCxcu9yHsM2zGMVstaceP+DX5+7We+r/69FoFkJLHfEeQA5gIFgdNAE2PMVRHJC0w2xtQVET9gkX0VD2CmMearx63/pO3ql8UWurTfNjo4vwuerQP1hkHmvFanUsnU9ovbGbxlMKdvnabxs43pV7YfmdJksjqWy3LKl8VW0UJgsego28Vv/vwS3D2h5lAo005bXKv/uRV+i+E7hzPvyDwKZCrA4EqDqeBTwepYLi+uQqDHaamEc3OHyj2h+xbwKQWLe8O0+nA1xOpkKhnYcHYDAUEBLDi6gHbF27GgwQItAsmcFgL19LL7QbvFUH8kXPgXxlaGLaO1iZ2Lunr/Kh9v+Jgea3qQOU1mfq/zOx+U/4D0HumtjqaeQE/dU4kjAmXfgaI1YUk/WDng/zexy13c6nQqCRhjWH5yOd/89Q23Im7RvVR3OpbsiKe7p9XRVDzpiEA5Rua80GIWvD3FdhLahGqw9httYpfKXbpziV5/9uKjDR+RP1N+5tabS7fS3bQIpDA6IlCOIwIlG9ub2PWH9d/CgSDwHwP5tYldahJtollwdAHDdgwjMjqSD8t9SKvnW+Hu5m51NPUUdESgHC9DDnh7kq3N9YObMOVNWDFAm9ilEqdvnqbjyo4M2TqE4jmKs7DBQtq+0FaLQAqmIwLlPM/Wgu7bYPXnsHU0HFpia2LnW83qZOopREVH8fvB3xn9z2g83DwYXGkwjYo20vYQqYCOCJRzpcts61H0zlIQN9thpsG9bF1OVYpx9NpRWi9rzY87fqSiT0UC/QN5+9m3tQikEjoiUEmjcFXouhnWfWMbHRxdabt2crG6VidTjxERFcGkvZOYtHcSmdNk5odqP1CrcC0tAKmMjghU0knjZTsLueMaSJ8dZreAee3hdpjVyVQs9obtpemSpoz7dxy1Ctci0D+Q2r61tQikQjoiUEkvXxnovA42j4QN30PIOqjzna2zqb7JWO5uxF3G7B7D7wd/xzu9N2PeGEO1/Pq9TmqmIwJlDY80UP1D6LIRchSBhZ1gZjO4cdbqZC7trwt/8Xbw2/x24DeaPNuEQP9ALQIuQAuBslauYvDuCts1Dk5uhDEVYfsUiI62OplLuRl+k8FbBtNxZUfcxI2ptabyWcXPyJgmo9XRVBLQQqCs5+YOFbtBty223UZL+9mOLrpy3OpkLmHt6bU0DGzIomOLaF+iPQsaLKB8nvJWx1JJSAuBSj6y+0LbIFufoot7YVxl2/cIUZFWJ0uVrty7wofrP6TX2l5kTZeVmXVn0q9sP9J5pLM6mkpi+mWxSl5EoEwbeOZNWPYBrBoE+xaC/2jIU9LqdKmCMYalJ5by3d/fcSfiDj1L9+Tdku/i6ab9gVxVokYEIpJdRFaJyFH772yxLPOciOyO8XNTRPrY5w0WkXMx5ulB5comsw80+x2a/Ao3z8HEV20Xwol8YHWyFO3inYv0WNODTzZ+QsHMBZlXfx5dSnXRIuDiEnupyu+Bq8aYb0WkP5DNGPPxY5Z3B84BLxtjTonIYOC2MebHhGxXr1DmYu5ehRWfwr+zIOdzttFBAb3QSUJEm2jmHZ7H8F3DiTbR9HqpFy2KtdD+QC7GWVco8wem2W9PAwKesPwbwHFjzKlEble5Eq/s0HA8tJoP4XdgSk34o7/ttnqiUzdP8e6Kd/nyry8pmbMkCxsspHXx1loE1P8kthDkNsZcALD/zvWE5ZsDsx6Z1lNE9ojI1Nh2LT0kIp1FZIeI7AgL0zNRXVLRGtBjG5TvCH+Ng7EV4fhaq1MlW5HRkUzdN5W3g9/myNUjDKk8hIk1JpI/U36ro6lk5om7hkRkNZAnllkDgGnGmKwxlr1mjIn1zVxE0gDngReMMZfs03IDlwEDDAV8jDHvPim07hpSnNoCwe/BlWPwUmuo+SWkj/NzhMs5fPUwg7YM4sCVA7xe4HUGVBxALq8nfU5TqV1cu4aeeNSQMebNxzzoJRHxMcZcEBEfIPQxD1UH2PWwCNgf+3+3RWQSsORJeZQCoFBlWxO79d/C5p/h6Cp46yd4vr7VySwVHhXOhD0TmLp3KpnTZuan6j9Ro1AN7Q+kHiuxu4aCgXb22+2AoMcs24JHdgvZi8dDDYF9icyjXIlnOnhzMHT6EzLmgjmtYW47uP24zyOp1+7Q3TRZ3ISJeyZS168uQf5B1CxcU4uAeqLEHjWUA5gLFAROA02MMVdFJC8w2RhT176cF3AG8DPG3Iix/nSgNLZdQyeBLg+/c3gc3TWk/iMqwnby2frvwNPL1rKiVHOXaGJ3N+Iuo/4ZxYyDM8iTIQ+DKg2iar6qVsdSyVBcu4YSVQisooVAxSnsCAT3hDN/2U5KqzcCshawOpXTbDm/hSFbh3Du9jmaP9ecPmX7kMEzg9WxVDLlrMNHlUpevJ+F9suhzg9waqvtyKK/J6W6JnY3Htxg0OZBdFllOxns19q/MqDiAC0C6qloIVCpj5sbvNwZum+1nXi27AP4tS5cPmp1ModYc2oNAUEBBB8PpmPJjsxvMJ+yuctaHUulYFoIVOqVrRC0XggB4yD0IIyrAhuH2b5PSIEu37tMv3X96LOuDznT52TmWzPpXaY3ad3TWh1NpXDadE6lbiJQuiUUecM2MljzBexfZGtT4VPK6nTxYoxhcchivvv7O+5H3qd3md60e6Gd9gdSDqMjAuUaMuWGZtOh6W9w6yJMfA3WDIGI+1Yne6zzt8/TbXU3BmwagF8WP+Y1mEfHkh21CCiH0hGBci3F/aHwK7DyM9j4ExwIto0OCla0Otn/EW2imXN4DiN2jsBg+KTCJzQv1hw30c9uyvH0VaVcj1d2CBhr+/4g8gFMrQ3LPoIHt61OBsCJGydov7w9X//1NS/leolA/0BaPt9Si4ByGh0RKNf1zBu2I4v+HAp/TYDDy6D+CNv5BxaIiI5g2v5pjNs9jnQe6fiyypc0KNJAzwxWTqcfMZRrS5sR6nwH7y4Hz/Tw+9uwqJvtGghJ6OCVg7Ra2oqRu0ZSvUB1ggKC8H/GX4uAShI6IlAKbN8RdNkIG36ATcPh2Gp460fbdwpO9CDqAeP/Hc8v+34ha9qsDH91OG8WsmZEolyXjgiUesgzHbwxEDqvg0x5YG5bWyO7Wxedsrl/Qv+hcXBjJu+dTP0i9QkKCNIioCyhIwKlHuXzInRaC1tHwdpv4EQFqPWN7XwEB+yquRNxh5G7RjL70GzyZszLhDcnUDlfZQcEV+rp6IhAqdi4e0DVvtBtC+R6AYK6w/SGcC1xV1ndfG4zDYMaMvvQbFo+35KFDRZqEVCW00Kg1OPkfAbeWQp1f4Sz22FsJdg2HqKjEvQwNx7cYMCmAXRd3ZV0Hun4rc5v9K/QHy9PLycFVyr+tBAo9SRublChE3TfBoUqwfKP4Zc6EHY4XquvPLmSBoENWBayjE4lOzGv/jxK5yrt3MxKJYAWAqXiK2sBaDUfGk6Ay0dgfFXbUUZxNLELuxtG37V9eX/9++T2ys2serPoVaaXNolTyU6iCoGINBGR/SISLSL/udhBjOVqi8hhETkmIv1jTM8uIqtE5Kj9t159XCVvIrYrn/X4G4q9BX9+aetbdH73/xYxxrDo6CL8g/zZcHYDfcr0YeZbMymWvZh1uZV6jMSOCPYBjYANcS0gIu7AGGwXry8OtBCR4vbZ/YE1xpiiwBr7faWSv4y5oMmv0GwG3AmDSa/Dqs85d+04XVZ1YdCWQRTNWpQFDRbQoWQHPNz0AD2VfCXq1WmMOQg86ezHCsAxY0yIfdnZgD9wwP77Vfty04B1wMeJyaRUknq+HhSuCis/Y/nuiQw6txDxSMdnL39Gk+eaaH8glSIkxas0H7YL1z901j4NIPfDi9Xbf+eK60FEpLOI7BCRHWFhYU4Lq1SCpc8K/qMpXOsHXnbLSGD9+TQr1kyLgEoxnjgiEJHVQJ5YZg0wxgTFYxuxDRdMPNb7vysYMxGYCLaL1yd0faWcrdiLrRn1YmurYyiVYE8sBMaYxJ7zfhYoEON+fuC8/fYlEfExxlwQER8gNJHbUkoplUBJMXbdDhQVEV8RSQM0B4Lt84KBdvbb7YD4jDCUUko5UGIPH20oImeBSsBSEVlhn55XRJYBGGMigZ7ACuAgMNcYs9/+EN8CNUTkKFDDfl8ppVQSEmNS3u72cuXKmR07dlgdQymlUhQR2WmM+c85X3pYg1JKuTgtBEop5eK0ECillIvTQqCUUi4uRX5ZLCJhwNNeISQncNmBcRxFcyWM5koYzZUwyTUXJC5bIWOM96MTU2QhSAwR2RHbt+ZW01wJo7kSRnMlTHLNBc7JpruGlFLKxWkhUEopF+eKhWCi1QHioLkSRnMljOZKmOSaC5yQzeW+I1BKKfV/ueKIQCmlVAxaCJRSysWlykIgIk1EZL+IRItInIdZiUhtETksIsdEpH+M6dlFZJWIHLX/zuagXE98XBF5TkR2x/i5KSJ97PMGi8i5GPPqJlUu+3InRWSvfds7Erq+M3KJSAERWSsiB+1/894x5jn0+Yrr9RJjvojIz/b5e0SkTHzXdXKuVvY8e0Rki4iUijEv1r9pEuV6VURuxPj7DIrvuk7O9WGMTPtEJEpEstvnOeX5EpGpIhIqIvvimO/c15YxJtX9AM8Dz2G7BnK5OJZxB44DfkAa4F+guH3e90B/++3+wHcOypWgx7VnvIjtJBCAwcAHTni+4pULOAnkTOy/y5G5AB+gjP12JuBIjL+jw56vx71eYixTF/gD21X5KgJ/xXddJ+eqDGSz367zMNfj/qZJlOtVYMnTrOvMXI8sXx/4Mwmer2pAGWBfHPOd+tpKlSMCY8xBY8zhJyxWAThmjAkxxoQDswF/+zx/YJr99jQgwEHREvq4bwDHjTFPexZ1fCX232vZ82WMuWCM2WW/fQvbNS/yPbqcAzzu9RIz72/GZhuQVWxX3ovPuk7LZYzZYoy5Zr+7DdtVAp0tMf9mS5+vR7QAZjlo23EyxmwArj5mEae+tlJlIYinfMCZGPfP8v/fQHIbYy6A7Y0GyOWgbSb0cZvz3xdhT/vQcKqjdsEkIJcBVorIThHp/BTrOysXACJSGHgJ+CvGZEc9X497vTxpmfis68xcMXXA9snyobj+pkmVq5KI/Csif4jICwlc15m5EBEvoDawIMZkZz1fT+LU19YTr1mcXInIaiBPLLMGGGPic8lLiWVaoo+lfVyuBD5OGqAB8EmMyeOAodhyDgV+At5NwlxVjDHnRSQXsEpEDtk/yTw1Bz5fGbH9h+1jjLlpn/zUz1dsm4hl2qOvl7iWccpr7Qnb/O+CIq9hKwRVY0x2+N80Abl2Ydvtedv+/U0gUDSe6zoz10P1gc3GmJif1J31fD2JU19bKbYQGGPeTORDnAUKxLifHzhvv31JRHyMMRfsw69QR+QSkYQ8bh1glzHmUozH/t9tEZkELEnKXMaY8/bfoSKyCNuwdAMWP18i4omtCMwwxiyM8dhP/XzF4nGvlyctkyYe6zozFyLyIjAZqGOMufJw+mP+pk7PFaNgY4xZJiJjRSRnfNZ1Zq4Y/jMid+Lz9SROfW258q6h7UBREfG1f/puDgTb5wUD7ey32wHxGWHER0Ie9z/7Ju1vhg81BGI9wsAZuUQkg4hkengbqBlj+5Y9XyIiwBTgoDFm2CPzHPl8Pe71EjNvW/sRHhWBG/ZdWvFZ12m5RKQgsBBoY4w5EmP64/6mSZErj/3vh4hUwPZ+dCU+6zozlz1PFqA6MV5zTn6+nsS5ry1Hf/udHH6w/ac/CzwALgEr7NPzAstiLFcX21Emx7HtUno4PQewBjhq/53dQblifdxYcnlh+w+R5ZH1pwN7gT32P7ZPUuXCdlTCv/af/cnl+cK2m8PYn5Pd9p+6zni+Ynu9AF2BrvbbAoyxz99LjCPW4nqtOeh5elKuycC1GM/Pjif9TZMoV0/7dv/F9iV25eTwfNnvvwPMfmQ9pz1f2D70XQAisL13dUjK15a2mFBKKRfnyruGlFJKoYVAKaVcnhYCpZRycVoIlFLKxWkhUEopF6eFQCmlXJwWAqWUcnH/D9zx4hfryb3AAAAAAElFTkSuQmCC\n",
      "text/plain": [
       "<Figure size 432x288 with 1 Axes>"
      ]
     },
     "metadata": {
      "needs_background": "light"
     },
     "output_type": "display_data"
    }
   ],
   "source": [
    "sq = ngon(4)\n",
    "print(sq[0])\n",
    "print(sq)\n",
    "plt.plot(*sq.T)"
   ]
  },
  {
   "cell_type": "code",
   "execution_count": 88,
   "metadata": {},
   "outputs": [],
   "source": [
    "#@jit(fastmath=True)\n",
    "def atanp(p1):\n",
    "        return np.arctan2(p1[1],p1[0])\n",
    "# Adapted from Sander Verdonschot's code from https://cglab.ca/~sander/misc/ConvexGeneration/convex.html\n",
    "#@jit('double[:,:,::1](int32)',fastmath=True,parallel=True,forceobj=True)\n",
    "def rand_convex(n):\n",
    "    xs = np.array([])\n",
    "    ys = np.array([])\n",
    "    \n",
    "    xs = np.sort(rng.random(n)*2-1)\n",
    "    ys = np.sort(rng.random(n)*2-1)\n",
    "\n",
    "    xmin = np.min(xs)\n",
    "    xmax = np.max(xs)\n",
    "    ymin = np.min(ys)\n",
    "    ymax = np.max(ys)\n",
    "    \n",
    "    xv = np.array([])\n",
    "    yv = np.array([])\n",
    "    lastTop = xmin\n",
    "    lastBot = xmin\n",
    "    for x in xs:\n",
    "        if rng.choice([True,False]):\n",
    "            xv = np.append(xv,x-lastTop)\n",
    "            lastTop = x\n",
    "        else:\n",
    "            xv = np.append(xv,lastBot-x)\n",
    "            lastBot = x\n",
    "    xv = np.append(xv,xmax-lastTop)\n",
    "    xv = np.append(xv,lastBot-xmax)\n",
    "    \n",
    "    lastTop = ymin\n",
    "    lastBot = ymin\n",
    "    for y in ys:\n",
    "        if rng.choice([True,False]):\n",
    "            yv = np.append(yv,y-lastTop)\n",
    "            lastTop = y\n",
    "        else:\n",
    "            yv = np.append(yv,lastBot-y)\n",
    "            lastBot = y\n",
    "    yv = np.append(yv,ymax-lastTop)\n",
    "    yv = np.append(yv,lastBot-ymax)\n",
    "    \n",
    "    rng.shuffle(yv)\n",
    "    \n",
    "    vec = np.vstack((xv,yv)).T\n",
    "    vec = sorted(vec,key=atanp)\n",
    "    \n",
    "    minx, miny = -1,-1\n",
    "    p0 = np.array([0,0])\n",
    "    p = np.array([0,0])\n",
    "    p0s = np.array([p0])\n",
    "    \n",
    "    for v in vec[:-1]:\n",
    "        p = p+v\n",
    "        minx = min(minx,p[0])\n",
    "        miny = min(miny,p[1])\n",
    "    \n",
    "    off = np.array([xmin - minx,ymin - miny])\n",
    "    \n",
    "    for v in vec[:-1]:\n",
    "        p0 = p0+v+off\n",
    "        p0s = np.append(p0s,[p0],axis=0)\n",
    "    p1s = np.array([p0s[1]])\n",
    "    for i in prange(n-1):\n",
    "        i2 = (i+2)%n\n",
    "        p1s = np.append(p1s,[p0s[i2]],axis=0)\n",
    "    return np.array(list(zip(p0s,p1s)))"
   ]
  },
  {
   "cell_type": "code",
   "execution_count": 89,
   "metadata": {},
   "outputs": [
    {
     "data": {
      "text/plain": [
       "array(float64, 2d, C)"
      ]
     },
     "execution_count": 89,
     "metadata": {},
     "output_type": "execute_result"
    }
   ],
   "source": [
    "nb.typeof(rand_convex(4)[0])"
   ]
  },
  {
   "cell_type": "code",
   "execution_count": 90,
=======
   "execution_count": 8,
>>>>>>> parent of 1492915... last commit of the draft
   "metadata": {},
   "outputs": [],
   "source": [
    "#@jit(fastmath=True,parallel=True)\n",
    "def circle_arcs(n):\n",
    "    @vectorize\n",
    "    def f(t):\n",
    "        return np.array([np.cos(t),np.sin(t)])\n",
    "    fs = []\n",
    "    ns = []\n",
    "    tbounds = []\n",
    "    for i in prange(n):\n",
    "        fs.append(f)\n",
    "        ns.append(f)\n",
    "        tbounds.append((2*np.pi/i,2*np.pi/(i+1)))\n",
    "    return (fs,ns,tbound)"
   ]
  },
  {
   "cell_type": "code",
<<<<<<< HEAD
   "execution_count": 91,
=======
   "execution_count": 9,
>>>>>>> parent of 1492915... last commit of the draft
   "metadata": {},
   "outputs": [],
   "source": [
    "#@jit(fastmath=True,parallel=True,forceobj=True)\n",
    "def polar_curve(r,rprime):\n",
    "    rhat = lambda t: np.array([np.cos(t),np.sin(t)])\n",
    "    that = lambda t: rhat(t+np.pi/2)\n",
    "    f = lambda t: r(t)*np.array([np.cos(t),np.sin(t)])\n",
    "    n = lambda t: -r(t)*rhat(t)+rprime(t)*that(t)\n",
    "    tbound = (0,2*np.pi)\n",
    "    return ([f],[n],[tbound])"
   ]
  },
  {
   "cell_type": "markdown",
   "metadata": {},
   "source": [
    "General Hit Algorithms"
   ]
  },
  {
   "cell_type": "code",
<<<<<<< HEAD
   "execution_count": 92,
=======
   "execution_count": 10,
>>>>>>> parent of 1492915... last commit of the draft
   "metadata": {},
   "outputs": [],
   "source": [
    "#@jit(fastmath=True,parallel=True)\n",
    "def line_hit(x,v,p0,p1):\n",
    "    dp = p0-p1#np.subtract(p0,p1)\n",
    "    a = np.vstack((v,dp)).T\n",
    "    b = p0-x#np.subtract(p0,x)\n",
    "    t = np.linalg.solve(a,b)\n",
    "    nx = x+t[0]*v #np.add(x,np.multiply(t[1],v))\n",
    "    p = p0-t[1]*dp#np.add(p0,np.multiply(t[0],dp))\n",
    "    if t[1] < 1 and t[1] > 0 and t[0] > 0 and np.linalg.norm(p-nx) < error:\n",
    "        n = np.array([-dp[1],dp[0]])\n",
    "        return True, (p,n,(x,v,t[0]))\n",
    "    else:\n",
    "        return False, ()"
   ]
  },
  {
   "cell_type": "code",
<<<<<<< HEAD
   "execution_count": 93,
=======
   "execution_count": 11,
>>>>>>> parent of 1492915... last commit of the draft
   "metadata": {},
   "outputs": [],
   "source": [
    "#@jit(fastmath=True,parallel=True)\n",
    "def curve_hit(x,v,f,n,tbound):\n",
    "    def g(st):\n",
    "        return (x+v*st[0])-f(st[1])\n",
    "    hit,_,_,i,m = fsolve[f,[1,0.5*tbound[0]+0.5*tbound[1]]]\n",
    "    if i == 1:\n",
    "        r = normalize(n(hit[1]))\n",
    "        p = x+v*hit[0]\n",
    "        return True, (p,r,(x,v,st[1]))\n",
    "    return False, ()"
   ]
  },
  {
   "cell_type": "markdown",
   "metadata": {},
   "source": [
    "Filtering specific hits of piecewise curves/shapes"
   ]
  },
  {
   "cell_type": "code",
<<<<<<< HEAD
   "execution_count": 94,
=======
   "execution_count": 12,
>>>>>>> parent of 1492915... last commit of the draft
   "metadata": {},
   "outputs": [],
   "source": [
    "#@jit(fastmath=True,parallel=True,forceobj=True)\n",
    "def general_hit(hits):\n",
    "    crossings = np.array([])\n",
    "    for hit in hits:\n",
    "        if hit[0]:\n",
    "            crossings = np.append(crossings,[hit[1],hit[2]])\n",
    "    #if crossings == []:\n",
    "        #print('oh no')\n",
    "        #print(hits)\n",
    "    def x022(x):\n",
    "        return x[0][2][2]\n",
    "    cross = np.sort(crossings,key=x022)[0]\n",
    "    p = cross[0][0]\n",
    "    n = cross[0][1]\n",
    "    s = cross[1]\n",
    "    return p, n, s"
   ]
  },
  {
   "cell_type": "code",
<<<<<<< HEAD
   "execution_count": 95,
=======
   "execution_count": 13,
>>>>>>> parent of 1492915... last commit of the draft
   "metadata": {},
   "outputs": [],
   "source": [
    "def polygon_hit(ps):\n",
    "    print(ps)\n",
    "    #@jit(fastmath=True,parallel=True,forceobj=True)\n",
    "    def hit(x,v):\n",
    "        hits = list(map(lambda p: line_hit(x,v,*p[1])+(p[0],),enumerate(ps))) #append i to the side\n",
    "        return general_hit(hits)\n",
    "    return hit"
   ]
  },
  {
   "cell_type": "code",
<<<<<<< HEAD
   "execution_count": 96,
=======
   "execution_count": 14,
>>>>>>> parent of 1492915... last commit of the draft
   "metadata": {},
   "outputs": [],
   "source": [
    "def piecewise_smooth(fs,ns,tbounds):\n",
    "    #@jit(fastmath=True,parallel=True)\n",
    "    def hit(x,v):\n",
    "        def mapper(ifnt):\n",
    "            return curve_hit(x,v,ifnt[1],ifnt[2],ifnt[3])+(ifnt[0],)\n",
    "        hits = np.array(list(map(mapper,enumerate(zip(fs,ns,tbounds)))))\n",
    "        return general_hit(hits)\n",
    "    return hit"
   ]
  },
  {
   "cell_type": "markdown",
   "metadata": {},
   "source": [
    "Special Cases"
   ]
  },
  {
   "cell_type": "code",
<<<<<<< HEAD
   "execution_count": 97,
=======
   "execution_count": 15,
>>>>>>> parent of 1492915... last commit of the draft
   "metadata": {},
   "outputs": [],
   "source": [
    "#@jit(fastmath=True,parallel=True)\n",
    "def circle_hit(x,v):\n",
    "    b = np.dot(v,x)\n",
    "    c = np.linalg.norm(x)**2 -1\n",
    "    ts = -b+np.array([1,-1])*np.sqrt(b**2 - c)\n",
    "    t = np.min(ts[np.all(np.greater(ts,[0,0]))])\n",
    "    p = x+t*v\n",
    "    n = -p\n",
    "    return p, n, np.arctan2(x[1],x[0])"
   ]
  },
  {
   "cell_type": "markdown",
   "metadata": {},
   "source": [
    "Bounce algorithm"
   ]
  },
  {
   "cell_type": "code",
<<<<<<< HEAD
   "execution_count": 98,
=======
   "execution_count": 16,
>>>>>>> parent of 1492915... last commit of the draft
   "metadata": {},
   "outputs": [],
   "source": [
    "#@jit(fastmath=True,parallel=True)\n",
    "def bounce(v,n):\n",
    "    n = normalize(n)\n",
    "    return v-2*np.dot(n,v)*n#np.subtract(v,np.multiply(2*np.dot(n,v),n))"
   ]
  },
  {
   "cell_type": "markdown",
   "metadata": {},
   "source": [
    "Simulation of many bounces"
   ]
  },
  {
   "cell_type": "code",
<<<<<<< HEAD
   "execution_count": 99,
=======
   "execution_count": 17,
>>>>>>> parent of 1492915... last commit of the draft
   "metadata": {},
   "outputs": [],
   "source": [
    "#@jit(fastmath=True,parallel=True)\n",
    "def sim(hitFunc,x,v,depth):\n",
    "    lines = [(x,v,-1)]\n",
    "    for _ in prange(depth):\n",
    "        x, n, s = hitFunc(x,v)\n",
    "        v = bounce(v,n)\n",
    "        x = x+error*v#np.add(x,np.multiply(1e-12,v))\n",
    "        lines = lines + [(x,v,s)]\n",
    "    return lines"
   ]
  },
  {
   "cell_type": "markdown",
   "metadata": {},
   "source": [
    "Random Start Info"
   ]
  },
  {
   "cell_type": "code",
<<<<<<< HEAD
   "execution_count": 100,
=======
   "execution_count": 18,
>>>>>>> parent of 1492915... last commit of the draft
   "metadata": {},
   "outputs": [],
   "source": [
    "#@jit('double[:](double)',fastmath=True,parallel=True,forceobj=True)\n",
    "def randx(rad):\n",
    "    r = 0\n",
    "    r = rng.random()*rad\n",
    "    theta = 2*np.pi*rng.random()\n",
    "    x = np.multiply(r,np.array([np.cos(theta),np.sin(theta)]))\n",
    "    return x\n",
    "#@jit('double[:]()',fastmath=True,parallel=True,forceobj=True)\n",
    "def randv():\n",
    "    vtheta = 0\n",
    "    vtheta = 2*np.pi*rng.random()\n",
    "    v = np.array([np.cos(vtheta),np.sin(vtheta)])\n",
    "    return v"
   ]
  },
  {
   "cell_type": "markdown",
   "metadata": {},
   "source": [
    "Get data for plotting"
   ]
  },
  {
   "cell_type": "code",
<<<<<<< HEAD
   "execution_count": 101,
=======
   "execution_count": 19,
>>>>>>> parent of 1492915... last commit of the draft
   "metadata": {},
   "outputs": [],
   "source": [
    "@vectorize\n",
    "def snd(x):\n",
    "    return x[2]\n",
    "#@jit(fastmath=True,parallel=True)\n",
    "def side_chance(sim_result,mod=0):\n",
    "    s = snd(sim_result[1:])\n",
    "    if mod != 0:\n",
    "        s = np.mod(s,mod)\n",
    "    uniques = np.unique(s)\n",
    "    @vectorize\n",
    "    def sums(u):\n",
    "        return np.sum(1 for side in s if side == u)\n",
    "    counts = sums(uniques)\n",
    "    counts = normalize(counts)\n",
    "    return uniques,counts"
   ]
  },
  {
   "cell_type": "markdown",
   "metadata": {},
   "source": [
    "Length probability sims"
   ]
  },
  {
   "cell_type": "code",
<<<<<<< HEAD
   "execution_count": 102,
   "metadata": {},
   "outputs": [],
   "source": [
    "def sl(q):\n",
    "    return np.linalg.norm(q[1]-q[0])\n",
    "sidelen = np.vectorize(sl,signature='(2,2)->()')\n",
    "#@jit(fastmath=True,parallel=True,nopython=False)\n",
    "def lenprob(depth,sides,trials):\n",
    "    tries=1000\n",
    "    length = np.array([])\n",
    "    prob = np.array([])\n",
    "    theta = np.array([])\n",
    "    \n",
    "    for n in prange(sides-3):\n",
    "        #print(\"Got to {} sides\".format(n+3))\n",
    "        for k in prange(trials):\n",
    "            shape = 10*rand_convex(n+3)\n",
    "            hit = polygon_hit(shape)\n",
    "            sidelengths = sidelen(shape)\n",
    "            t = 0\n",
    "            ls = None\n",
    "            while t < tries:\n",
    "                t += 1\n",
    "                v = randv()\n",
    "                try:\n",
    "                    ls = sim(hit,randx(1),v,depth)\n",
    "                    t = tries+1\n",
    "                except:\n",
    "                    continue\n",
    "                print('sim succeeded')\n",
    "                us,cs = side_chance(ls)\n",
    "                ncs = cs/np.sum(sidelengths)\n",
    "                length = np.append(length,sidelengths[us])\n",
    "                prob = np.append(prob,ncs)\n",
    "                theta = np.append(theta,np.arctan2(v[1],v[0]))\n",
    "                print(\"bounce!\")\n",
    "    return length, prob, theta"
   ]
  },
  {
   "cell_type": "code",
   "execution_count": 103,
   "metadata": {},
   "outputs": [
    {
     "data": {
      "text/plain": [
       "[<matplotlib.lines.Line2D at 0x1adafec3400>,\n",
       " <matplotlib.lines.Line2D at 0x1adafec34c0>,\n",
       " <matplotlib.lines.Line2D at 0x1adafec3580>,\n",
       " <matplotlib.lines.Line2D at 0x1adafec3640>,\n",
       " <matplotlib.lines.Line2D at 0x1adafec3700>,\n",
       " <matplotlib.lines.Line2D at 0x1adafec37c0>,\n",
       " <matplotlib.lines.Line2D at 0x1adafec3880>,\n",
       " <matplotlib.lines.Line2D at 0x1adafec3940>]"
      ]
     },
     "execution_count": 103,
     "metadata": {},
     "output_type": "execute_result"
    },
    {
     "data": {
      "image/png": "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\n",
      "text/plain": [
       "<Figure size 432x288 with 1 Axes>"
      ]
     },
     "metadata": {
      "needs_background": "light"
     },
     "output_type": "display_data"
    }
   ],
   "source": [
    "plt.plot(*(10*rand_convex(8)).T)"
   ]
  },
  {
   "cell_type": "code",
   "execution_count": 104,
   "metadata": {
    "scrolled": true
   },
   "outputs": [],
   "source": [
    "#from mpl_toolkits.mplot3d import Axes3D\n",
    "#fig = plt.figure()\n",
    "#ax = fig.add_subplot(111, projection='3d')\n",
    "#l,p,a = lenprob(5000,5,10000)\n",
    "#print(l,p,a)\n",
    "#plt.plot(l,p,'k.')\n",
    "#plt.show()\n",
    "#ax.scatter(l,p,a)\n",
    "#plt.show()"
   ]
  },
  {
   "cell_type": "markdown",
   "metadata": {},
   "source": [
    "Specific Square Sims"
   ]
  },
  {
   "cell_type": "code",
   "execution_count": 105,
   "metadata": {},
   "outputs": [
    {
     "name": "stdout",
     "output_type": "stream",
     "text": [
      "[[ 1.0000000e+00  6.1232340e-17 -1.0000000e+00 -1.8369702e-16\n",
      "   6.1232340e-17 -1.0000000e+00 -1.8369702e-16  1.0000000e+00]\n",
      " [ 0.0000000e+00  1.0000000e+00  1.2246468e-16 -1.0000000e+00\n",
      "   1.0000000e+00  1.2246468e-16 -1.0000000e+00  0.0000000e+00]]\n"
     ]
    },
    {
     "ename": "TypeError",
     "evalue": "line_hit() takes 4 positional arguments but 10 were given",
     "output_type": "error",
     "traceback": [
      "\u001b[1;31m---------------------------------------------------------------------------\u001b[0m",
      "\u001b[1;31mTypeError\u001b[0m                                 Traceback (most recent call last)",
      "\u001b[1;32m<ipython-input-105-4194f60eacc9>\u001b[0m in \u001b[0;36m<module>\u001b[1;34m\u001b[0m\n\u001b[0;32m      1\u001b[0m \u001b[0msq\u001b[0m \u001b[1;33m=\u001b[0m \u001b[0mngon\u001b[0m\u001b[1;33m(\u001b[0m\u001b[1;36m4\u001b[0m\u001b[1;33m)\u001b[0m\u001b[1;33m\u001b[0m\u001b[1;33m\u001b[0m\u001b[0m\n\u001b[0;32m      2\u001b[0m \u001b[0msqhit\u001b[0m \u001b[1;33m=\u001b[0m \u001b[0mpolygon_hit\u001b[0m\u001b[1;33m(\u001b[0m\u001b[0msq\u001b[0m\u001b[1;33m)\u001b[0m\u001b[1;33m\u001b[0m\u001b[1;33m\u001b[0m\u001b[0m\n\u001b[1;32m----> 3\u001b[1;33m \u001b[0mls\u001b[0m \u001b[1;33m=\u001b[0m \u001b[0msim\u001b[0m\u001b[1;33m(\u001b[0m\u001b[0msqhit\u001b[0m\u001b[1;33m,\u001b[0m\u001b[0mnp\u001b[0m\u001b[1;33m.\u001b[0m\u001b[0marray\u001b[0m\u001b[1;33m(\u001b[0m\u001b[1;33m[\u001b[0m\u001b[1;36m0\u001b[0m\u001b[1;33m,\u001b[0m\u001b[1;36m0.5\u001b[0m\u001b[1;33m]\u001b[0m\u001b[1;33m)\u001b[0m\u001b[1;33m,\u001b[0m\u001b[0mnp\u001b[0m\u001b[1;33m.\u001b[0m\u001b[0marray\u001b[0m\u001b[1;33m(\u001b[0m\u001b[1;33m[\u001b[0m\u001b[0mnp\u001b[0m\u001b[1;33m.\u001b[0m\u001b[0msqrt\u001b[0m\u001b[1;33m(\u001b[0m\u001b[1;36m2\u001b[0m\u001b[1;33m)\u001b[0m\u001b[1;33m/\u001b[0m\u001b[1;36m2\u001b[0m\u001b[1;33m,\u001b[0m\u001b[1;36m1\u001b[0m\u001b[1;33m]\u001b[0m\u001b[1;33m)\u001b[0m\u001b[1;33m,\u001b[0m\u001b[1;36m1000\u001b[0m\u001b[1;33m)\u001b[0m\u001b[1;33m\u001b[0m\u001b[1;33m\u001b[0m\u001b[0m\n\u001b[0m\u001b[0;32m      4\u001b[0m \u001b[0mplt\u001b[0m\u001b[1;33m.\u001b[0m\u001b[0mplot\u001b[0m\u001b[1;33m(\u001b[0m\u001b[1;33m*\u001b[0m\u001b[0msq\u001b[0m\u001b[1;33m.\u001b[0m\u001b[0mT\u001b[0m\u001b[1;33m)\u001b[0m\u001b[1;33m\u001b[0m\u001b[1;33m\u001b[0m\u001b[0m\n\u001b[0;32m      5\u001b[0m \u001b[0mxs\u001b[0m \u001b[1;33m=\u001b[0m \u001b[0mlist\u001b[0m\u001b[1;33m(\u001b[0m\u001b[0mmap\u001b[0m\u001b[1;33m(\u001b[0m\u001b[1;32mlambda\u001b[0m \u001b[0mx\u001b[0m\u001b[1;33m:\u001b[0m \u001b[0mx\u001b[0m\u001b[1;33m[\u001b[0m\u001b[1;36m0\u001b[0m\u001b[1;33m]\u001b[0m\u001b[1;33m[\u001b[0m\u001b[1;36m0\u001b[0m\u001b[1;33m]\u001b[0m\u001b[1;33m,\u001b[0m \u001b[0mls\u001b[0m\u001b[1;33m)\u001b[0m\u001b[1;33m)\u001b[0m\u001b[1;33m\u001b[0m\u001b[1;33m\u001b[0m\u001b[0m\n",
      "\u001b[1;32m<ipython-input-99-e97aed54b029>\u001b[0m in \u001b[0;36msim\u001b[1;34m(hitFunc, x, v, depth)\u001b[0m\n\u001b[0;32m      3\u001b[0m     \u001b[0mlines\u001b[0m \u001b[1;33m=\u001b[0m \u001b[1;33m[\u001b[0m\u001b[1;33m(\u001b[0m\u001b[0mx\u001b[0m\u001b[1;33m,\u001b[0m\u001b[0mv\u001b[0m\u001b[1;33m,\u001b[0m\u001b[1;33m-\u001b[0m\u001b[1;36m1\u001b[0m\u001b[1;33m)\u001b[0m\u001b[1;33m]\u001b[0m\u001b[1;33m\u001b[0m\u001b[1;33m\u001b[0m\u001b[0m\n\u001b[0;32m      4\u001b[0m     \u001b[1;32mfor\u001b[0m \u001b[0m_\u001b[0m \u001b[1;32min\u001b[0m \u001b[0mprange\u001b[0m\u001b[1;33m(\u001b[0m\u001b[0mdepth\u001b[0m\u001b[1;33m)\u001b[0m\u001b[1;33m:\u001b[0m\u001b[1;33m\u001b[0m\u001b[1;33m\u001b[0m\u001b[0m\n\u001b[1;32m----> 5\u001b[1;33m         \u001b[0mx\u001b[0m\u001b[1;33m,\u001b[0m \u001b[0mn\u001b[0m\u001b[1;33m,\u001b[0m \u001b[0ms\u001b[0m \u001b[1;33m=\u001b[0m \u001b[0mhitFunc\u001b[0m\u001b[1;33m(\u001b[0m\u001b[0mx\u001b[0m\u001b[1;33m,\u001b[0m\u001b[0mv\u001b[0m\u001b[1;33m)\u001b[0m\u001b[1;33m\u001b[0m\u001b[1;33m\u001b[0m\u001b[0m\n\u001b[0m\u001b[0;32m      6\u001b[0m         \u001b[0mv\u001b[0m \u001b[1;33m=\u001b[0m \u001b[0mbounce\u001b[0m\u001b[1;33m(\u001b[0m\u001b[0mv\u001b[0m\u001b[1;33m,\u001b[0m\u001b[0mn\u001b[0m\u001b[1;33m)\u001b[0m\u001b[1;33m\u001b[0m\u001b[1;33m\u001b[0m\u001b[0m\n\u001b[0;32m      7\u001b[0m         \u001b[0mx\u001b[0m \u001b[1;33m=\u001b[0m \u001b[0mx\u001b[0m\u001b[1;33m+\u001b[0m\u001b[0merror\u001b[0m\u001b[1;33m*\u001b[0m\u001b[0mv\u001b[0m\u001b[1;31m#np.add(x,np.multiply(1e-12,v))\u001b[0m\u001b[1;33m\u001b[0m\u001b[1;33m\u001b[0m\u001b[0m\n",
      "\u001b[1;32m<ipython-input-95-b243e17c0e7c>\u001b[0m in \u001b[0;36mhit\u001b[1;34m(x, v)\u001b[0m\n\u001b[0;32m      3\u001b[0m     \u001b[1;31m#@jit(fastmath=True,parallel=True,forceobj=True)\u001b[0m\u001b[1;33m\u001b[0m\u001b[1;33m\u001b[0m\u001b[1;33m\u001b[0m\u001b[0m\n\u001b[0;32m      4\u001b[0m     \u001b[1;32mdef\u001b[0m \u001b[0mhit\u001b[0m\u001b[1;33m(\u001b[0m\u001b[0mx\u001b[0m\u001b[1;33m,\u001b[0m\u001b[0mv\u001b[0m\u001b[1;33m)\u001b[0m\u001b[1;33m:\u001b[0m\u001b[1;33m\u001b[0m\u001b[1;33m\u001b[0m\u001b[0m\n\u001b[1;32m----> 5\u001b[1;33m         \u001b[0mhits\u001b[0m \u001b[1;33m=\u001b[0m \u001b[0mlist\u001b[0m\u001b[1;33m(\u001b[0m\u001b[0mmap\u001b[0m\u001b[1;33m(\u001b[0m\u001b[1;32mlambda\u001b[0m \u001b[0mp\u001b[0m\u001b[1;33m:\u001b[0m \u001b[0mline_hit\u001b[0m\u001b[1;33m(\u001b[0m\u001b[0mx\u001b[0m\u001b[1;33m,\u001b[0m\u001b[0mv\u001b[0m\u001b[1;33m,\u001b[0m\u001b[1;33m*\u001b[0m\u001b[0mp\u001b[0m\u001b[1;33m[\u001b[0m\u001b[1;36m1\u001b[0m\u001b[1;33m]\u001b[0m\u001b[1;33m)\u001b[0m\u001b[1;33m+\u001b[0m\u001b[1;33m(\u001b[0m\u001b[0mp\u001b[0m\u001b[1;33m[\u001b[0m\u001b[1;36m0\u001b[0m\u001b[1;33m]\u001b[0m\u001b[1;33m,\u001b[0m\u001b[1;33m)\u001b[0m\u001b[1;33m,\u001b[0m\u001b[0menumerate\u001b[0m\u001b[1;33m(\u001b[0m\u001b[0mps\u001b[0m\u001b[1;33m)\u001b[0m\u001b[1;33m)\u001b[0m\u001b[1;33m)\u001b[0m \u001b[1;31m#append i to the side\u001b[0m\u001b[1;33m\u001b[0m\u001b[1;33m\u001b[0m\u001b[0m\n\u001b[0m\u001b[0;32m      6\u001b[0m         \u001b[1;32mreturn\u001b[0m \u001b[0mgeneral_hit\u001b[0m\u001b[1;33m(\u001b[0m\u001b[0mhits\u001b[0m\u001b[1;33m)\u001b[0m\u001b[1;33m\u001b[0m\u001b[1;33m\u001b[0m\u001b[0m\n\u001b[0;32m      7\u001b[0m     \u001b[1;32mreturn\u001b[0m \u001b[0mhit\u001b[0m\u001b[1;33m\u001b[0m\u001b[1;33m\u001b[0m\u001b[0m\n",
      "\u001b[1;32m<ipython-input-95-b243e17c0e7c>\u001b[0m in \u001b[0;36m<lambda>\u001b[1;34m(p)\u001b[0m\n\u001b[0;32m      3\u001b[0m     \u001b[1;31m#@jit(fastmath=True,parallel=True,forceobj=True)\u001b[0m\u001b[1;33m\u001b[0m\u001b[1;33m\u001b[0m\u001b[1;33m\u001b[0m\u001b[0m\n\u001b[0;32m      4\u001b[0m     \u001b[1;32mdef\u001b[0m \u001b[0mhit\u001b[0m\u001b[1;33m(\u001b[0m\u001b[0mx\u001b[0m\u001b[1;33m,\u001b[0m\u001b[0mv\u001b[0m\u001b[1;33m)\u001b[0m\u001b[1;33m:\u001b[0m\u001b[1;33m\u001b[0m\u001b[1;33m\u001b[0m\u001b[0m\n\u001b[1;32m----> 5\u001b[1;33m         \u001b[0mhits\u001b[0m \u001b[1;33m=\u001b[0m \u001b[0mlist\u001b[0m\u001b[1;33m(\u001b[0m\u001b[0mmap\u001b[0m\u001b[1;33m(\u001b[0m\u001b[1;32mlambda\u001b[0m \u001b[0mp\u001b[0m\u001b[1;33m:\u001b[0m \u001b[0mline_hit\u001b[0m\u001b[1;33m(\u001b[0m\u001b[0mx\u001b[0m\u001b[1;33m,\u001b[0m\u001b[0mv\u001b[0m\u001b[1;33m,\u001b[0m\u001b[1;33m*\u001b[0m\u001b[0mp\u001b[0m\u001b[1;33m[\u001b[0m\u001b[1;36m1\u001b[0m\u001b[1;33m]\u001b[0m\u001b[1;33m)\u001b[0m\u001b[1;33m+\u001b[0m\u001b[1;33m(\u001b[0m\u001b[0mp\u001b[0m\u001b[1;33m[\u001b[0m\u001b[1;36m0\u001b[0m\u001b[1;33m]\u001b[0m\u001b[1;33m,\u001b[0m\u001b[1;33m)\u001b[0m\u001b[1;33m,\u001b[0m\u001b[0menumerate\u001b[0m\u001b[1;33m(\u001b[0m\u001b[0mps\u001b[0m\u001b[1;33m)\u001b[0m\u001b[1;33m)\u001b[0m\u001b[1;33m)\u001b[0m \u001b[1;31m#append i to the side\u001b[0m\u001b[1;33m\u001b[0m\u001b[1;33m\u001b[0m\u001b[0m\n\u001b[0m\u001b[0;32m      6\u001b[0m         \u001b[1;32mreturn\u001b[0m \u001b[0mgeneral_hit\u001b[0m\u001b[1;33m(\u001b[0m\u001b[0mhits\u001b[0m\u001b[1;33m)\u001b[0m\u001b[1;33m\u001b[0m\u001b[1;33m\u001b[0m\u001b[0m\n\u001b[0;32m      7\u001b[0m     \u001b[1;32mreturn\u001b[0m \u001b[0mhit\u001b[0m\u001b[1;33m\u001b[0m\u001b[1;33m\u001b[0m\u001b[0m\n",
      "\u001b[1;31mTypeError\u001b[0m: line_hit() takes 4 positional arguments but 10 were given"
     ]
    }
   ],
   "source": [
    "sq = ngon(4)\n",
=======
   "execution_count": 73,
   "metadata": {},
   "outputs": [
    {
     "ename": "LinAlgError",
     "evalue": "Singular matrix",
     "output_type": "error",
     "traceback": [
      "\u001b[1;31m---------------------------------------------------------------------------\u001b[0m",
      "\u001b[1;31mLinAlgError\u001b[0m                               Traceback (most recent call last)",
      "\u001b[1;32m<ipython-input-73-f04d479abfc3>\u001b[0m in \u001b[0;36m<module>\u001b[1;34m\u001b[0m\n\u001b[0;32m      1\u001b[0m \u001b[0msq\u001b[0m \u001b[1;33m=\u001b[0m \u001b[0mngon\u001b[0m\u001b[1;33m(\u001b[0m\u001b[1;36m110\u001b[0m\u001b[1;33m)\u001b[0m\u001b[1;33m\u001b[0m\u001b[1;33m\u001b[0m\u001b[0m\n\u001b[0;32m      2\u001b[0m \u001b[0msqhit\u001b[0m \u001b[1;33m=\u001b[0m \u001b[0mpolygon_hit\u001b[0m\u001b[1;33m(\u001b[0m\u001b[0msq\u001b[0m\u001b[1;33m)\u001b[0m\u001b[1;33m\u001b[0m\u001b[1;33m\u001b[0m\u001b[0m\n\u001b[1;32m----> 3\u001b[1;33m \u001b[0mls\u001b[0m \u001b[1;33m=\u001b[0m \u001b[0msim\u001b[0m\u001b[1;33m(\u001b[0m\u001b[0msqhit\u001b[0m\u001b[1;33m,\u001b[0m\u001b[0mnp\u001b[0m\u001b[1;33m.\u001b[0m\u001b[0marray\u001b[0m\u001b[1;33m(\u001b[0m\u001b[1;33m[\u001b[0m\u001b[1;36m0\u001b[0m\u001b[1;33m,\u001b[0m\u001b[1;36m0.5\u001b[0m\u001b[1;33m]\u001b[0m\u001b[1;33m)\u001b[0m\u001b[1;33m,\u001b[0m\u001b[0mnp\u001b[0m\u001b[1;33m.\u001b[0m\u001b[0marray\u001b[0m\u001b[1;33m(\u001b[0m\u001b[1;33m[\u001b[0m\u001b[1;36m1\u001b[0m\u001b[1;33m,\u001b[0m\u001b[1;36m0\u001b[0m\u001b[1;33m]\u001b[0m\u001b[1;33m)\u001b[0m\u001b[1;33m,\u001b[0m\u001b[1;36m1000\u001b[0m\u001b[1;33m)\u001b[0m\u001b[1;33m\u001b[0m\u001b[1;33m\u001b[0m\u001b[0m\n\u001b[0m\u001b[0;32m      4\u001b[0m \u001b[0mplt\u001b[0m\u001b[1;33m.\u001b[0m\u001b[0mplot\u001b[0m\u001b[1;33m(\u001b[0m\u001b[1;33m*\u001b[0m\u001b[0msq\u001b[0m\u001b[1;33m.\u001b[0m\u001b[0mT\u001b[0m\u001b[1;33m)\u001b[0m\u001b[1;33m\u001b[0m\u001b[1;33m\u001b[0m\u001b[0m\n\u001b[0;32m      5\u001b[0m \u001b[0mxs\u001b[0m \u001b[1;33m=\u001b[0m \u001b[0mlist\u001b[0m\u001b[1;33m(\u001b[0m\u001b[0mmap\u001b[0m\u001b[1;33m(\u001b[0m\u001b[1;32mlambda\u001b[0m \u001b[0mx\u001b[0m\u001b[1;33m:\u001b[0m \u001b[0mx\u001b[0m\u001b[1;33m[\u001b[0m\u001b[1;36m0\u001b[0m\u001b[1;33m]\u001b[0m\u001b[1;33m[\u001b[0m\u001b[1;36m0\u001b[0m\u001b[1;33m]\u001b[0m\u001b[1;33m,\u001b[0m \u001b[0mls\u001b[0m\u001b[1;33m)\u001b[0m\u001b[1;33m)\u001b[0m\u001b[1;33m\u001b[0m\u001b[1;33m\u001b[0m\u001b[0m\n",
      "\u001b[1;32m<ipython-input-17-6cb2bfc55e00>\u001b[0m in \u001b[0;36msim\u001b[1;34m(hitFunc, x, v, depth)\u001b[0m\n\u001b[0;32m      2\u001b[0m     \u001b[0mlines\u001b[0m \u001b[1;33m=\u001b[0m \u001b[1;33m[\u001b[0m\u001b[1;33m(\u001b[0m\u001b[0mx\u001b[0m\u001b[1;33m,\u001b[0m\u001b[0mv\u001b[0m\u001b[1;33m,\u001b[0m\u001b[1;33m-\u001b[0m\u001b[1;36m1\u001b[0m\u001b[1;33m)\u001b[0m\u001b[1;33m]\u001b[0m\u001b[1;33m\u001b[0m\u001b[1;33m\u001b[0m\u001b[0m\n\u001b[0;32m      3\u001b[0m     \u001b[1;32mfor\u001b[0m \u001b[0m_\u001b[0m \u001b[1;32min\u001b[0m \u001b[0mrange\u001b[0m\u001b[1;33m(\u001b[0m\u001b[0mdepth\u001b[0m\u001b[1;33m)\u001b[0m\u001b[1;33m:\u001b[0m\u001b[1;33m\u001b[0m\u001b[1;33m\u001b[0m\u001b[0m\n\u001b[1;32m----> 4\u001b[1;33m         \u001b[0mx\u001b[0m\u001b[1;33m,\u001b[0m \u001b[0mn\u001b[0m\u001b[1;33m,\u001b[0m \u001b[0ms\u001b[0m \u001b[1;33m=\u001b[0m \u001b[0mhitFunc\u001b[0m\u001b[1;33m(\u001b[0m\u001b[0mx\u001b[0m\u001b[1;33m,\u001b[0m\u001b[0mv\u001b[0m\u001b[1;33m)\u001b[0m\u001b[1;33m\u001b[0m\u001b[1;33m\u001b[0m\u001b[0m\n\u001b[0m\u001b[0;32m      5\u001b[0m         \u001b[0mv\u001b[0m \u001b[1;33m=\u001b[0m \u001b[0mbounce\u001b[0m\u001b[1;33m(\u001b[0m\u001b[0mv\u001b[0m\u001b[1;33m,\u001b[0m\u001b[0mn\u001b[0m\u001b[1;33m)\u001b[0m\u001b[1;33m\u001b[0m\u001b[1;33m\u001b[0m\u001b[0m\n\u001b[0;32m      6\u001b[0m         \u001b[0mx\u001b[0m \u001b[1;33m=\u001b[0m \u001b[0mx\u001b[0m\u001b[1;33m+\u001b[0m\u001b[0merror\u001b[0m\u001b[1;33m*\u001b[0m\u001b[0mv\u001b[0m\u001b[1;31m#np.add(x,np.multiply(1e-12,v))\u001b[0m\u001b[1;33m\u001b[0m\u001b[1;33m\u001b[0m\u001b[0m\n",
      "\u001b[1;32m<ipython-input-13-0e45eb1bc549>\u001b[0m in \u001b[0;36mhit\u001b[1;34m(x, v)\u001b[0m\n\u001b[0;32m      1\u001b[0m \u001b[1;32mdef\u001b[0m \u001b[0mpolygon_hit\u001b[0m\u001b[1;33m(\u001b[0m\u001b[0mps\u001b[0m\u001b[1;33m)\u001b[0m\u001b[1;33m:\u001b[0m\u001b[1;33m\u001b[0m\u001b[1;33m\u001b[0m\u001b[0m\n\u001b[0;32m      2\u001b[0m     \u001b[1;32mdef\u001b[0m \u001b[0mhit\u001b[0m\u001b[1;33m(\u001b[0m\u001b[0mx\u001b[0m\u001b[1;33m,\u001b[0m\u001b[0mv\u001b[0m\u001b[1;33m)\u001b[0m\u001b[1;33m:\u001b[0m\u001b[1;33m\u001b[0m\u001b[1;33m\u001b[0m\u001b[0m\n\u001b[1;32m----> 3\u001b[1;33m         \u001b[0mhits\u001b[0m \u001b[1;33m=\u001b[0m \u001b[0mlist\u001b[0m\u001b[1;33m(\u001b[0m\u001b[0mmap\u001b[0m\u001b[1;33m(\u001b[0m\u001b[1;32mlambda\u001b[0m \u001b[0mp\u001b[0m\u001b[1;33m:\u001b[0m \u001b[0mline_hit\u001b[0m\u001b[1;33m(\u001b[0m\u001b[0mx\u001b[0m\u001b[1;33m,\u001b[0m\u001b[0mv\u001b[0m\u001b[1;33m,\u001b[0m\u001b[1;33m*\u001b[0m\u001b[0mp\u001b[0m\u001b[1;33m[\u001b[0m\u001b[1;36m1\u001b[0m\u001b[1;33m]\u001b[0m\u001b[1;33m)\u001b[0m\u001b[1;33m+\u001b[0m\u001b[1;33m(\u001b[0m\u001b[0mp\u001b[0m\u001b[1;33m[\u001b[0m\u001b[1;36m0\u001b[0m\u001b[1;33m]\u001b[0m\u001b[1;33m,\u001b[0m\u001b[1;33m)\u001b[0m\u001b[1;33m,\u001b[0m\u001b[0menumerate\u001b[0m\u001b[1;33m(\u001b[0m\u001b[0mps\u001b[0m\u001b[1;33m)\u001b[0m\u001b[1;33m)\u001b[0m\u001b[1;33m)\u001b[0m \u001b[1;31m#append i to the side\u001b[0m\u001b[1;33m\u001b[0m\u001b[1;33m\u001b[0m\u001b[0m\n\u001b[0m\u001b[0;32m      4\u001b[0m         \u001b[1;32mreturn\u001b[0m \u001b[0mgeneral_hit\u001b[0m\u001b[1;33m(\u001b[0m\u001b[0mhits\u001b[0m\u001b[1;33m)\u001b[0m\u001b[1;33m\u001b[0m\u001b[1;33m\u001b[0m\u001b[0m\n\u001b[0;32m      5\u001b[0m     \u001b[1;32mreturn\u001b[0m \u001b[0mhit\u001b[0m\u001b[1;33m\u001b[0m\u001b[1;33m\u001b[0m\u001b[0m\n",
      "\u001b[1;32m<ipython-input-13-0e45eb1bc549>\u001b[0m in \u001b[0;36m<lambda>\u001b[1;34m(p)\u001b[0m\n\u001b[0;32m      1\u001b[0m \u001b[1;32mdef\u001b[0m \u001b[0mpolygon_hit\u001b[0m\u001b[1;33m(\u001b[0m\u001b[0mps\u001b[0m\u001b[1;33m)\u001b[0m\u001b[1;33m:\u001b[0m\u001b[1;33m\u001b[0m\u001b[1;33m\u001b[0m\u001b[0m\n\u001b[0;32m      2\u001b[0m     \u001b[1;32mdef\u001b[0m \u001b[0mhit\u001b[0m\u001b[1;33m(\u001b[0m\u001b[0mx\u001b[0m\u001b[1;33m,\u001b[0m\u001b[0mv\u001b[0m\u001b[1;33m)\u001b[0m\u001b[1;33m:\u001b[0m\u001b[1;33m\u001b[0m\u001b[1;33m\u001b[0m\u001b[0m\n\u001b[1;32m----> 3\u001b[1;33m         \u001b[0mhits\u001b[0m \u001b[1;33m=\u001b[0m \u001b[0mlist\u001b[0m\u001b[1;33m(\u001b[0m\u001b[0mmap\u001b[0m\u001b[1;33m(\u001b[0m\u001b[1;32mlambda\u001b[0m \u001b[0mp\u001b[0m\u001b[1;33m:\u001b[0m \u001b[0mline_hit\u001b[0m\u001b[1;33m(\u001b[0m\u001b[0mx\u001b[0m\u001b[1;33m,\u001b[0m\u001b[0mv\u001b[0m\u001b[1;33m,\u001b[0m\u001b[1;33m*\u001b[0m\u001b[0mp\u001b[0m\u001b[1;33m[\u001b[0m\u001b[1;36m1\u001b[0m\u001b[1;33m]\u001b[0m\u001b[1;33m)\u001b[0m\u001b[1;33m+\u001b[0m\u001b[1;33m(\u001b[0m\u001b[0mp\u001b[0m\u001b[1;33m[\u001b[0m\u001b[1;36m0\u001b[0m\u001b[1;33m]\u001b[0m\u001b[1;33m,\u001b[0m\u001b[1;33m)\u001b[0m\u001b[1;33m,\u001b[0m\u001b[0menumerate\u001b[0m\u001b[1;33m(\u001b[0m\u001b[0mps\u001b[0m\u001b[1;33m)\u001b[0m\u001b[1;33m)\u001b[0m\u001b[1;33m)\u001b[0m \u001b[1;31m#append i to the side\u001b[0m\u001b[1;33m\u001b[0m\u001b[1;33m\u001b[0m\u001b[0m\n\u001b[0m\u001b[0;32m      4\u001b[0m         \u001b[1;32mreturn\u001b[0m \u001b[0mgeneral_hit\u001b[0m\u001b[1;33m(\u001b[0m\u001b[0mhits\u001b[0m\u001b[1;33m)\u001b[0m\u001b[1;33m\u001b[0m\u001b[1;33m\u001b[0m\u001b[0m\n\u001b[0;32m      5\u001b[0m     \u001b[1;32mreturn\u001b[0m \u001b[0mhit\u001b[0m\u001b[1;33m\u001b[0m\u001b[1;33m\u001b[0m\u001b[0m\n",
      "\u001b[1;32m<ipython-input-10-8765c85e4777>\u001b[0m in \u001b[0;36mline_hit\u001b[1;34m(x, v, p0, p1)\u001b[0m\n\u001b[0;32m      3\u001b[0m     \u001b[0ma\u001b[0m \u001b[1;33m=\u001b[0m \u001b[0mnp\u001b[0m\u001b[1;33m.\u001b[0m\u001b[0mvstack\u001b[0m\u001b[1;33m(\u001b[0m\u001b[1;33m(\u001b[0m\u001b[0mv\u001b[0m\u001b[1;33m,\u001b[0m\u001b[0mdp\u001b[0m\u001b[1;33m)\u001b[0m\u001b[1;33m)\u001b[0m\u001b[1;33m.\u001b[0m\u001b[0mT\u001b[0m\u001b[1;33m\u001b[0m\u001b[1;33m\u001b[0m\u001b[0m\n\u001b[0;32m      4\u001b[0m     \u001b[0mb\u001b[0m \u001b[1;33m=\u001b[0m \u001b[0mp0\u001b[0m\u001b[1;33m-\u001b[0m\u001b[0mx\u001b[0m\u001b[1;31m#np.subtract(p0,x)\u001b[0m\u001b[1;33m\u001b[0m\u001b[1;33m\u001b[0m\u001b[0m\n\u001b[1;32m----> 5\u001b[1;33m     \u001b[0mt\u001b[0m \u001b[1;33m=\u001b[0m \u001b[0mnp\u001b[0m\u001b[1;33m.\u001b[0m\u001b[0mlinalg\u001b[0m\u001b[1;33m.\u001b[0m\u001b[0msolve\u001b[0m\u001b[1;33m(\u001b[0m\u001b[0ma\u001b[0m\u001b[1;33m,\u001b[0m\u001b[0mb\u001b[0m\u001b[1;33m)\u001b[0m\u001b[1;33m\u001b[0m\u001b[1;33m\u001b[0m\u001b[0m\n\u001b[0m\u001b[0;32m      6\u001b[0m     \u001b[0mnx\u001b[0m \u001b[1;33m=\u001b[0m \u001b[0mx\u001b[0m\u001b[1;33m+\u001b[0m\u001b[0mt\u001b[0m\u001b[1;33m[\u001b[0m\u001b[1;36m0\u001b[0m\u001b[1;33m]\u001b[0m\u001b[1;33m*\u001b[0m\u001b[0mv\u001b[0m \u001b[1;31m#np.add(x,np.multiply(t[1],v))\u001b[0m\u001b[1;33m\u001b[0m\u001b[1;33m\u001b[0m\u001b[0m\n\u001b[0;32m      7\u001b[0m     \u001b[0mp\u001b[0m \u001b[1;33m=\u001b[0m \u001b[0mp0\u001b[0m\u001b[1;33m-\u001b[0m\u001b[0mt\u001b[0m\u001b[1;33m[\u001b[0m\u001b[1;36m1\u001b[0m\u001b[1;33m]\u001b[0m\u001b[1;33m*\u001b[0m\u001b[0mdp\u001b[0m\u001b[1;31m#np.add(p0,np.multiply(t[0],dp))\u001b[0m\u001b[1;33m\u001b[0m\u001b[1;33m\u001b[0m\u001b[0m\n",
      "\u001b[1;32m<__array_function__ internals>\u001b[0m in \u001b[0;36msolve\u001b[1;34m(*args, **kwargs)\u001b[0m\n",
      "\u001b[1;32m~\\miniconda3\\lib\\site-packages\\numpy\\linalg\\linalg.py\u001b[0m in \u001b[0;36msolve\u001b[1;34m(a, b)\u001b[0m\n\u001b[0;32m    392\u001b[0m     \u001b[0msignature\u001b[0m \u001b[1;33m=\u001b[0m \u001b[1;34m'DD->D'\u001b[0m \u001b[1;32mif\u001b[0m \u001b[0misComplexType\u001b[0m\u001b[1;33m(\u001b[0m\u001b[0mt\u001b[0m\u001b[1;33m)\u001b[0m \u001b[1;32melse\u001b[0m \u001b[1;34m'dd->d'\u001b[0m\u001b[1;33m\u001b[0m\u001b[1;33m\u001b[0m\u001b[0m\n\u001b[0;32m    393\u001b[0m     \u001b[0mextobj\u001b[0m \u001b[1;33m=\u001b[0m \u001b[0mget_linalg_error_extobj\u001b[0m\u001b[1;33m(\u001b[0m\u001b[0m_raise_linalgerror_singular\u001b[0m\u001b[1;33m)\u001b[0m\u001b[1;33m\u001b[0m\u001b[1;33m\u001b[0m\u001b[0m\n\u001b[1;32m--> 394\u001b[1;33m     \u001b[0mr\u001b[0m \u001b[1;33m=\u001b[0m \u001b[0mgufunc\u001b[0m\u001b[1;33m(\u001b[0m\u001b[0ma\u001b[0m\u001b[1;33m,\u001b[0m \u001b[0mb\u001b[0m\u001b[1;33m,\u001b[0m \u001b[0msignature\u001b[0m\u001b[1;33m=\u001b[0m\u001b[0msignature\u001b[0m\u001b[1;33m,\u001b[0m \u001b[0mextobj\u001b[0m\u001b[1;33m=\u001b[0m\u001b[0mextobj\u001b[0m\u001b[1;33m)\u001b[0m\u001b[1;33m\u001b[0m\u001b[1;33m\u001b[0m\u001b[0m\n\u001b[0m\u001b[0;32m    395\u001b[0m \u001b[1;33m\u001b[0m\u001b[0m\n\u001b[0;32m    396\u001b[0m     \u001b[1;32mreturn\u001b[0m \u001b[0mwrap\u001b[0m\u001b[1;33m(\u001b[0m\u001b[0mr\u001b[0m\u001b[1;33m.\u001b[0m\u001b[0mastype\u001b[0m\u001b[1;33m(\u001b[0m\u001b[0mresult_t\u001b[0m\u001b[1;33m,\u001b[0m \u001b[0mcopy\u001b[0m\u001b[1;33m=\u001b[0m\u001b[1;32mFalse\u001b[0m\u001b[1;33m)\u001b[0m\u001b[1;33m)\u001b[0m\u001b[1;33m\u001b[0m\u001b[1;33m\u001b[0m\u001b[0m\n",
      "\u001b[1;32m~\\miniconda3\\lib\\site-packages\\numpy\\linalg\\linalg.py\u001b[0m in \u001b[0;36m_raise_linalgerror_singular\u001b[1;34m(err, flag)\u001b[0m\n\u001b[0;32m     86\u001b[0m \u001b[1;33m\u001b[0m\u001b[0m\n\u001b[0;32m     87\u001b[0m \u001b[1;32mdef\u001b[0m \u001b[0m_raise_linalgerror_singular\u001b[0m\u001b[1;33m(\u001b[0m\u001b[0merr\u001b[0m\u001b[1;33m,\u001b[0m \u001b[0mflag\u001b[0m\u001b[1;33m)\u001b[0m\u001b[1;33m:\u001b[0m\u001b[1;33m\u001b[0m\u001b[1;33m\u001b[0m\u001b[0m\n\u001b[1;32m---> 88\u001b[1;33m     \u001b[1;32mraise\u001b[0m \u001b[0mLinAlgError\u001b[0m\u001b[1;33m(\u001b[0m\u001b[1;34m\"Singular matrix\"\u001b[0m\u001b[1;33m)\u001b[0m\u001b[1;33m\u001b[0m\u001b[1;33m\u001b[0m\u001b[0m\n\u001b[0m\u001b[0;32m     89\u001b[0m \u001b[1;33m\u001b[0m\u001b[0m\n\u001b[0;32m     90\u001b[0m \u001b[1;32mdef\u001b[0m \u001b[0m_raise_linalgerror_nonposdef\u001b[0m\u001b[1;33m(\u001b[0m\u001b[0merr\u001b[0m\u001b[1;33m,\u001b[0m \u001b[0mflag\u001b[0m\u001b[1;33m)\u001b[0m\u001b[1;33m:\u001b[0m\u001b[1;33m\u001b[0m\u001b[1;33m\u001b[0m\u001b[0m\n",
      "\u001b[1;31mLinAlgError\u001b[0m: Singular matrix"
     ]
    }
   ],
   "source": [
    "sq = ngon(110)\n",
>>>>>>> parent of 1492915... last commit of the draft
    "sqhit = polygon_hit(sq)\n",
    "ls = sim(sqhit,np.array([0,0.5]),np.array([np.sqrt(2)/2,1]),1000)\n",
    "plt.plot(*sq.T)\n",
    "xs = list(map(lambda x: x[0][0], ls))\n",
    "ys = list(map(lambda x: x[0][1], ls))\n",
    "plt.plot(xs,ys)\n",
    "x,v,_ = ls[-1]\n",
    "plt.quiver(*x,*v)\n",
    "ax = plt.gca()\n",
    "ax.set_aspect(1)\n",
    "plt.savefig('ngonorbit.png')\n",
    "plt.show()"
   ]
  },
  {
   "cell_type": "code",
<<<<<<< HEAD
   "execution_count": null,
   "metadata": {},
   "outputs": [],
=======
   "execution_count": 21,
   "metadata": {},
   "outputs": [
    {
     "data": {
      "text/plain": [
       "<BarContainer object of 2 artists>"
      ]
     },
     "execution_count": 21,
     "metadata": {},
     "output_type": "execute_result"
    },
    {
     "data": {
      "image/png": "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\n",
      "text/plain": [
       "<Figure size 432x288 with 1 Axes>"
      ]
     },
     "metadata": {
      "needs_background": "light"
     },
     "output_type": "display_data"
    }
   ],
>>>>>>> parent of 1492915... last commit of the draft
   "source": [
    "ss = list(map(lambda x: x[2]%2,ls[1:]))\n",
    "#print(ss)\n",
    "#ax = plt.gca()\n",
    "#ax.hist(ss,bins=2*sides)\n",
    "us,cs = side_chance(ls,mod=2)\n",
    "plt.bar(us,cs)"
   ]
  },
  {
   "cell_type": "markdown",
   "metadata": {},
   "source": [
    "Specifically Circular Sims"
   ]
  },
  {
   "cell_type": "code",
<<<<<<< HEAD
   "execution_count": null,
   "metadata": {},
   "outputs": [],
=======
   "execution_count": 22,
   "metadata": {},
   "outputs": [
    {
     "name": "stdout",
     "output_type": "stream",
     "text": [
      "(array([-0.8660254, -0.5      ]), array([-1.00000000e+00, -2.34631758e-10]), 1.57079632697881)\n"
     ]
    },
    {
     "data": {
      "image/png": "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\n",
      "text/plain": [
       "<Figure size 432x288 with 1 Axes>"
      ]
     },
     "metadata": {
      "needs_background": "light"
     },
     "output_type": "display_data"
    }
   ],
>>>>>>> parent of 1492915... last commit of the draft
   "source": [
    "deg = 30\n",
    "theta = np.pi/2-(np.pi/180)*deg #<- Edit this!\n",
    "ls = sim(circle_hit,np.array([0,1]),np.array([np.cos(theta),np.sin(theta)]),1000)\n",
    "xs = list(map(lambda x: x[0][0], ls))\n",
    "ys = list(map(lambda x: x[0][1], ls))\n",
    "#print(xs)\n",
    "plt.plot(xs,ys)\n",
    "print(ls[-1])\n",
    "x,v,_ = ls[-1]\n",
    "plt.quiver(*x,*v)\n",
    "draw_circle = plt.Circle((0, 0), 1,fill=False)\n",
    "plt.xlim(-1,1)\n",
    "plt.ylim(-1,1)\n",
    "plt.gcf().gca().add_artist(draw_circle)\n",
    "plt.gca().set_aspect(1)\n",
    "plt.savefig(\"{}deg.png\".format(deg))\n",
    "plt.show()"
   ]
  },
  {
   "cell_type": "code",
<<<<<<< HEAD
   "execution_count": null,
   "metadata": {},
   "outputs": [],
=======
   "execution_count": 23,
   "metadata": {},
   "outputs": [
    {
     "data": {
      "text/plain": [
       "<BarContainer object of 1000 artists>"
      ]
     },
     "execution_count": 23,
     "metadata": {},
     "output_type": "execute_result"
    },
    {
     "data": {
      "image/png": "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\n",
      "text/plain": [
       "<Figure size 432x288 with 1 Axes>"
      ]
     },
     "metadata": {
      "needs_background": "light"
     },
     "output_type": "display_data"
    }
   ],
>>>>>>> parent of 1492915... last commit of the draft
   "source": [
    "ss = list(map(lambda x: x[2],ls[1:]))\n",
    "#print(ss) #<- Side sequence\n",
    "#ax = plt.gca()\n",
    "#ax.hist(ss,bins=bounces)\n",
    "us,cs = side_chance(ls)\n",
    "plt.bar(us,cs,width=0.05)"
   ]
  },
  {
   "cell_type": "markdown",
   "metadata": {},
   "source": [
    "Discrete Cardiod Sims"
   ]
  },
  {
   "cell_type": "code",
<<<<<<< HEAD
   "execution_count": null,
   "metadata": {},
   "outputs": [],
   "source": [
    "shape = polar_poly(lambda t: 1+np.cos(t),6)\n",
=======
   "execution_count": 99,
   "metadata": {},
   "outputs": [
    {
     "data": {
      "image/png": "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\n",
      "text/plain": [
       "<Figure size 432x288 with 1 Axes>"
      ]
     },
     "metadata": {
      "needs_background": "light"
     },
     "output_type": "display_data"
    }
   ],
   "source": [
    "shape = polar_poly(lambda t: 1+np.cos(t),5)\n",
>>>>>>> parent of 1492915... last commit of the draft
    "shapehit = polygon_hit(shape)\n",
    "#ls = sim(shapehit,randx(0.5)+np.array([0.75,0]),randv(),1000)\n",
    "ls = sim(shapehit,np.array([0.,0.]),np.array([0.,1.]),100)\n",
    "plt.plot(*shape.T)\n",
    "xs = list(map(lambda x: x[0][0], ls))\n",
    "ys = list(map(lambda x: x[0][1], ls))\n",
    "plt.plot(xs,ys)\n",
    "x,v,_ = ls[-1]\n",
    "plt.quiver(*x,*v)\n",
    "ax = plt.gca()\n",
    "ax.set_aspect(1)\n",
    "plt.savefig('cardiod.png')\n",
    "plt.show()"
   ]
  },
  {
   "cell_type": "code",
<<<<<<< HEAD
   "execution_count": null,
   "metadata": {},
   "outputs": [],
=======
   "execution_count": 25,
   "metadata": {},
   "outputs": [
    {
     "data": {
      "image/png": "iVBORw0KGgoAAAANSUhEUgAAAXoAAAD4CAYAAADiry33AAAAOXRFWHRTb2Z0d2FyZQBNYXRwbG90bGliIHZlcnNpb24zLjMuMSwgaHR0cHM6Ly9tYXRwbG90bGliLm9yZy/d3fzzAAAACXBIWXMAAAsTAAALEwEAmpwYAAAQC0lEQVR4nO3df2ydV33H8fcHQ7QpA8Go+aEkLB2LhiJEWWWlSEVApbVK4I/AfrYgYIwqq9QI+AOJaH8wxjSpTGyakApRxiKBtC5CgmzRGmgR2sRQ6RYHdW1TCLNCtpoU4lIGVEyUrN/9cZ/AxVzbj2M79j15vyTL9znPOY/P0SN/cnJ8n3NTVUiS2vWM9e6AJGltGfSS1DiDXpIaZ9BLUuMMeklq3DPXuwOjXHXVVbV9+/b17oYkjY2TJ08+XlWTo85tyKDfvn0709PT690NSRobSf5roXMu3UhS4wx6SWpcr6BPsjvJ6SQzSQ6MOL83yYNJHkgyneTVfdtKktbWkkGfZAK4E9gD7ARuSbJzXrUvANdU1SuBPwQ+voy2kqQ11GdGvwuYqaozVfUUcATYO1yhqp6sn26asxmovm0lSWurT9BvAR4dOp7tyn5Gkjcl+RpwN4NZfe+2Xft93bLP9NzcXJ++S5J66BP0GVH2c1teVtXRqnoZ8Ebgz5bTtmt/qKqmqmpqcnLkW0ElSZegT9DPAtuGjrcC5xaqXFVfBF6a5KrltpUkrb4+QX8C2JHk6iSbgJuBY8MVkvxaknSvrwU2Ad/p01aStLaWfDK2qi4k2Q/cA0wAh6vqVJLbuvMHgd8G3pbkx8D/Ar/f/XF2ZNs1GsuybD9w96Lnz97xhsvUE0laW722QKiq48DxeWUHh15/CPhQ37aSpMvHJ2MlqXEGvSQ1zqCXpMYZ9JLUOINekhpn0EtS4wx6SWqcQS9JjTPoJalxBr0kNc6gl6TGGfSS1DiDXpIaZ9BLUuMMeklqXK/96LU+/HAUyd+D1eCMXpIaZ9BLUuMMeklqnEEvSY0z6CWpcQa9JDXOoJekxhn0ktQ4g16SGmfQS1LjegV9kt1JTieZSXJgxPm3JHmw+7ovyTVD584meSjJA0mmV7PzkqSlLbnXTZIJ4E7gRmAWOJHkWFU9MlTtG8Brq+q7SfYAh4Drhs7fUFWPr2K/JUk99dnUbBcwU1VnAJIcAfYCPwn6qrpvqP79wNbV7KQk9bHYBmhX8uZnfZZutgCPDh3PdmULeSfw2aHjAu5NcjLJvoUaJdmXZDrJ9NzcXI9uSZL66DOjz4iyGlkxuYFB0L96qPj6qjqX5AXA55N8raq++HMXrDrEYMmHqampkdeXJC1fnxn9LLBt6HgrcG5+pSSvAD4O7K2q71wsr6pz3ffzwFEGS0GSpMukz4z+BLAjydXAN4GbgTcPV0jyEuAzwFur6utD5ZuBZ1TVD7rXNwEfXK3OS9JGsNE/HGXJoK+qC0n2A/cAE8DhqjqV5Lbu/EHg/cDzgY8mAbhQVVPAC4GjXdkzgbuq6nNrMhJJ0ki9Pkqwqo4Dx+eVHRx6fStw64h2Z4Br5pdLki4fPzO2ARv9v42SBtbrd9UtECSpcQa9JDXOpRtJWkAry6LO6CWpcQa9JDXOoJekxrlGv4S+a3StrOVJao8zeklqnEEvSY1z6UbSFedK+4ASZ/SS1DiDXpIaZ9BLUuMMeklqnEEvSY0z6CWpcQa9JDXOoJekxhn0ktQ4g16SGmfQS1LjDHpJapxBL0mNc/fKdXCl7ZwnaX05o5ekxvUK+iS7k5xOMpPkwIjzb0nyYPd1X5Jr+raVJK2tJZdukkwAdwI3ArPAiSTHquqRoWrfAF5bVd9Nsgc4BFzXs62kdeJnHV8Z+szodwEzVXWmqp4CjgB7hytU1X1V9d3u8H5ga9+2kqS11SfotwCPDh3PdmULeSfw2eW2TbIvyXSS6bm5uR7dkiT10SfoM6KsRlZMbmAQ9O9bbtuqOlRVU1U1NTk52aNbkqQ++ry9chbYNnS8FTg3v1KSVwAfB/ZU1XeW01bSlce/D1w+fWb0J4AdSa5Osgm4GTg2XCHJS4DPAG+tqq8vp60kaW0tOaOvqgtJ9gP3ABPA4ao6leS27vxB4P3A84GPJgG40C3DjGy7RmORJI3Q68nYqjoOHJ9XdnDo9a3ArX3briWfOpWkn+WTsZLUOINekhpn0EtS4wx6SWqcQS9JjTPoJalxBr0kNc6gl6TGGfSS1Dg/M1ZSLz51Pr6c0UtS4wx6SWqcQS9JjTPoJalxBr0kNc6gl6TGGfSS1DiDXpIaZ9BLUuN8MvYKstiTjeDTjVKrnNFLUuMMeklqnEEvSY0z6CWpcQa9JDXOoJekxvUK+iS7k5xOMpPkwIjzL0vy5SQ/SvLeeefOJnkoyQNJpler45KkfpZ8H32SCeBO4EZgFjiR5FhVPTJU7QngXcAbF7jMDVX1+Ar7Kkm6BH1m9LuAmao6U1VPAUeAvcMVqup8VZ0AfrwGfZQkrUCfoN8CPDp0PNuV9VXAvUlOJtm3UKUk+5JMJ5mem5tbxuUlSYvpE/QZUVbL+BnXV9W1wB7g9iSvGVWpqg5V1VRVTU1OTi7j8pKkxfQJ+llg29DxVuBc3x9QVee67+eBowyWgiRJl0mfoD8B7EhydZJNwM3AsT4XT7I5ybMvvgZuAh6+1M5KkpZvyXfdVNWFJPuBe4AJ4HBVnUpyW3f+YJIXAdPAc4Cnk7wH2AlcBRxNcvFn3VVVn1uTkUiSRuq1TXFVHQeOzys7OPT6WwyWdOb7PnDNSjooSVoZn4yVpMYZ9JLUOINekhpn0EtS4wx6SWqcHw6ukRb7IHE/RFwaL87oJalxBr0kNc6gl6TGGfSS1DiDXpIaZ9BLUuMMeklqnEEvSY0z6CWpcQa9JDXOoJekxhn0ktQ4NzWTtKoW2xAP3BRvPTijl6TGGfSS1DiDXpIa5xq9VsT1WGnjc0YvSY0z6CWpcS7d6LJwiUdaP71m9El2JzmdZCbJgRHnX5bky0l+lOS9y2krSVpbSwZ9kgngTmAPsBO4JcnOedWeAN4FfPgS2kqS1lCfGf0uYKaqzlTVU8ARYO9whao6X1UngB8vt60kaW31WaPfAjw6dDwLXNfz+itpqyuQa/nS6uszo8+Isup5/d5tk+xLMp1kem5uruflJUlL6RP0s8C2oeOtwLme1+/dtqoOVdVUVU1NTk72vLwkaSl9lm5OADuSXA18E7gZeHPP66+kraR5+i5tuQSmYUsGfVVdSLIfuAeYAA5X1akkt3XnDyZ5ETANPAd4Osl7gJ1V9f1RbddoLJKkEXo9MFVVx4Hj88oODr3+FoNlmV5tJUmXj1sgSFLjDHpJapxBL0mNM+glqXEGvSQ1zqCXpMYZ9JLUOINekhpn0EtS4wx6SWqcQS9JjTPoJalxBr0kNc6gl6TGGfSS1DiDXpIaZ9BLUuMMeklqnEEvSY0z6CWpcQa9JDXOoJekxhn0ktQ4g16SGvfM9e6AJNh+4O4Fz5294w2XsSdqkTN6SWqcQS9JjesV9El2JzmdZCbJgRHnk+Qj3fkHk1w7dO5skoeSPJBkejU7L0la2pJr9EkmgDuBG4FZ4ESSY1X1yFC1PcCO7us64GPd94tuqKrHV63XkqTe+szodwEzVXWmqp4CjgB759XZC3yyBu4HnpvkxavcV0nSJegT9FuAR4eOZ7uyvnUKuDfJyST7FvohSfYlmU4yPTc316NbkqQ++gR9RpTVMupcX1XXMljeuT3Ja0b9kKo6VFVTVTU1OTnZo1uSpD76BP0ssG3oeCtwrm+dqrr4/TxwlMFSkCTpMukT9CeAHUmuTrIJuBk4Nq/OMeBt3btvXgV8r6oeS7I5ybMBkmwGbgIeXsX+S5KWsOS7bqrqQpL9wD3ABHC4qk4lua07fxA4DrwemAF+CLyja/5C4GiSiz/rrqr63KqPQpK0oF5bIFTVcQZhPlx2cOh1AbePaHcGuGaFfZQkrYBPxkpS4wx6SWqcQS9JjTPoJalxBr0kNc4PHtHY6vthHX6oh650zuglqXEGvSQ1zqUbaY0stmQELhvp8nFGL0mNM+glqXEGvSQ1zqCXpMYZ9JLUOINekhrn2yuljm+HVKuc0UtS4wx6SWqcQS9JjTPoJalxBr0kNc6gl6TGGfSS1DiDXpIaZ9BLUuN8MlZaJp+g1bjpNaNPsjvJ6SQzSQ6MOJ8kH+nOP5jk2r5tJUlra8mgTzIB3AnsAXYCtyTZOa/aHmBH97UP+Ngy2kqS1lCfGf0uYKaqzlTVU8ARYO+8OnuBT9bA/cBzk7y4Z1tJ0hpKVS1eIfkdYHdV3dodvxW4rqr2D9X5J+COqvpSd/wF4H3A9qXaDl1jH4P/DQD8OnB6ZUP7iauAx1fpWuvNsWxMjmVjamkssPR4fqWqJked6PPH2Iwom/+vw0J1+rQdFFYdAg716M+yJJmuqqnVvu56cCwbk2PZmFoaC6xsPH2CfhbYNnS8FTjXs86mHm0lSWuozxr9CWBHkquTbAJuBo7Nq3MMeFv37ptXAd+rqsd6tpUkraElZ/RVdSHJfuAeYAI4XFWnktzWnT8IHAdeD8wAPwTesVjbNRnJwlZ9OWgdOZaNybFsTC2NBVYwniX/GCtJGm9ugSBJjTPoJalxzQZ9S1svJDmb5KEkDySZXu/+LFeSw0nOJ3l4qOyXk3w+yX9235+3nn3sa4GxfCDJN7v780CS169nH/tKsi3JPyf5apJTSd7dlY/dvVlkLGN3b5L8QpJ/T/If3Vj+tCu/5PvS5Bp9t/XC14EbGbz18wRwS1U9sq4du0RJzgJTVTWWD38keQ3wJIOnp1/elf0F8ERV3dH9Q/y8qnrfevazjwXG8gHgyar68Hr2bbm6p9dfXFVfSfJs4CTwRuAPGLN7s8hYfo8xuzdJAmyuqieTPAv4EvBu4Le4xPvS6ozerRc2kKr6IvDEvOK9wCe6159g8Eu54S0wlrFUVY9V1Ve61z8AvgpsYQzvzSJjGTvdVjJPdofP6r6KFdyXVoN+C/Do0PEsY3rTOwXcm+Rkt1VEC17YPWtB9/0F69yfldrf7dx6eByWOuZLsh34DeDfGPN7M28sMIb3JslEkgeA88Dnq2pF96XVoO+99cKYuL6qrmWwC+jt3fKBNo6PAS8FXgk8BvzluvZmmZL8EvBp4D1V9f317s9KjBjLWN6bqvq/qnolg90EdiV5+Uqu12rQ99m2YWxU1bnu+3ngKIOlqXH37W5d9eL66vl17s8lq6pvd7+YTwN/wxjdn24N+NPA31XVZ7risbw3o8YyzvcGoKr+B/gXYDcruC+tBn0zWy8k2dz9cYkkm4GbgIcXbzUWjgFv716/HfjHdezLilz85eu8iTG5P90f/f4W+GpV/dXQqbG7NwuNZRzvTZLJJM/tXv8i8JvA11jBfWnyXTcA3duo/pqfbr3w5+vbo0uT5FcZzOJhsGXFXeM2liR/D7yOwTar3wb+BPgH4FPAS4D/Bn63qjb8HzkXGMvrGCwNFHAW+KOLa6kbWZJXA/8KPAQ83RX/MYO17bG6N4uM5RbG7N4keQWDP7ZOMJiMf6qqPpjk+VzifWk26CVJA60u3UiSOga9JDXOoJekxhn0ktQ4g16SGmfQS1LjDHpJatz/AzNJi+8tn61PAAAAAElFTkSuQmCC\n",
      "text/plain": [
       "<Figure size 432x288 with 1 Axes>"
      ]
     },
     "metadata": {
      "needs_background": "light"
     },
     "output_type": "display_data"
    }
   ],
>>>>>>> parent of 1492915... last commit of the draft
   "source": [
    "ss = list(map(lambda x: x[2],ls[1:]))\n",
    "#print(ss)\n",
    "#ax = plt.gca()\n",
    "#ax.hist(ss,bins=bounces)\n",
    "sidelengths = np.array(list(map(lambda q: np.linalg.norm(q[1]-q[0]),shape)))\n",
    "us,cs = side_chance(ls)\n",
<<<<<<< HEAD
    "print(sum(cs))\n",
    "ncs = cs#/sum(sidelengths)\n",
    "plt.bar(us,ncs,width=0.75)\n",
    "plt.plot(us,sidelengths[us]/sum(sidelengths),'rx')\n",
    "plt.savefig(\"6normcardiodsidesplot.png\")"
=======
    "ncs = cs/sidelengths[us]\n",
    "plt.bar(us,cs,width=0.75)\n",
    "plt.savefig(\"normalizedcardiodsidesplot.png\")"
>>>>>>> parent of 1492915... last commit of the draft
   ]
  },
  {
   "cell_type": "code",
<<<<<<< HEAD
   "execution_count": null,
   "metadata": {},
   "outputs": [],
=======
   "execution_count": 98,
   "metadata": {},
   "outputs": [
    {
     "ename": "IndexError",
     "evalue": "tuple index out of range",
     "output_type": "error",
     "traceback": [
      "\u001b[1;31m---------------------------------------------------------------------------\u001b[0m",
      "\u001b[1;31mIndexError\u001b[0m                                Traceback (most recent call last)",
      "\u001b[1;32m<ipython-input-98-bdd14f7e5f6a>\u001b[0m in \u001b[0;36m<module>\u001b[1;34m\u001b[0m\n\u001b[0;32m      1\u001b[0m \u001b[1;33m(\u001b[0m\u001b[0mfs\u001b[0m\u001b[1;33m,\u001b[0m\u001b[0mns\u001b[0m\u001b[1;33m,\u001b[0m\u001b[0mts\u001b[0m\u001b[1;33m)\u001b[0m \u001b[1;33m=\u001b[0m \u001b[0mpolar_curve\u001b[0m\u001b[1;33m(\u001b[0m\u001b[1;32mlambda\u001b[0m \u001b[0mt\u001b[0m\u001b[1;33m:\u001b[0m \u001b[1;36m1\u001b[0m\u001b[1;33m+\u001b[0m\u001b[0mnp\u001b[0m\u001b[1;33m.\u001b[0m\u001b[0mcos\u001b[0m\u001b[1;33m(\u001b[0m\u001b[0mt\u001b[0m\u001b[1;33m)\u001b[0m\u001b[1;33m,\u001b[0m\u001b[1;32mlambda\u001b[0m \u001b[0mt\u001b[0m\u001b[1;33m:\u001b[0m \u001b[1;33m-\u001b[0m\u001b[0mnp\u001b[0m\u001b[1;33m.\u001b[0m\u001b[0msin\u001b[0m\u001b[1;33m(\u001b[0m\u001b[0mt\u001b[0m\u001b[1;33m)\u001b[0m\u001b[1;33m)\u001b[0m\u001b[1;33m\u001b[0m\u001b[1;33m\u001b[0m\u001b[0m\n\u001b[0;32m      2\u001b[0m \u001b[0mhit\u001b[0m \u001b[1;33m=\u001b[0m \u001b[0mpiecewise_smooth\u001b[0m\u001b[1;33m(\u001b[0m\u001b[0mfs\u001b[0m\u001b[1;33m,\u001b[0m\u001b[0mns\u001b[0m\u001b[1;33m,\u001b[0m\u001b[0mts\u001b[0m\u001b[1;33m)\u001b[0m\u001b[1;33m\u001b[0m\u001b[1;33m\u001b[0m\u001b[0m\n\u001b[1;32m----> 3\u001b[1;33m \u001b[0mls\u001b[0m \u001b[1;33m=\u001b[0m \u001b[0msim\u001b[0m\u001b[1;33m(\u001b[0m\u001b[0mhit\u001b[0m\u001b[1;33m,\u001b[0m\u001b[0mrandx\u001b[0m\u001b[1;33m(\u001b[0m\u001b[1;36m0.5\u001b[0m\u001b[1;33m)\u001b[0m\u001b[1;33m+\u001b[0m\u001b[0mnp\u001b[0m\u001b[1;33m.\u001b[0m\u001b[0marray\u001b[0m\u001b[1;33m(\u001b[0m\u001b[1;33m[\u001b[0m\u001b[1;36m0.75\u001b[0m\u001b[1;33m,\u001b[0m\u001b[1;36m0\u001b[0m\u001b[1;33m]\u001b[0m\u001b[1;33m)\u001b[0m\u001b[1;33m,\u001b[0m\u001b[0mrandv\u001b[0m\u001b[1;33m(\u001b[0m\u001b[1;33m)\u001b[0m\u001b[1;33m,\u001b[0m\u001b[1;36m1000\u001b[0m\u001b[1;33m)\u001b[0m\u001b[1;33m\u001b[0m\u001b[1;33m\u001b[0m\u001b[0m\n\u001b[0m\u001b[0;32m      4\u001b[0m \u001b[0mts\u001b[0m \u001b[1;33m=\u001b[0m \u001b[0mnp\u001b[0m\u001b[1;33m.\u001b[0m\u001b[0mlinspace\u001b[0m\u001b[1;33m(\u001b[0m\u001b[1;36m0\u001b[0m\u001b[1;33m,\u001b[0m\u001b[1;36m2\u001b[0m\u001b[1;33m*\u001b[0m\u001b[0mnp\u001b[0m\u001b[1;33m.\u001b[0m\u001b[0mpi\u001b[0m\u001b[1;33m)\u001b[0m\u001b[1;33m\u001b[0m\u001b[1;33m\u001b[0m\u001b[0m\n\u001b[0;32m      5\u001b[0m \u001b[0mxs\u001b[0m \u001b[1;33m=\u001b[0m \u001b[1;33m(\u001b[0m\u001b[1;36m1\u001b[0m\u001b[1;33m+\u001b[0m\u001b[0mnp\u001b[0m\u001b[1;33m.\u001b[0m\u001b[0mcos\u001b[0m\u001b[1;33m(\u001b[0m\u001b[0mts\u001b[0m\u001b[1;33m)\u001b[0m\u001b[1;33m)\u001b[0m\u001b[1;33m*\u001b[0m\u001b[0mnp\u001b[0m\u001b[1;33m.\u001b[0m\u001b[0mcos\u001b[0m\u001b[1;33m(\u001b[0m\u001b[0mts\u001b[0m\u001b[1;33m)\u001b[0m\u001b[1;33m\u001b[0m\u001b[1;33m\u001b[0m\u001b[0m\n",
      "\u001b[1;32m<ipython-input-17-6cb2bfc55e00>\u001b[0m in \u001b[0;36msim\u001b[1;34m(hitFunc, x, v, depth)\u001b[0m\n\u001b[0;32m      2\u001b[0m     \u001b[0mlines\u001b[0m \u001b[1;33m=\u001b[0m \u001b[1;33m[\u001b[0m\u001b[1;33m(\u001b[0m\u001b[0mx\u001b[0m\u001b[1;33m,\u001b[0m\u001b[0mv\u001b[0m\u001b[1;33m,\u001b[0m\u001b[1;33m-\u001b[0m\u001b[1;36m1\u001b[0m\u001b[1;33m)\u001b[0m\u001b[1;33m]\u001b[0m\u001b[1;33m\u001b[0m\u001b[1;33m\u001b[0m\u001b[0m\n\u001b[0;32m      3\u001b[0m     \u001b[1;32mfor\u001b[0m \u001b[0m_\u001b[0m \u001b[1;32min\u001b[0m \u001b[0mrange\u001b[0m\u001b[1;33m(\u001b[0m\u001b[0mdepth\u001b[0m\u001b[1;33m)\u001b[0m\u001b[1;33m:\u001b[0m\u001b[1;33m\u001b[0m\u001b[1;33m\u001b[0m\u001b[0m\n\u001b[1;32m----> 4\u001b[1;33m         \u001b[0mx\u001b[0m\u001b[1;33m,\u001b[0m \u001b[0mn\u001b[0m\u001b[1;33m,\u001b[0m \u001b[0ms\u001b[0m \u001b[1;33m=\u001b[0m \u001b[0mhitFunc\u001b[0m\u001b[1;33m(\u001b[0m\u001b[0mx\u001b[0m\u001b[1;33m,\u001b[0m\u001b[0mv\u001b[0m\u001b[1;33m)\u001b[0m\u001b[1;33m\u001b[0m\u001b[1;33m\u001b[0m\u001b[0m\n\u001b[0m\u001b[0;32m      5\u001b[0m         \u001b[0mv\u001b[0m \u001b[1;33m=\u001b[0m \u001b[0mbounce\u001b[0m\u001b[1;33m(\u001b[0m\u001b[0mv\u001b[0m\u001b[1;33m,\u001b[0m\u001b[0mn\u001b[0m\u001b[1;33m)\u001b[0m\u001b[1;33m\u001b[0m\u001b[1;33m\u001b[0m\u001b[0m\n\u001b[0;32m      6\u001b[0m         \u001b[0mx\u001b[0m \u001b[1;33m=\u001b[0m \u001b[0mx\u001b[0m\u001b[1;33m+\u001b[0m\u001b[0merror\u001b[0m\u001b[1;33m*\u001b[0m\u001b[0mv\u001b[0m\u001b[1;31m#np.add(x,np.multiply(1e-12,v))\u001b[0m\u001b[1;33m\u001b[0m\u001b[1;33m\u001b[0m\u001b[0m\n",
      "\u001b[1;32m<ipython-input-14-c9f490a58c78>\u001b[0m in \u001b[0;36mhit\u001b[1;34m(x, v)\u001b[0m\n\u001b[0;32m      1\u001b[0m \u001b[1;32mdef\u001b[0m \u001b[0mpiecewise_smooth\u001b[0m\u001b[1;33m(\u001b[0m\u001b[0mfs\u001b[0m\u001b[1;33m,\u001b[0m\u001b[0mns\u001b[0m\u001b[1;33m,\u001b[0m\u001b[0mtbounds\u001b[0m\u001b[1;33m)\u001b[0m\u001b[1;33m:\u001b[0m\u001b[1;33m\u001b[0m\u001b[1;33m\u001b[0m\u001b[0m\n\u001b[0;32m      2\u001b[0m     \u001b[1;32mdef\u001b[0m \u001b[0mhit\u001b[0m\u001b[1;33m(\u001b[0m\u001b[0mx\u001b[0m\u001b[1;33m,\u001b[0m\u001b[0mv\u001b[0m\u001b[1;33m)\u001b[0m\u001b[1;33m:\u001b[0m\u001b[1;33m\u001b[0m\u001b[1;33m\u001b[0m\u001b[0m\n\u001b[1;32m----> 3\u001b[1;33m         \u001b[0mhits\u001b[0m \u001b[1;33m=\u001b[0m \u001b[0mlist\u001b[0m\u001b[1;33m(\u001b[0m\u001b[0mmap\u001b[0m\u001b[1;33m(\u001b[0m\u001b[1;32mlambda\u001b[0m \u001b[0mifnt\u001b[0m\u001b[1;33m:\u001b[0m \u001b[0mcurve_hit\u001b[0m\u001b[1;33m(\u001b[0m\u001b[0mx\u001b[0m\u001b[1;33m,\u001b[0m\u001b[0mv\u001b[0m\u001b[1;33m,\u001b[0m\u001b[0mifnt\u001b[0m\u001b[1;33m[\u001b[0m\u001b[1;36m1\u001b[0m\u001b[1;33m]\u001b[0m\u001b[1;33m,\u001b[0m\u001b[0mifnt\u001b[0m\u001b[1;33m[\u001b[0m\u001b[1;36m2\u001b[0m\u001b[1;33m]\u001b[0m\u001b[1;33m,\u001b[0m\u001b[0mifnt\u001b[0m\u001b[1;33m[\u001b[0m\u001b[1;36m3\u001b[0m\u001b[1;33m]\u001b[0m\u001b[1;33m)\u001b[0m\u001b[1;33m+\u001b[0m\u001b[1;33m(\u001b[0m\u001b[0mifnt\u001b[0m\u001b[1;33m[\u001b[0m\u001b[1;36m0\u001b[0m\u001b[1;33m]\u001b[0m\u001b[1;33m,\u001b[0m\u001b[1;33m)\u001b[0m\u001b[1;33m,\u001b[0m\u001b[0menumerate\u001b[0m\u001b[1;33m(\u001b[0m\u001b[0mzip\u001b[0m\u001b[1;33m(\u001b[0m\u001b[0mfs\u001b[0m\u001b[1;33m,\u001b[0m\u001b[0mns\u001b[0m\u001b[1;33m,\u001b[0m\u001b[0mtbounds\u001b[0m\u001b[1;33m)\u001b[0m\u001b[1;33m)\u001b[0m\u001b[1;33m)\u001b[0m\u001b[1;33m)\u001b[0m\u001b[1;33m\u001b[0m\u001b[1;33m\u001b[0m\u001b[0m\n\u001b[0m\u001b[0;32m      4\u001b[0m         \u001b[1;32mreturn\u001b[0m \u001b[0mgeneral_hit\u001b[0m\u001b[1;33m(\u001b[0m\u001b[0mhits\u001b[0m\u001b[1;33m)\u001b[0m\u001b[1;33m\u001b[0m\u001b[1;33m\u001b[0m\u001b[0m\n\u001b[0;32m      5\u001b[0m     \u001b[1;32mreturn\u001b[0m \u001b[0mhit\u001b[0m\u001b[1;33m\u001b[0m\u001b[1;33m\u001b[0m\u001b[0m\n",
      "\u001b[1;32m<ipython-input-14-c9f490a58c78>\u001b[0m in \u001b[0;36m<lambda>\u001b[1;34m(ifnt)\u001b[0m\n\u001b[0;32m      1\u001b[0m \u001b[1;32mdef\u001b[0m \u001b[0mpiecewise_smooth\u001b[0m\u001b[1;33m(\u001b[0m\u001b[0mfs\u001b[0m\u001b[1;33m,\u001b[0m\u001b[0mns\u001b[0m\u001b[1;33m,\u001b[0m\u001b[0mtbounds\u001b[0m\u001b[1;33m)\u001b[0m\u001b[1;33m:\u001b[0m\u001b[1;33m\u001b[0m\u001b[1;33m\u001b[0m\u001b[0m\n\u001b[0;32m      2\u001b[0m     \u001b[1;32mdef\u001b[0m \u001b[0mhit\u001b[0m\u001b[1;33m(\u001b[0m\u001b[0mx\u001b[0m\u001b[1;33m,\u001b[0m\u001b[0mv\u001b[0m\u001b[1;33m)\u001b[0m\u001b[1;33m:\u001b[0m\u001b[1;33m\u001b[0m\u001b[1;33m\u001b[0m\u001b[0m\n\u001b[1;32m----> 3\u001b[1;33m         \u001b[0mhits\u001b[0m \u001b[1;33m=\u001b[0m \u001b[0mlist\u001b[0m\u001b[1;33m(\u001b[0m\u001b[0mmap\u001b[0m\u001b[1;33m(\u001b[0m\u001b[1;32mlambda\u001b[0m \u001b[0mifnt\u001b[0m\u001b[1;33m:\u001b[0m \u001b[0mcurve_hit\u001b[0m\u001b[1;33m(\u001b[0m\u001b[0mx\u001b[0m\u001b[1;33m,\u001b[0m\u001b[0mv\u001b[0m\u001b[1;33m,\u001b[0m\u001b[0mifnt\u001b[0m\u001b[1;33m[\u001b[0m\u001b[1;36m1\u001b[0m\u001b[1;33m]\u001b[0m\u001b[1;33m,\u001b[0m\u001b[0mifnt\u001b[0m\u001b[1;33m[\u001b[0m\u001b[1;36m2\u001b[0m\u001b[1;33m]\u001b[0m\u001b[1;33m,\u001b[0m\u001b[0mifnt\u001b[0m\u001b[1;33m[\u001b[0m\u001b[1;36m3\u001b[0m\u001b[1;33m]\u001b[0m\u001b[1;33m)\u001b[0m\u001b[1;33m+\u001b[0m\u001b[1;33m(\u001b[0m\u001b[0mifnt\u001b[0m\u001b[1;33m[\u001b[0m\u001b[1;36m0\u001b[0m\u001b[1;33m]\u001b[0m\u001b[1;33m,\u001b[0m\u001b[1;33m)\u001b[0m\u001b[1;33m,\u001b[0m\u001b[0menumerate\u001b[0m\u001b[1;33m(\u001b[0m\u001b[0mzip\u001b[0m\u001b[1;33m(\u001b[0m\u001b[0mfs\u001b[0m\u001b[1;33m,\u001b[0m\u001b[0mns\u001b[0m\u001b[1;33m,\u001b[0m\u001b[0mtbounds\u001b[0m\u001b[1;33m)\u001b[0m\u001b[1;33m)\u001b[0m\u001b[1;33m)\u001b[0m\u001b[1;33m)\u001b[0m\u001b[1;33m\u001b[0m\u001b[1;33m\u001b[0m\u001b[0m\n\u001b[0m\u001b[0;32m      4\u001b[0m         \u001b[1;32mreturn\u001b[0m \u001b[0mgeneral_hit\u001b[0m\u001b[1;33m(\u001b[0m\u001b[0mhits\u001b[0m\u001b[1;33m)\u001b[0m\u001b[1;33m\u001b[0m\u001b[1;33m\u001b[0m\u001b[0m\n\u001b[0;32m      5\u001b[0m     \u001b[1;32mreturn\u001b[0m \u001b[0mhit\u001b[0m\u001b[1;33m\u001b[0m\u001b[1;33m\u001b[0m\u001b[0m\n",
      "\u001b[1;31mIndexError\u001b[0m: tuple index out of range"
     ]
    }
   ],
>>>>>>> parent of 1492915... last commit of the draft
   "source": [
    "(fs,ns,ts) = polar_curve(lambda t: 1+np.cos(t),lambda t: -np.sin(t))\n",
    "hit = piecewise_smooth(fs,ns,ts)\n",
    "ls = sim(hit,randx(0.5)+np.array([0.75,0]),randv(),1000)\n",
    "ts = np.linspace(0,2*np.pi)\n",
    "xs = (1+np.cos(ts))*np.cos(ts)\n",
    "ys = (1+np.cos(ts))*np.sin(ts)\n",
    "plt.plot(xs,ys)\n",
    "xs = list(map(lambda x: x[0][0], ls))\n",
    "ys = list(map(lambda x: x[0][1], ls))\n",
    "plt.plot(xs,ys)\n",
    "x,v,_ = ls[-1]\n",
    "plt.quiver(*x,*v)\n",
    "ax = plt.gca()\n",
    "ax.set_aspect(1)"
   ]
  },
  {
   "cell_type": "markdown",
   "metadata": {},
   "source": [
    "Setting up shapes etc."
   ]
  },
  {
   "cell_type": "code",
<<<<<<< HEAD
   "execution_count": null,
=======
   "execution_count": 80,
>>>>>>> parent of 1492915... last commit of the draft
   "metadata": {},
   "outputs": [],
   "source": [
    "sides = 110\n",
    "bounces = 1000\n",
    "ng = ngon(sides)\n",
    "nghit = polygon_hit(ng)"
   ]
  },
  {
   "cell_type": "markdown",
   "metadata": {},
   "source": [
    "Random Circle & N-Gon"
   ]
  },
  {
   "cell_type": "code",
<<<<<<< HEAD
   "execution_count": null,
   "metadata": {},
   "outputs": [],
=======
   "execution_count": 81,
   "metadata": {},
   "outputs": [
    {
     "data": {
      "image/png": "iVBORw0KGgoAAAANSUhEUgAAAQ0AAAD4CAYAAAD2OrMWAAAAOXRFWHRTb2Z0d2FyZQBNYXRwbG90bGliIHZlcnNpb24zLjMuMSwgaHR0cHM6Ly9tYXRwbG90bGliLm9yZy/d3fzzAAAACXBIWXMAAAsTAAALEwEAmpwYAAArjklEQVR4nO3dd3zU9f3A8df7sndIAgkQIOy9I1tGkeXGUdG27p/irrVV6qq11Sq12rpq0Vpsa8UFqIhMEUEFZCRAEjZhEwgJBMjOfX5/3CUkkHGX+959b3yej8c9cved7++FvPmOz+fzFqUUmqZpjrKYHYCmab5FJw1N05yik4amaU7RSUPTNKfopKFpmlOCzQ6gOZKSklRaWprZYWia39qwYUO+UqplffN8MmmkpaWxfv16s8PQNL8lIvsamqcvTzRNc4pOGpqmOUUnDU3TnKKThqZpTtFJQ9M0pxiSNETkXRE5JiJbG5gvIvKqiOwSkc0iMqjWvMkist0+b4YR8Wia5j5GnWnMBiY3Mn8K0NX+ugv4O4CIBAFv2Of3Am4UkV4GxaRpmhsY0k5DKfWtiKQ1sshVwL+VrR/+GhGJF5HWQBqwSym1B0BE5tiXzTYiLs29qpQi99RRcouOEld2mu15Z+nf+ixr91aw58ABCk5HUFHRim/yo6hUQseIMsaGF6JCW5DcqjP7S8v5WZ/WxFvKCQtXxHZuQ1hkhNmHpTXBU4272gIHan0+aJ9W3/Sh9W1ARO7CdpZC+/bt3ROldoHSikr+smQnlmBhTcEZCksq2L+jAAAVG4ICLEUVtdaIsL96X7CtvSVh7C1JsX3IOwjABzuPMYUQclUlObKtzvLDJJ+bu7ZkV0IaPx3RgZRWUcYfoOY0TyUNqWeaamT6hROVmgXMAkhPT9cjB7lBZWkxwXmZZP6wiEeyu7KrvEWd+ef/wqSoot5foLO+oqLefwlrVBJrdihgLy+v2Vszvbeq4KE+YYy+ZBDhrZMNiEBzhqeSxkGgXa3PqcBhILSB6ZoHnC7K49VF83l7Yyp3t1jPPwrTAfhbyFp2VQy5YHkjEoQRsiSEu7KskFW3K8GiG+LoMXCUSVEFDjFquD/7PY0FSqk+9cy7DLgfuBTb5cerSqkhIhIM7ADGA4eAH4GblFJZje0rPT1d6b4nzbOncB8/HF3Nm0tPcehwB7PDMVxYRAHBKobrh8Xx+CUjCQ0ONTsknyQiG5RS6fXNM+RMQ0Q+AMYCSSJyEPgdEAKglHoLWIgtYewCioHb7PMqReR+YDEQBLzbVMLQnDdv8Ub+tiKbXGyXG8Ex+6k83c/kqNyjrCSBMmD2N8XM/mYpbWOzKSjuSdbTl2AJDTc7PL9g2JmGJ+kzjaaVHjnCLbN+4HTBKbIjWpkdjldoFVLK3y9NYNDQ0YglyOxwvJrbzzQ072C1Kl77ZCuvbNxP/5N5ZMYng04YNY5VhHPtZ8Xw2SIAvnhgJH3bxpsblA/SScMPbNt/kslvfldnWma8fqrQlCte+47osGCu7N+G56b2QcRbbvV6N500fNierbv4w+xlrAhu1/TCWr3OlFXyv3X7mbvlMNMu6cxTIzoTpJNHo3TS8EHbt+/m3vc3sLs8CnTCMERpSSXvZBxgzvoDPHpFL25Oa0WwRSeP+ugboT5kxw85TPxsj9lhBIwrxyTx5wkDCAsOMzsUj9M3Qn1c7r6TjP37d00vqBnq85X5fL/nC96/PI5u7S/R9zzsdNLwYtbyKn74Ygc/+1GfXZgl/0AEv/l4I8mx2Tx33XhaJVzQdjHg6KThhaxVVh54fRlfHqloemHN7Tbn94F8WDpzH7f0/YKHpkwjIaGj2WGZRo/c5WV27D/CG7P+rROGl3pvSz8GzczmlXnf4Yv3A42gk4aXqKqq4uWPVzDxzY38ZV+9NWo0L/K3tSfp8cQCdh/MMzsUj9OXJ15gVcZyHvr0JAUVum+ELymzWhj/+nquSLHwyn0TCA4JjD8nfaZhIqWspM34kl/MKdUJw4d9cdRKl6cWU1pYYnYoHqGThkkKTufxyL9fNjsMzUA9Xvya77/JNTsMt9NJwwTvrvqaQc+tZ25OT7ND0Qx206IsXn9zLaVFZ8wOxW100vCgKquVG+Yu4tkvA+M0NlC9tD+fHs+v5OSRo2aH4hY6aXhIUXklV361mbXrqswORfOQq/68gPXrNpkdhuGMKpbUaMEjEfmNiGTYX1tFpEpEEuzzckVki32eX3Yo+XzbUfo9vZisVYfMDkXzoH2hrblu7mH6PfWl2aEYyuWk4UjBI6XUn5VSA5RSA4DfAiuVUgW1Fhlnn19vBxlf9szy7Tw4e4PZYWgmKqqAtBlfUlJSZnYohjDiTGMI9oJHSqlyoLrgUUNuBD4wYL9e75kvspi9dJfZYWheYuSzSyksKjU7DJcZkTQaKoR0ARGJxFa+8dNakxWwREQ22Asi1UtE7hKR9SKy/vjx4waE7V73/28js7/LNTsMzYsUKGHg88spPVtudiguMSJpOFzwCLgC+O68S5ORSqlB2C5v7hOR0fWtqJSapZRKV0qlt2zpvc2slVL0//0SFmw+YnYompea+vxKdh04ZXYYzWZE0mioEFJ9pnHepYlS6rD95zFgHrbLHZ9krbLy9Rv3c6pEdzbTGpZTVc4tr64if/Nus0NpFiOSxo9AVxHpKCKh2BLD5+cvJCJxwBjgs1rTokQkpvo9MBHYakBMnqcUf3rzH/zfwclmR6L5gENBwq2zVlNx2PcKCrqcNJRSldiqpy0GcoCPlFJZIjJdRKbXWnQqsEQpdbbWtGRgtYhkAuuAL5VSi1yNyeOU4uVZs3j7UHusuumL5qCt0Ul0fXUTpT7WCEyPEWqAqX/6iE2ndEVzrfk2PTCYFm1TzA6jRmNjhOr/Fl109cuv64ShuWzgaxvYvWen2WE4RCcNF3y27WMyjjV/2Lf+7eKNC0bzeeNn7eB0mff3S9JJo5nu+O9yHpod6dI2Mg+cNCYYzW9M/+xvWJXV7DAapZNGM2w9tpPlW32/ZZ/mfb7b2JcHPn/X7DAapZOGk/btyuLyl3eYHYbmx778oTVpM7y3k5tOGk6oKivn0Ze895ep+Ze16xaaHUK9dNJwQuffLWVtfG+zw9ACxA1zFUX53tf4SycNBw32szERNN/Q76VNqErv6pagk4YDNqzN4oR3/d60ANLxySVmh1CHThpNKCss4tp5uWaHoQW4K178rOmFPEQnjSb85K9rzA5B09hSGMze/LNNL+gBOmk0YtRzyzlUpq9LNO8w7qVvvKJ+rE4aDSgqKuPgad2AS/MunR83/zGsThoN+PTdb80OQdMuYFXw3YGCphd0I5006rF07gpWb1lsdhiaVq+7PzC3loqn6p6MFZFTtWqfPO3oup5WWlrG/60rZnnLcWaHomn1OlNQyktr95q2f4/UPbFbVV37RCn1rJPrekyPZ5aZuXtNc8jr87I5U2FOtT4z6p4Yta7h1mw1L3trmrP6PGXOyJierHsyXEQyReQrEanuwOFwzRRPmPbfbLN2rWnNsiXf86N9earuyUagg1KqP/AaMN+JdW0LurlY0vx53jPmqKY56oqXPD9Mg0fqniilipRSZ+zvFwIhIpLkyLq1tuG2YklKKUL36Grumm86mLfRo/vzSN0TEUkREbG/H2Lf7wlH1vWEJ2dv4N7j+Z7eraYZYtQrnq3mF+zqBpRSlSJSXfckCHi3uu6Jff5bwHXAPSJSCZQA05StPWy967oakzOsVVbe357nyV1qmuH2HFpFp7YXe2RfAV/3ZM6cNczIOGHItjTNTLufm0xQUJAh29J1TxpQXlGpE4bmN5b+MM8j+wnopPHF95vNDkHTDPOHZS7fbXBIwCYNpRSPfOXZG0ia5k6HSkPYujPX7fsJ2KTx+Zocs0PQNMNd/k/3P0cI2KTx0Ge6ybjmn3ZsO9D0Qi4IyKSRs3sDLcJOmh2GprnFxNnuvVcXkEnj4fl7KCyLNzsMTXObirJKt2074JJGVVUF2467VrhZ07zdf77Y5rZtB1zSuOWferwMzf+t2258p85qAZc0jp7Ujbk0/7fmdAllx864ZdueaQ3iJfafPsLu1m2goMTsUALKT9NTSYgKIy4ihLiIEPYVnOUfK/eYHZZf+5UKY+f7K+jz8BWGbzugksZTS/ajsnTC8JShHROYMaUH/VPjsVjODZ1SUWVldNeWvLx0Bxv2FZoYof96Wkohz8JepbB3MDdMQCWNlT/q7u9Gu7hrEq9OG8iZskp++WFGTRLo3SaW9fsKmfrm9yRFhzGkYwuCLRaKy6tYu/cEp0srCQu20C05mh157jmN1mBNxg6GD+xu6DYDJmns14WPDHV5v9b86Zq+RIcFMz/jEI99soXyKisP/KQLo7u15FRxBat35TP7+1zyz5SxcMvRC7ZRVmklN7/YhOgDx/vfZBmeNAKma/zkf3zPtr36VNgo6R1acLCwhKNFrifjmLBgpvRN4aP1BwGY0CuZaRe144739BCMRsh94TKn12msa3zAnGnsPnra7BD8Rq/WsWQcOEmlteH/cKJCg7h2cCrXDkqlT9s4gmrd01BKkXPkNMty8liek0fmwVN8tP4gbeLCOXyqlKXZeSREhrL9j5OZNmsNm/af9MBR+a9vV+cwelRPw7ZnSNIQkcnA37CNvvWOUuqF8+b/DHjM/vEMcI9SKtM+Lxc4DVQBlQ1lN1cUlVZSUeK+FnKB4vWbBjKpdwpPzd9K9pGiOvNiwoIZ070lE3olM7ZbK+IiQxrcjojQq00svdrE8uD4ruQVlbI85xjLcvLIP1NOeZWVD9cf4MP1B5h5XT+uHZTKk/O3uvvw/Nb873cYmjRcvjyxFzzaAUzANlDwj8CNSqnsWsuMAHKUUoUiMgV4Rik11D4vF0hXSjl8l9LZy5Nff5zJJxsOOry8ZnPz8A6cKa1k7qZDXD84FYCPa32PLSJDuGpAWyb0SuaitARCg11v9lNcXsmqnfnc/Z8NdaZHhwVzxo1No/2ds5co7r48qSl4ZN9ZdcGjmqShlPq+1vJrsI067jE6YThnQLt4/nh1H15euoOvtx0D6iaLnq1jeeWG/nRPjjH8cV5kaDCTeqeQ+8JlfJZxiIfmZAD117rQHGetsmIJMqYtpyeLJVW7A/iq1mcFLBGRDSJyV0MrubvuiWYzvkcrUltEcPlrq2sSRrVOLaP4fsZP+Oqhi+mREmt4wjjfVQPa8r87hxIdFkx0eDBv32z4lWvAmL9qn2Hb8lSxJNuCIuOwJY3Hak0eqZQahK2e630iMrq+dZtb9yS/UD8xccbybcdYsPnciGYRIUEEW4QZU3qw9OExtImP8Gg8I7ok8eHdw6i0Kn79cSb/vCWdlNhwj8bgD7KzL3zk3VweKZYEICL9gHeAq5RSNR1AlFKH7T+PAfOwXe4Y5sDaz5gW9LWRm/RbQzsmMPPafoTVujfROi6cefeOZPqYznWegHhS7zZxzL1nBAlRodz7/kYm9U42JQ5ftn17vTXImsVTxZLaA3OBXyildtSaHiUiMdXvgYmAobfJE4v3UEqokZv0KxEhQSTHhtGpZRSv3jiQRz/dTFmlFYAbh7RnwYOj6JsaZ3KU0C4hkk+mD6dHSgz/WbOPiBBjhuoPFKsiwlFWqyHbcjlpKKUqgeqCRznAR9XFkqoLJgFPA4nAmyKSISLVjz6SgdUikgmsA75UShlaCnv0uqHMrxpl5Cb9yis39CevqIzJvVMY+vzymun/+MVg/nRNXyJDvacpT2J0GB/cNYzR3VpSUqHLaDpjUu5aynONua/h3y1ClSLttwvdH5APap8Qyf6CYm4bmca/vsutM2/t4+NJ9uL7BhVVVmZ8uoVPN9Z9KhYXEcL947rw3EI9aPT5EktO8sawWIbd6Fiv14AtlqQK9jJE9D+g8908vAMjuyTSIjKkTsLokRLDnucv9eqEARASZOGl6/txz9jOdaafKqlgRJdEPpk+3KTIvNeJiHheyTpryLb8Oml8veUL8kMrzA7D6/z+yt7szDtDYfG572Zy7xQW/XJ0nS7s3kxEeGxyD566vFed6T/sPkF6WgLLHxljUmTea21ljCHb8euk8emeY+wp62d2GF5l9m0XsevYGdbXGsfi0r4p/P3ng0yMqvnuGNWRGVN61Hz+45e2M8vOLaO5b1znhlYLWFYDbob6ddLYeqaT2SF4nX0nipn8t1V1pr06baDbG2q50/Qxnbmif5uaz9uO2vrF/HqisV3C/cGx4gKXt+HXSWP/4RSzQ/A6v/s8i6pavVPn3DWMYIOaF5vp1WkDat5P/usq1ucWICI8calxHbX8wdyMnS5vw/f/tTTAF58KecJtI9PqfB7aMcGcQAwmIix44Nyj9eve+oElWUe5drBHuzl5vcIy17tg+G3SOF58HAnRw/vV9r//G8qKWv1J7hjV0acvS87Xp23dRmjT/7uBRVuPMrJLokkReZ9P1rjevsVvk8bW5ctQFUlmh+E1JvZKZuai7Rw5dW6krbvH+N89nxvSz/VosIjw+LwtGNQQ0i8Unna9dbTfJo2V+7ynJaM3+DG3gMyDJ3nlhgE101rFeHd7jOYY2fXcfxSVVsUlPZP5YY+udWMkv00aUZV+e2jNUlhcwe+v7F2nM5o/Gtap7j2akCDh3rH60auR/PZf0NZT+py0til9Urh5eBof2wfvvWloe5Mjco9WMeF0bhlV8/mrrUfpnmJMoybNxm+Txu3WXLND8CpPXNaTgrPlLMqyjavQKSmqiTV81/DOiUSFBtGzdSxAzehfmo2qKHNpfb9NGu+d1WMu1BYaZOGzjEM1nzsk+nHS6JTE2fIqpvTR7XTqc+yYa2Nr+G3SWBGin5zUFmSRmksTsPVy9VdD7fc1gizCED9ph2Kk1dkHml6oEX6bNLS6duSdIftIEa1iwgBol+DZYfs8KSk6jG7J0azZc4Ibh7RreoUAUxndpumFGqGTRoD4LOMQoUEWBraPJyk6zKsG13GHYZ0SWZ9bSP7pcrND8Tpnq1wb9cyQpCEik0Vku4jsEpEZ9cwXEXnVPn+ziAxydF3NGHN+PMCEXskUlVTSIdF/L02qDe+USElFFX9est3sULzO7uOuFdx2OWnYiyW9gW008V7AjSLS67zFpgBd7a+7gL87sa5mkOvSU9lfUOzX9zOqDe1kazpeXmnl/nFdTI7Gu7g6vqoRZxo1xZKUUuVAdbGk2q4C/q1s1gDxItLawXU1gwzvlMjhUyW0C4CkkRB1rrn0RD16eR07Tpe4tL6niiU1tIzDhZZ0sSTXZR0uQin/fnJSH924q65Wya49bvdUsaSGlnG40FJziyVp58z+PhcgIO5plJSf682ZeeCUiZF4n7Yu9jky4ha6I8WSGlom1IF1NQO0jY/gi0zbVxsIZxrf7jx3Nvr9bj1EQm0x4a792XukWJL98832pyjDgFNKqSMOrqsZYEKvc9f1LaPDTIzEM5Zk5REXEUK35GgWZ+WZHY5XCXFxDBVPFUtaCOwBdgFvA/c2tq6rMWkXqn0z0FdGHG+uyiory7flMb5HK0Z1aUnOkSKzQ/Iqrt4IN6SFj1JqIbbEUHvaW7XeK+A+R9fVjDckLXCaU6/LLeBkcQUTe6cQZBHe/W6v2SF5FVWxD2jR7PX9tkXondG6fmtta/eeG4W6osq/hw1YkpVHWLCF0d2SAipZOqp1eLxL6/tt0njnjG4+XNvP3llb837dXteHsfdWSimWZudxcdeWRIYGExcZYnZIXqV3Yg7dk1q7tA2/TRpaw5bYx9TwR1mHizh0soRJ9ns41TVQNJusEz0JCnLtRrjfJo3bOrcyOwSvUruY0JLsPL8t8bA46ygWgfE9kzlVUsHd/9lgdkh+x2+TRtcEfVpaW5u4cw16jpwqZcsh/2zwtCQrjyEdE4iPCOFXH2ZwqNC1JtP+ZmTbHS5vw2+TRq9E/36s6KwFm4+QFB1K/1RbbZCZi/yv92du/lm2551mYq8UXl+xi+XbjvHkZbrCWm3fHerm8jb8NmnEd9FDvdV26GQJaYlRvHf7EABW78on/4xrY0V6myXZtns1ocEWXlm2g2sGtqX3eQWUNNf5bdJo30b3Tzlf+4RI4iNDud5eqvDyV1dT6UePX5dk5RETFszMRdvokRLLc1P7Ml3f06jjyYub3z6jmt8mDYvFbw+t2drbO6r9coLtFPVoUSkzF/vHZcrx02Ws31fI6bJKRIR//Hww4SEWTpzVj95r65Csk4bmhJhw283htvER9LWfts/6dg8LNvt+H8Gl2ef6l/x12gDaJ0by9qo9JkbknQZ1dq2NBvh50vhFD918uLY/LMiueT/R3oGtXUIEj36ymR15p80KyxCPz9sCwK8mdGNcd9vj9ucXbjMzJK/UIi7W5W34ddL4z7aOZofgdarHh5xkrwkydWAqkaHBTP/PBopKK8wMrdlWbD9W8756aL8fc/231asrjLhs9+ukMXOqfoJyvvF/WYnVqujaKpq0xEgyD5zkzZ8NYn9BMY98lInV6luNvo4VlXLbv34E4J+3pGOxCEoprn/rB5Mj8z4PtzemFpBfJ43rhwzglt5zzQ7D63R6fCFllVYm9U7h+9359GgdwxOX9WRpdh5/X7nb7PAcVl5p5d73N9Z8Htu9FUop7nxvvYlRea9hnXXSaJJIED8cudjsMLxSj6cWceRUKRVVim+2H+fWEWlcNaANLy3ZzsodvjEG6/MLc1i/rxCAaRe1wyLw0pLtLN92rIk1A1P7zq4/OQE/TxoApUoPKtuQz+3D/z34wSYyD57iT9f0pXtyDA/N2cSBgmKTo2vcvE0Hmf19Ll1bRQO2QYZeXLSdN1b4zpmSJ0UDyWnGNHRzKWmISIKILBWRnfafF6QyEWknIitEJEdEskTkoVrznhGRQyKSYX9d6ko89blmUiwqWDcpb8rVb3zH5a+tpl9qHCeLbR29Siuqml7RBFmHT/HbuVsY2jGBQe1bEBUaxFvf7OEtH7q08qQ7qeQjKrEEu1bvpJqrZxozgOVKqa7Acvvn81UCjyilegLDgPvOK4j0ilJqgP1l+AheUzv1Qyp96+aeWWLCQ/jIXiQ6+0gRPZ5axJmySpOjqutkcTnT/7uB+IhQXrtpIPM2HeJseRXr9NOSBr1DMDntjeu452rSuAp4z/7+PeDq8xdQSh1RSm20vz+NbSzQemubuEOHWF0ox1GZB04y89p+/GrCuU5NfX63mIc/zGDVzuNUmfxkpcqqeOCDTRwoKGFwhxYMeW455X7UDN6dtrcw7k9OXBlXQUROKqXia30uVEo1eLdFRNKAb4E+SqkiEXkGuBUoAtZjOyMpbGDdu7CVdKR9+/aD9+3b53CcaTO+dHhZzWbLMxMZ9eIKTpWca7uRHBvG1QPbcu2gVLole+ZeUVllFVsOnmLt3gL+7CdN3s2w89lLCAl1fPAdEdmglEqvd15TSUNElgH1NXh4AnjP0aQhItHASuA5pdRc+7RkIB9bgaQ/AK2VUrc3dUDp6elq/XrHH6v1+f1izpR412m2L5jYK5kN+wqpUoqHL+nGqp3HWbHddsbRt20c1wxqy5X925BoYEmEkvIqNu4vZO3eAtbtPcGm/Scpq9RnE65obTnLD8//1Kl1XEoaTWx4OzBWKXXEXpv1G6VU93qWCwEWAIuVUi83sK00YIFSqk9T+3U2aeSXlpP+zFKHl9fq992MnxAaZOGLzMPM3XSQrYeKCLYIY7u35JpBqfykRyvCnSwuXFRawYbcc0li88FTVFoVFoFebWIZkpZIq9gwXvhKNwlvrlsTi3jmNzc6tU5jScPVEgafA7cAL9h/flbPzgX4J5BzfsIQkdb2okkAU4GtLsZTr6RwPTK5EUa+8DUAnZKiaNsigsEdWrBhXyHLco6xLMfWNuLGIe25bnAqg9rHI/UU5Sk4W866vQW2V+4Jsg8XYVUQbBH6pcZx58WdGNopgcEdWhAbHsKxolKGPL/co8fpTxIqznDDCGMHInL1TCMR+AhoD+wHrldKFYhIG+AdpdSlIjIKWAVsAarPMx9XSi0Ukf8AA7BdnuQCd9dKIg1y9kwDYNSLX3NQD/3mcTHhwaDgdANPYXq2jiW9Qwv6t4snNNiCUooqq2J/QTF/XbbTw9H6p71/urTeBN4Yt12emKU5SWN/wVlGz/zGPQFpmhfLfeEyp9dpLGn4fYvQau0ToswOQdM8buEvhhi+TUPKMvqKiV1jWLLTt8eN8HZX9m/DfeO60LVVdE3NWKUUGQdOMnfjIT7PPFznMa7mPm2sFnr2NKaTWm0Bc6YB8NBQ3Q/F3T7PPMykv37L/9btr6mtIiIMbN+CB8d3ZfqYziZHGDi6UoK4odh3QJ1p9O4zkBAOUIExbfC1hj05fytPznfLwzDNQU9f09Ut2w2oMw2AxwbqU2MtMHQe1tct2w24pHHrlZPobjlkdhia5lZvdHJf84KASxrBEdFMautfRYI0/9I2PsLlbUy+abIBkdQv4JIGwOChaWaHoGkNOnTS9bOEoOhoAyKpX0AmjTHpV9C2VYbZYWiaW7w+3r03+gMyaQA8e+0wLGFHzQ5D0wx3+QT3XZpAACeNse3GkpBwlMioE3Wmx4QF1FNozc88N819lyXVAjZpBFmCeHRyd4rPJtaZ3lDHKk3zdiGhZ7mp/2i37ydgkwbAZR2d78ijad7q1xfnOd2btTkCOmlEhUbwSMxmEkpOmR2Kprns9rF3eGQ/AZ00AO575GHmZMwyOwxNc8kz6eWEhER6ZF9ur3tiXy5XRLbYa5usd3Z9d7KEh3Ps1vs9vVtNM9QtU6/02L48Ufek2jh7bZPaA3s4s77bDL3Jc1+4phlt2TVBSJDnOmG6ve6Jm9c3REhYKI+301XYNN/U5aJJHt2fq0kjuXpMT/vPVg0sp4AlIrLBXr/E2fXd7o67Jpq1a01rtnsHBIMHnpjU1mTSEJFlIrK1ntdVTuxnpFJqEDAFW1lGpx8mi8hdIrJeRNYfP258VfOgkGDm//wiw7erae6SEhvOo9M8e5YBDgzCo5S6pKF5IpJXXYbAXvfkWAPbOGz/eUxE5gFDsFVac2h9+7qzgFlgG1i4qbibY0Af0050NM1pXz10sSn7dfXypLruCTRc9yRKRGKq3wMTOVffpMn1PW3bUxPMDkHTmjSmW0taRJlTz8fVpPECMEFEdgIT7J8RkTYiUl0BPhlYLSKZwDrgS6XUosbWN1N4VCgv9AgxOwxNa9S/bjXvUjpg6p44w2q10unxr9y2fU1zxT2Tu/HYWPeM/1lN1z1xksVi4aNbmiwpq2ked9GAZLcnjKbopNGAIT078NhA46qha5oR/nf9ILND0EmjMdN/Ot7sEDStxpyHRhESZP6frPkReDERYeHN/c0OQ9No2QKGtY4zOwxAJ40m9eqVyuKp+v6GZp7+rQtY+5spZodRQycNB3Qf2oGhie4fRk3T6jNn+tVYLN7zp+o9kXi5Ob8ezYho1+tRaJozNj3enYgw76pBrJOGg0SEtx8cieB77Vo03/TG1WW0iO1idhgX0EnDCVGxYbw1WVc919wvMbyUy4ZdY3YY9dJJw0mTxvZk6Z09iJBys0PR/FTrCCs/Pj3V7DAapJNGM3Tt0pm/XpZqdhiaH+oaWcqKGZO86sbn+bw3Mi83adRFpOoHKprB5v1qEuFh5vRedZROGi5Y+VvPD4Ci+a+lP+9NtBsLNxtFJw0XBAUFs+f5STw+OsPsUDQf9sewaFb/33C69kkzOxSH6KThIoslmDsnP0pq7BmzQ9F81NV3DiS1c4LZYThMJw0DWCwhrHzsarPD0HzQ/67pT3S7WLPDcIrbiyWJSHd7kaTqV5GI/NI+7xkROVRr3qWuxGOmoKAwtjw7zuwwNB/y/sWtGDHE957Cub1YklJqu71I0gBgMFAMzKu1yCvV85VSC89f35fEhEay47kphEU0OV6zFsDSS7cz76bOjLzMN0e/93SxpPHAbqXUPhf367VCgyzkPK1rqGgNe+3XNzCwXw+zw2g2TxVLqjYN+OC8afeLyGYRebexWq7urntiJIsIe56fwrhR7cwORfMyc2/vT+vUtmaH4RJPFUtCREKBK4GPa03+O9AZGAAcAf7S0PpKqVlKqXSlVHrLli2d2bUpLBYL/7q8H2ltfesml+YeI8oPkfGrEQzq5nv3MM7nkWJJdlOAjUqpvFrbrnkvIm8DCxwL23d888DFvLt6L88uyDY7FM0kg+Ki+O+jd2LxgqH6jOD2Ykm13Mh5lyb2RFNtKueKKPmV20d1ZP59I8wOQ/OwnhVB3NmrLXN/O9ZvEgZ4plgSIhJpnz/3vPVnisgWEdkMjAMedjEerzWgXQsyf3dh9bZpF+n7Hv7qrdsH8eTNA8wOw3C6WJKHKauVzz98m6qchVwes5Oci1/nqvklZoelGWzJjb3o1r+j2WE0W2PFknSDAg8Ti4Wrbrwbjo6AT26ncuFjwDNmh6UZ4PLcHxgzrDvXPfgzxIu7trtKJw2zpPSFu74heu7vIcPsYDQj/PnxnxLRr5/ZYbid/6ZDXxAaRbcbXuR3o7MJi8olKMJv27z5rZCorXRQx1h+b5+ASBigzzRMJyLcdulvuGb8KR784p+s9M1bNQEpLnEbb/98HENaDzE7FI/SZxpeIi4sjveu+xUv3KQbg/mCkGArqx64J+ASBuik4XWm9buYDY8MZrxVNwbzVq9fXsbOP15BbHik2aGYQl+eeKHElin8c+ZvKD94kP/+9X2eDdZlIb3BsivL6TL8ahAxOxRT6TMNLxaamsrtLz3GR5ckmR1KwNv+u3F0GTE14BMG6DMNnzDkkqHsHlPJ/FnLWHAklBWVujGYp3x6S3cG9/S+Kmdm0knDRwSFBHPtfZO5xqr4dOkeFn63n6/Li80Oy2NCgyyUV1k9sq/Y8GAW/XI0beJ17d766KThY8QiXDepM9dO7MRbH/7IixnePbaIUTyVMH58YjwtY8I9si9fpfue+DilFMvXbOHOzw6YHYpPy/7jZCKDg8wOw2vovid+TES4ZHg/cof348ypk4x/eRV5Zfr+tiM+mjGGi+KiEH1z0yk6afiR6Lh41v7+CqoqKtm07gDXfaHbelRLCj9B35RCerRpy6UXDadva98ecs9MOmn4oaCQYNJHdiR3ZEdUhZXX527lL5sC5/KlV8Rpskti6kxb+eg4oiL12CVG0EnDz0mIhQdu6McDN/SjvKycz9dk85eVBzlS7J+n5BasTOtUiUqMY8LgbrRu1VJffhjMpaQhItdjGwyiJzBEKVXv3UkRmQz8DQgC3lFKVY/wlQB8CKQBucBPlVKFrsSkNSw0LJTrxgzgujEDUErxTWYGt805bHZYLpvdKomvVT5xyXHcc206kRH66Yc7ufT0RER6AlbgH8Cv60saIhIE7MA23N9B4EfgRqVUtojMBAqUUi+IyAyghVLqsab2q5+eGE8pxbKtW5j9/V4OWyvZu8+7//Digy3cOiCVey7rQVhEiNnh+B23PT1RSuXYd9DYYkOAXUqpPfZl52ArspRt/znWvtx7wDdAk0lDM56IMKFvPyb0PTcmRHmVlRX7C3j+8yzyi8o4e7bC43H1CSqiZ2osk/qmMKJ/VyJjdC9gs3ninkZboPZduIPAUPv7OsWWRKTBYksichdwF0D79u3dFKpWW2iQhUkdk5j00JgL5hWXVbL96GmO7N3KgsxDXNWhgh7hhTyzJZEVJ+IJDyqmtOpcL9CkxENYS0IIPhlEBwoYEBNLcFgo8RHBFFRFklEazMs/G0lUfChx8eH6PoQXazJpiMgyIKWeWU8opRorWVCziXqmOX1NpJSaBcwC2+WJs+trxooMC2ZghxYM7HAxl449N/1fk00LSfMQl4olOeggUPtZVypQfffNmWJLmqZ5AU80HfwR6CoiHe2lGadhK7IEzhVb0jTNC7iUNERkqogcBIYDX4rIYvv0mmJJSqlK4H5gMZADfKSUyrJvot5iS5qmeS/dYU3TtAs09shV92zSNM0pOmlomuYUnTQ0TXOKThqapjnFJ2+EishxwJEahklAvpvDcTd/OAbwj+Pwh2MAx46jg1KqZX0zfDJpOEpE1jd0B9hX+MMxgH8chz8cA7h+HPryRNM0p+ikoWmaU/w9acwyOwAD+MMxgH8chz8cA7h4HH59T0PTNOP5+5mGpmkG00lD0zSn+FXSEJHrRSRLRKwi0uAjJRGZLCLbRWSXfWxSryEiCSKyVER22n+2aGC5XBHZIiIZIuIVvfea+l7F5lX7/M0iMsiMOJviwHGMFZFT9u8+Q0SeNiPOxojIuyJyTES2NjC/+b8LpZTfvLCNit4d21ij6Q0sEwTsBjoBoUAm0Mvs2GvFNxOYYX8/A3ixgeVygSSz43XmewUuBb7CNprbMGCt2XE38zjGAgvMjrWJ4xgNDAK2NjC/2b8LvzrTUErlKKW2N7FYzUDHSqlyoHqgY29xFbZBlrH/vNq8UJziyPd6FfBvZbMGiLeP2OZNvP3fh0OUUt8CBY0s0uzfhV8lDQfVN9CxN9XoqzPYMtDQYMsKWCIiG+yDLpvNke/V2797cDzG4SKSKSJfiUhvz4RmqGb/Lnyuwpq3DHTsisaOwYnNjFRKHbaP4L5URLbZ/3cxiyPfq+nfvQMciXEjtr4ZZ0TkUmA+0NXdgRms2b8Ln0sayr0DHXtEY8cgIg4NtqyUOmz/eUxE5mE7rTYzaTjyvZr+3TugyRiVUkW13i8UkTdFJEkp5Uud2Zr9uwjEy5PGBjr2Bk0OtiwiUSISU/0emAjUe5fcgxz5Xj8HbrbfuR8GnKq+FPMiTR6HiKSIvTCLiAzB9nd0wuORuqb5vwuz7/IafMd4KrYMWgbkAYvt09sAC8+7c7wD213yJ8yO+7xjSASWAzvtPxPOPwZsd/Yz7a8sbzmG+r5XYDow3f5egDfs87fQwBMus18OHMf99u89E1gDjDA75nqO4QPgCFBh/5u4w6jfhW5GrmmaUwLx8kTTNBfopKFpmlN00tA0zSk6aWia5hSdNDRNc4pOGpqmOUUnDU3TnPL/pZU3o1JSfuQAAAAASUVORK5CYII=\n",
      "text/plain": [
       "<Figure size 432x288 with 1 Axes>"
      ]
     },
     "metadata": {
      "needs_background": "light"
     },
     "output_type": "display_data"
    }
   ],
>>>>>>> parent of 1492915... last commit of the draft
   "source": [
    "ls = sim(nghit,randx(np.cos(np.pi/sides)),randv(),bounces)\n",
    "plt.plot(*ng.T)\n",
    "xs = list(map(lambda x: x[0][0], ls))\n",
    "ys = list(map(lambda x: x[0][1], ls))\n",
    "plt.plot(xs,ys)\n",
    "x,v,_ = ls[-1]\n",
    "plt.quiver(*x,*v)\n",
    "ax = plt.gca()\n",
    "ax.set_aspect(1)\n",
    "plt.savefig('ngonirrational2.png')\n",
    "plt.show()"
   ]
  },
  {
   "cell_type": "code",
<<<<<<< HEAD
   "execution_count": null,
   "metadata": {},
   "outputs": [],
=======
   "execution_count": 82,
   "metadata": {},
   "outputs": [
    {
     "data": {
      "image/png": "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\n",
      "text/plain": [
       "<Figure size 432x288 with 1 Axes>"
      ]
     },
     "metadata": {
      "needs_background": "light"
     },
     "output_type": "display_data"
    }
   ],
>>>>>>> parent of 1492915... last commit of the draft
   "source": [
    "ss = list(map(lambda x: x[2],ls[1:]))\n",
    "#print(ss)\n",
    "#ax = plt.gca()\n",
    "#ax.hist(ss,bins=2*sides)\n",
    "us,cs = side_chance(ls)\n",
    "plt.bar(us,cs)\n",
    "plt.savefig('100.png')"
   ]
  },
  {
   "cell_type": "code",
<<<<<<< HEAD
   "execution_count": null,
   "metadata": {},
   "outputs": [],
=======
   "execution_count": 83,
   "metadata": {},
   "outputs": [
    {
     "name": "stdout",
     "output_type": "stream",
     "text": [
      "(array([-0.82710449, -0.56204818]), array([-0.99370649, -0.11201523]), 1.5660785224080616)\n"
     ]
    },
    {
     "data": {
      "image/png": "iVBORw0KGgoAAAANSUhEUgAAAQ0AAAD4CAYAAAD2OrMWAAAAOXRFWHRTb2Z0d2FyZQBNYXRwbG90bGliIHZlcnNpb24zLjMuMSwgaHR0cHM6Ly9tYXRwbG90bGliLm9yZy/d3fzzAAAACXBIWXMAAAsTAAALEwEAmpwYAAAqAUlEQVR4nO2dd3wUxfvHP08qJHQCSA8d6U3qF6S3qKCIiAgiKmIvWAKiRmkRxa6g+ENFUFQQAUMNKkV6S6gCSU6lQ2ghIX1+f9zmcgl7d3u5vd273ef9et3rZmdmZ5/dZD83OzvzPCSEAMMwjFIC9DaAYRj/gkWDYRi3YNFgGMYtWDQYhnELFg2GYdwiSG8DSkJERISIjIzU2wyGMSx79uy5KISoIlfml6IRGRmJ3bt3620GwxgWIvrHURk/njAM4xYsGgzDuAWLBsMwbsGiwTCMW7BoMAzjFqqIBhHNJ6LzRHTQQTkR0cdEdIKIEomonV3ZQCL6WyqLVsMehmG8h1o9jW8ADHRSPghAI+kzHsAcACCiQACfSeXNAIwkomYq2cQwjBdQZZ6GEGITEUU6qTIEwAJhXYe/nYgqEFF1AJEATgghkgGAiBZLdQ+rYRfjffLzBQICCMkXrqP37I1YPbYB0q5n4L4lZ/B0+3B0rBaAMavSAACL7qyAtZYcLDiQjhWj6iAiogrGLv4bvz3THSFB/KTsL2g1uasmgP/stk9KeXL5neQaIKLxsPZSUKdOHe9YydyEEAILtlnQq1YgDh49hid/zwIADM2Kx6+hfQEAQatikDs4BgAw6Jsk276f7klHmVM7gZodAQBPvzMfl5vdAwC4a9G/AP4FADSeshrl9i/CtTajAADjwvZgfkZ7AMDKUXXQtGlTXEjPRY0Kpb1+voxrSC0nPFJP4zchRAuZsjgAM4UQW6TtDQBeAVAfwAAhxKNS/mgAHYUQzzg7VocOHQTPCPUOQgiMnLMZ2/9Nw/DAXfg57zbNbSiHG7gGq0AE7fsJuW3vAwBUzr2IcU3y8W5SVcwd1RYDW9bQ3DazQER7hBAd5Mq06mmcBFDbbrsWgNMAQhzkMxqQlpmD3Kwb2LzxTzy7NRAAkLHoaYSN+hQAdBEMADbBAGATDABIDYrAu1JHZsKifYjY/jAudn4WALDxiRaoW7eupnaaFa0eJFcAGCO9RekM4KoQ4gyAXQAaEVE9IgoBcL9Ul/ESy/adxImUf/Hx51+gZcw6tJ25GbO++tFWXiAYSnmoS+GN+tsz/3Pbnmf7NLKlXx7QxK19CwQDADp064nI6DhERsdh165dyMvLA7uy9A6qPJ4Q0Q8AegKIAHAOwJsAggFACDGXiAjAp7C+YckA8LAQYre072AAHwIIBDBfCDHd1fH48cQ9dqakIujyP3j7lz3Yn2vt0lfIPIMrparrbJl3CNn8KbK7Pw0AeK8LENW/N0qVKgXrvyGjBGePJ6qNaWgJi4ZrcvPysW/vHjz487/ICiilaJ9+zaph/eFzXrZMW8qc3Yvrt1inBY2udwOvP3wXQkJCdLbK92HRMBE3btzArW/9rrj+t+M64qH5O71okWsqhYfgUnq2x+10bVAZW5NSFdV9o19tjOvTyuNjGhUWDRPQJmYNrmTmIef4Xwhu1M1p3fgXe6Dv+5s0skwfXujbGB/EH3Nap+rFfTgf0RY/PNoRXRrK+psxLc5Eg2fU+DGrEk8jMjoOfe4YhiuZeQDgUDA2vtzTlja6YAAoIhgxd8pPMj4f0RYAMPKrnXh39vt4feleHjxVAPc0/JDMrGx8t+BbTE9yPk9h/Qs90O8D4wuEO7wzrCVeXXrAaZ0dL3RAtWrVNLLIN+HHE4MghEC9Sauc1vlgRGu88GOCRhYZm6d61MXLg2+aq2gKfGFyF+MBe/65hGFztqH8/oVAmwed1mXBUI/PNv2D/KO/QzTpg+io5nqb4zNwT8PH2bt3L+756YzeZpietuUzseSVoQgMDNTbFE3gnoYfEvvrLszdft5h+RM9G2DOn0kOyxl1OXjyMhq8tgYAkDJzsKknivHbEx9jjyUVsz74xKlgAHBLMOpXCffULEMSUSZUcd2csoWzZ4eMfhwXLlzwhkl+AYuGD7E94QiGzd2Oz8/Vd2u/vrdWdVqefCH9prwA8/5Q2rh4PcuW/v5RWY8MsmTXaIPbZu9EZHScN8zyeVg0fIBx3+xExylLceeddyne55ORbW3p+CPOeyVy5PvfUJZXeeCrHYrrHg0oXKQ3YsQInDlrrKn3ruCBUJ05ceIE+n71t95mMCpgiY3S2wTV4BmhPsiyvScRGR2HLn3vkC3v3dT5IwejH9sn9ZHNv2/ECGw74jCaoWHgnoYOpKamov2722/KJwKU/jmqlA3FhbQs1xUZXfD3Xgf3NHwEIQQio+PQ/vl5DsqVt8WC4buIrAx8Oncermbk6G2KV2DR0JCZ3660Jmq2dFnXfqCT8S2aVS/ntJxCw/CepQZav70OOTnGEw61giU5DXhERC8T0X7pc5CI8oioklRmIaIDUpn/PnM44fM/TqDZpF8x5+2XFO/zzA/7vGgR4wmHz1y7Kc+RkAwYMABnzxtrTofHYxpSwKNjAPrB6kB4F4CRQgjZ2CVEdCeAF4QQvaVtC4AOQoiLSo/pT2Ma6enpaD71z5vyvx57Gx7+Zpfm9jD64U/jHN4e0+gIKeCRECIbQEHAI0eMBPCDCsf1eT6M24dufeQDz7FgmI/ly5frbYIqqCEajgIh3QQRhcHqXHipXbYAsI6I9kgBkWQhovFEtJuIdvvDFN6pP27Ch5tP40pPDk/LWHluW5AhZpGqIRpyE5IdPfPcCeAvIcQlu7xuQoh2sMZzfYqIesjtKIT4UgjRQQjRoUoV33bNtm3bNnw6+Um9zWC8zEv9Gzstd7S2JSbmLb/2EKaGaDgKhCTH/Sj2aCKEOC19nwewDNbHHb8lMjoOI5dfQunh79jyHuzMYSSNyHvrbvZBGlGm0NO5/doWe77J7IB6k1Zh0zH3p//7AmqIhqKAR0RUHsDtAJbb5YUTUdmCNID+AA6qYJMuxMfHy+Yv3P6vxpYwenHxunKv6mPm7/LLHofHoiGEyAXwNIC1AI4A+EkIcYiIJhDRBLuqdwNYJ4SwX3JZDcAWIkoAsBNAnBBijac26UFkdBwejecJV4xyKu76EsNefg+Wi9f1NsUteBq5Cvz1118YtfKK3mYwfsCGibejz+yNN+X72utYnkbuRcZ/uQHDHntRbzMYH2Zg81tsaTnBAIBp06ZpZY7HcE/DA8Z+sRF/pvhX15LxDYICCLkyTk18pcfBPQ0vcPnyZWz54jW9zWD8iFnDCsNAygkGAKxbt04rc0oMi0YJePaHvWj7zlbk9p9kyxvdua6TPRgGeGVposs6j3y3D02nOI9tozcsGiVgRcLNIQW+22585yuM9wms2QKZuQLbjp7S2xSHsGi4QWZOHkbN+glB8bP0NoUxONNemoC8vDy9zZCFB0LdwAjrBhj/YsPE29GgShnNj8sDoSpw8uRJ5J85orcZjMlYsNT3xjdYNBQweel+/O/TBARUv9WWt/SJLjpaxJiFObNisHDNVr3NKAKLhgK+33XzoNSwOdt0sIQxG2H3vYspf17G15uP622KDRYNF2zcuBG5Gz7S2wzG5Gz5+Uu9TbDBA6FOaDh5lcNJOAyjB1rNGOWB0BISkMerVhnf4vjpVL1NYNFwxPRF8cjYNN+2/XzfRjpawzBWPp4Zo7cJLBpyjPxiK+YdyELQ7YXuQD6M952BKMbYzLjbcVycleEDdZ8vxKIhQ8hhnsTF6MfkZQdc1klPT3dZx1toFSypJxFdtQuY9IbSfbWmT+xqbCzdtUhepfBCv4+DWtxSfBeG8Tota5Yvsh0drd+t4rFoSMGSPoPVm3gzACOJqJlM1c1CiDbS520399WE7OwcJF3Jvyn/Unqh38fVB89qaRLDAAAOnLpaZFvPxxQ9giWpta/qLFz4nV6HZhi/QctgSV2IKIGIVhNRczf39XqwpAfnbcPbx6qp3i7DqMlH97expQPiYrB+w++a26BVsKS9AOoKIVoD+ATAr27sa830crCkLUmXXFdiGJ15bvF+Wzo/KgaPrb+Bz/84oakNmgRLEkJcE0Jcl9KrAAQTUYSSfbXg6tWryDlcGLOkTGiQ1iYwTInJ/M/12xY10SRYEhHdQkQkpTtKx01Vsq+3yczJQ+uZWxDcrK8t73pWrpYmMIxb1KpYusj23PkLkX5Du9nLHv+kCiFyiaggWFIggPkFwZKk8rkA7gXwBBHlArgB4H5hXfQiu6+nNrnDdxvZR4baHJ8+CMGBzn+PPow/xhPmSsjJyzeKbGd3Hofmb8Vrty7F7AvWnnzySawqV3ixb4usiF2WywCAnyd0wfC51iXwd7WugRUJmj85+TQJb/RH+bBgVdvUe7ajP3Pkzd4oXbq064oKcLZgzdSi0erNNbiW5Zt+GH0VLeNy7PnnEvstUUiN8zvQu0kVTHv1GVXacyYaph7xY8FQhl4BfNrXrWQ7NvdAnHO6aicsvAw03pqCMV3refVYpl17cuPGDWQsKYxb0qdpVR2t8U0ssVE+E/GrwJb1L/TQ2xRdGN+jvqJ6gWe9PyRo2scT/uVyjK8IhTOOnUtD/w826W2Gz1HLsgqbf/gU0svKEsNOeIrhj0KpBb7Us3BF42plYYmNQnhIoN6m+BQnIwej3iTvejA3pWgU76Wsfq67Tpb4Bglv9PcbsSjOobcH+q3t/orpRONaZg6GLz1fJG/QR5t1skZ/LLFRqr821QNLbBSe6NlAbzN8goylk5GRkeG19k0nGh+vVTZQ9FAXYwd0fnlAE8P9Qr86sKnhzqkkhA2bgWZv/+G19k0nGmFJRVcF2q8atOfbbcYN6JwyczCe6tVQbzO8BguHdzGVaBw/l4aPzzcpkme/atAMWGKjPB5Z9wfMLhzi18nYv3+/V9o2lWj0U/iKrk3tCt41RCfMdiOZ7XztoaEzMHTxzZEB1cBUovFQ2aJLiGfd20q23v7/rmhgjbaY9QYy63l7E9OIRnpWLr5NK+oa/pUliTpZoy1mv3HMev7pi57BP/+oPzZnGtFo/uZavU3QBbPeMMUx43UIH/UJbp9zUPV2TSMaT9Qt6lf0xX6NdbJEO8x4oziDr4c6aBX3ZBQRJUqfrUTU2q7MQkQHpHgoXonqLITAT/uLisb7649541A+w5ZXe+ltgk9iNuG4tnwarl27pmqbWsU9SQFwuxCiFYCpAL4sVt5Liociu0DGU+pNWoXUirqFU9GFWhXD9DbBZ0mZOVhvEzSj3JApaDVD3RnPmsQ9EUJsFUJclja3w+pAWDMev7VoAKSfJ3TR8vCaY7ZfU3cxwzwVb6Jl3JMCHgGw2m5bAFhHRHuIaLyjnTyJe3Jiy28oE5Bj2y5w4WdEWDCUYabrlLH2A+TmqucsW6u4J9aKRL1gFY1X7bK7CSHawfp48xQRyXpZKWnck92WS9hQ+S5cz/f/RVmMuphFOMIGvIA3flTvh1KTuCcAQEStAHwFYIgQIrUgXwhxWvo+D2AZrI87qhEeWFRhv3+sk5rN+xRmuQkY9/n+gHqDoVrFPakD4BcAo4UQx+zyw4mobEEaQH8Aqr5YvpByFBUTFtm2H5i3Q83mfYYNE2/X2wS/xCxC2yJLPTeAWsU9eQNAZQCfS4NQudKbkmoAlkl5QQC+F0Ks8dQme8asSgNaj1KzSZ+kQZUyepvgt5QJDfLrAFmBAYS8fOfe6I5fD4EQQpVBYMP7CLX3Bdq5fiVsTzZezNbDbw9AWIipHct7jFl8xirtWZnaR2jouum2tBEFAwALBiNL/YjwItsfDrpFlXYNLRq/7EpGVv/X9DbDq8wf65X5cKbDiGMbyRfTbemyWReQmqTOAk1Di8aLS40fp7V302p6m8D4AWmhVTD1mDqxfQwtGo9GJOltAuNHGLG3cUer6qq3aWjRWG/J0tsEr2LEf3JGXX5LPGNLX/h8lCoxfwwtGv+UMdciNYYBgNGd5T3pV3lyEd6JOyBb5g6GFg2GcRcj9N6+217orWvqkOZFyuZu+a94dbcxtGhkrP1AbxO8hpmWdzMl5/XlRWeCzusT4nGbhhWNyOg4hA14QW8zvAYv72ac4ejfY/bO6x63bVjRaHULO6FhSoYR9NjReOfRNO5pOCS6YyjKH/5FbzMYPyRlpv+PaziiUW6Kx20YVjQeWHEZV5vdo7cZXmHOqHZ6m8D4OE/1kg+GHXz+qMdtG1Y0ihMSaJxTHdRS/Qk7jLH47A/5iY2HawxCTl6+bJlSjHMnFeM+KuqpKNvDC8UwRiHQw0Ebw4rGb7ktXVdiGIPSo7G8S8xr/zcOAQEsGrJkBBY6pakU7vmIMcP4E5uOyTvfLvfIfGxLSpUtU4pWwZKIiD6WyhOJqJ3SfUtKSN4NW/pSerZazTKM33M5w7P7QatgSYMANJI+4wHMcWPfEtHy3Do1mmFMSrs6FfQ2wSuc++ZZDPZwIF2TYEnS9gJhZTuACkRUXeG+JWJPDVWaYUzK0LbOQvf4L9XGfozz1zI9akOrYEmO6igOtORJsCSGcZdSwYF6m6AaU6JuLbJ9r4fBwrQKluSojuJAS+4GS+r67yLZ/BEdasvmM4w9m49f1NsE1ZgWV9SD3caXe3rUnhoeaZUES3JUJ0TBviViax35sAU/7vZ8aTBjfFYmqPJv6HPkZ173eLGjJsGSpO0x0luUzgCuCiHOKNyXYRgPWPF0N1s6oFQZfLHRMzeYHouGECIXQEGwpCMAfioIllQQMAnAKgDJAE4AmAfgSWf7emoTAPS7vFI2v3dTdZyrMoy/cNenfxXZHtMl0qP2VAmYIYRYBasw2OfNtUsLAE8p3VcNDlToJpv/+9Hzah+KYfyHXyehtIfeyQw7I/QsVdLbBIbxPYbO9LgJw4rGYw1vuK7kp/ybmqG3CYyJMaxodG7g+rWsv9Lj3T/0NoHxU6Kur/a4DcOKxiNri/pCnHC7vFMShilOzApVxuI1p1HVMi7rxJUZ5PFxDCsa7wxtWmR7rt1rpnKlOGAy45hvtlr0NqFEHD/vudNgJRhWNEZ0boCrS6bIll3LzNXYGobxDWZ38/yWN6xoXMnIRvl7p9m2Zw9vraM16hMZHae3CYwfUrOG564iDSsa4aFFH0Em/pygkyWMP2F0Mb7/51Met2FY0QgODEDX/77X2wyG8SkOxvTzuA3DigYA7K1zn94meBWj/yoy6lJuy0coU4qDJTklU/BbEkY5RhTh2pVK29LX/vecKm0aWjR2TuyEnFP++c5dKdez+E0Q45j/Lqk/M9rQolG1SgSCazbX2wyv0uLNtXqbYAjeWeN55DFfpvSBJfjpHnVmSRtaNISjKLgMU4w5f3rmY8IXWfpEV1v6Rst7calUDVXaNbRoEBECYfzIakZ8FteSuMQzepugGk/3amhLD5uztUhZjlDndje0aADA573MESgpP597VSXlqe/36m2Canz6xwnZ/D4Xl+HO1j7Q0yCiSkS0noiOS98VZerUJqI/iOgIER0ioufsymKI6BQR7Zc+gz2xR45ZB4LVbtInqT9ZdT9GpqD+JGP20iYPLrr26lAN9W4tT3sa0QA2CCEaAdggbRcnF8BEIcStADoDeKpYQKQPhBBtpI/q//lzRt+mdpM+S+xqYw/meQMjddBa1SpvS89YVfR/4Wx2qGrH8VQ0hgD4Vkp/C2Bo8QpCiDNCiL1SOg1WX6CaRaJpXK0sujgIZ2A05nroMNZsGG0sKPHkVdn87OSdOPxGb9WO46loVJO8ikP6duq1l4giAbQFsMMu+2kpvut8uccbu31LHCxpm4NwBkbEaDeCt/hl70m9TdCMqhERCAsr7bqiQlyKBhHFE9FBmY9bcQ+JqAyApQCeF0Jck7LnAGgAoA2AMwBmO9rf3WBJZuaVJbw4zxUv/mSea3SlXH1V23MpGkKIvkKIFjKf5QDOSTFZIX3LuvomomBYBWOREOIXu7bPCSHyhBD5sIY26KjGSRXHEhuFejsd6pHh+Gm3eX5FS4LZemNzhjdRtT1PH09WAHhISj8EYHnxCmQN5/R/AI4IId4vVma/uP9uAAc9tMchKR0neqtpn8RsN4ZSzHZdwk/twqD2DV1XdANPRSMWQD8iOg6gn7QNIqpBRAVvQroBGA2gt8yr1VlEdICIEgH0AvCCh/YwdpjtBnGFGa9Hek313x56tAxUCJEKoI9M/mkAg6X0FsgHeoYQYrQnx3cHS2wUmrftiPQBb2p1SJ8gMjoOFg+D4xiBb/3U76enlAtVf/6m4WeE2pM94DW9TdAFM/7C2rMtKRVv+qmHcU8I3PAeEmIGqt6uqUQjR50olH6JWYVjzcEzGDlvu95m6EJen5c8jhAvh6lEI2n6QOSsf991RYNiNuF48KsdmLDQOOtKfAVTiUZgYCA6DBjusPy2SIdzywyDWYQjMjoOW05c1NsM3QhdOQkpM1VfygXAZKIBAAn5tR2W7bJc1tAS/YiMjkNOnnFdBphFGJ2RdedMrzyaACYUjeQZg1Hx6nG9zdCdRq+tNtzNlZWbZ7hzKikVS3tv/M50ohEQQJg6pJnD8pg7HZcZEaPcZJHRcWgyZY3eZujCkDZF/WT0S/0V+94c4LXjmU40AOBsuONg0DErD2toiW8QGR3nt+KRej3Lb213l1oV5RedLd9/ush2Ztv7vWqHKUXj0e4N0CbMHOMX7hAZHYetSf4zeBgZHYf20+L1NkMzTl5W5lm8bxvHP4pqYErRAICvn3E8S7JUsGkvCx6YtwOR0XE4di5Nb1Mc4s89I7WZfncLWzr8agqmNr+Eh7pGevWYpp3tVLGi49ermTnGfbOglP4fbAIARFYOw58v99LZGuDqjRy0fmud3mb4HK8tK1zjmV6+Hu69Vz1nO44wrWgAwBMdymPObnlvR4wVS2qG7Vc94c3+KF9aW5+r3KNwj9Kl1XO24wjyx9ggHTp0ELt371alrV5jX0bKLT1VactMRLWqjs8eaKd6uxevZ6GDicYp3CE0KABZufK94OvfTsCxQwmoVKmSKscioj1CiA5yZabuaQBgwSghcYlnEJdYtBdwT7uaeP++Norb+PtsGgZ8uElly4yLI8EAgDIPzVVNMFxhetE4Nm0Qur7yNS6G3KK3KX7PL3tP4Ze9p/Q2g/EyXo97ItWzSM529hPRbnf39yYhQQFYPlH95cMM4yllSxX+po/vUejnc9awVkXqRUf+p6nPFC3inhTQS4ptYv+c5M7+XqNmTc0iKjCMYtIyc23pLzcl29KvLE0sUm/cuHGa2QRoEPfEy/urxg9jWyHnYNEI7OEhgbb0A53q2NJ3tKoOhvEVQkK0DT2qVdwTAWAdEe0hovEl2N+juCdK6NK0Nu7u1KhIXnp2ni39/Y5/benfDBQwmPFfKv0+DckzBml+XJcDoUQUD0BulNAd33ndhBCniagqgPVEdFQI4dawuRDiSwBfAtZXru7sq5TQxt2AfSwIjH9wqfcUBARoP3tZk7gnkqNhCCHOA1iGwvgmivbXitkj2uGtlmkoHT/DljdvjOyraobRndXPddfluFrEPQknorIFaQD9URjfxOX+WjPmgRG40XeybfuxBepMImMYtcg7cwTbn2+PW6uX0+X4WsQ9qQZgCxElANgJIE4IscbZ/noghEBKSorXvB0xjFoEVr8Vt9yi37wij0RDCJEqhOgjhGgkfV+S8k8LIQriniQLIVpLn+ZCiOmu9teS9PR0fPHFF2jZsiVWrlwJwBoj5e1mqVqbwjA3sXNyYVihAFhnhP76ZFe9zAFg4rUnycnJ+OyzzzB//nxcuXIFANC9e3ekpaXhv//+Q+qly6j7yooStV2/SjiSL6R7ZB/DyLH9+faa9DKcrT0xleMIIQTi4+Nx1113oWHDhnj//fdtggEAe/fuRVZWFtq3b49xD4+VbWPqkOa29P8aRsjWYcFglBJmNxcoNMj17ajnY0kBputpnDt3DomJiUhMTERCQgISExNx+PBh5OTkYNSoUVi4cGGR+osXL0b0/rJqmM0wJaZZys9YtvD/EBoc6LqyCjjraZhONOTIycnB0aNHkZiYiDvuuAPly5e3lQkhUG/SKid7A13qV8a2ZB4DYZQzoHk1rD10TnF9rR5LCuDHExcEBwejZcuWGDVqVBHBAAAiwpT+9YBzfzvcnwWDcRdHgjF1aAvZfF94LCmARUMBj/Zuhl+fc8+N2qRBTb1kDWNkXv/1YJHtx8ru13QFqxJYNBTSpk0b2fzHb68vmz9z9VEvWsMYgaVPuH51OnnyZJd1tIZFww0ssVEYE7KjSN4XG5Md1GYY5wybs9VxocjHA7fV9MnJhiwabhITE+OyDq9XYTxl01OtMWNYG73NkIVFw00CAgJQx0GkqwJ4vYq5sfe45Yotr8qHh6hTp45svi/AolECNr3aG388bq6Yr4xy7D1uueJ/7/xRuJGXizcan/O5gc/isGiUkHr16snmx7/YQ2NLGMMQGKS5676SwKLhAZbYKLx3Wxay175ry+v7PrvkZ9yjespqAMC8Me11tkQZpg9h4Cn3DrsHL+0K1dsMxo9Jrd0dJ6YNQFCQf9yO3NNQgcSY/gCA/L1LdbaE8UeeHNDGbwQD4J6GKpQrFQxLbBQ+/+IMZqXobQ3jL7Q8NBdLlixBaKh/9VS9HiyJiJpIQZIKPteI6HmpLIaITtmVDfbEHr2Z8NgjqrVVs4L3A/ky+rJ06VK/EwxAg2BJQoi/pSBJbQC0B5ABq3PhAj4oKBdCOF9O6uMEBBAssVF4p+11j9s6deWGChYxWjO2a6TLOh1PLcG2V3tqHq9ELbQOltQHQJIQ4h8Pj+vTjBgxQjbfB2cEMyrzzVaLLf312Ntk6/zwzVeoXjFcI4vUR6tgSQXcD+CHYnlPE1EiEc13FsvV28GS1MYSG4XFQysjd+mrtjw/dF3CFKN1rfKuK0k8/M0uWzpn5VsAgG8evg2Bgdo40vEWLp3wuAiW9K0QooJd3ctCCEdBoEMAnAbQXAhxTsqrBuAirBHYpgKoLoRwObtFbSc83mTFjqN4dlmSorpNqpXF3+fSvGwRowezuwLD7vLtmZ72OHPC4/LtiRCir5OGzxFRdSHEGQXBjgYB2FsgGFLbtjQRzQPwmyt7/I27OjVF5Qrl8em0SdhWc7jTuiwYxuWeO/16jL8IXg+WZMdIFHs0KYiuJnE3CoMoGYpuTarj+wVfy5ZFlFE+el6+dLBaJjEqM/1ueY9b+17tCktslE8ucS8pWgRLAhGFSeW/FNt/FhEdIKJEAL0AvOChPT4LEWHDxNvRtAKQ8XXhq9mL17Ns6aAA5/9YV2/keMs8xkNeW1b4e0cpVj8Zw9vXRMWKDofp/BZ2LKwDhw4fRtQCZbPAqpYNxfm0LNcVGZ/hzSbn8fDDD+tthkewY2Efo3mzZniye120u74D4vpFp3XtBWNomxreNo0pITUsa2xpfxcMV3BPQ2caTo5Dbr732g8LCURGdp73DsAAADqFnMTC18chONgY407c0/BhTsyIwou966HfFfnJsL9PvN2j9lkwvEvw+SMAgO/eeMwwguEK7mn4EJHRcU7LK4eHIDU9WyNrGCUcn9rfkGLBPQ0/wRIbhf2TumPglZWy5SwY2jIl6lbZ/Ip/zgQA7H+jnyEFwxUsGj5GhfLlMHfuXNt2+QM/6miN+Xj9jkLfr9PijsjW2bn5D1hio1AhzD8XnHkKi4aPYomNQvKMQYh+cFCJ9u9Ur5LKFhmD7o0inJZP/e2wbP5I2oIdEzvDEhtlyt6FPSwaPkxAQABGjhyJepXDUC04C1mLnlK8746US7b06M51vWGe3/B4j8IoeJuPO3/Fbc+NldNs6ZkzZ6Jalcqq2uWv8ECoH3EtLQ2tplsdF9fPOoHk0IZutzG6c118t12ZZ4LmNcrh0Olrbh/DF5j7YHtMWLjHozbWjWuExo0bq2SRf8EDoQahXNmysMRGYfdLndAkQD7quCvsBcPVtHVHglEq2Lv/Nl3qF/6iu7Nk46P729jSJRWMhrs/QEyPilj1bHfTCoYrWDT8kIiICMyZPQMA0DTkMrBiSonayc0vWS8zM8f1bDT7xXUDmlezpTtGuh5r2Zacaku76ggPblnoteG5xftdti3H1XkP2dLx8fEYO7grmtUoV6K2zACLhh9jiY3CmrcfxInEQmcv6Utu8rjoEfbjAe5gv7hu7aHCXtFOyyW56i55trf8o9iqA2dL1F7o4UIvDClJJ2CJjfL5yGa+Ao9pGIwTSUnoO+8oAKBW8kqcrH+nV44z/e4WtpWdpYIDFPU+vMmIDrXx4+7/FNef3780evXqZagl62ribEyDRcOACCGQmZmJJUuW4PVD1seByqkHkFq5peI2wkMCke7jU9BnD2+NiT8nKK7/UOhOdIx6AK0b1UatimFetMz/YdEwMZfTs3Hh0mXs2fI7JiVYn9ODrp1GbjnlK2ZXPdsdgz/e7C0TXTKxX2PMXn8MANCiZjkcPKX8jc4zVY7i+/TmmH5PawxsUd31DgwAFg1G4kpGNlLOp+FycgLGrdMuREJIYACy86yPL/e2r4Ule0569XhvNbuEt49Wxtrne6Bh1TJePZZR8ZpoENFwADEAbgXQUQgheycT0UAAHwEIBPCVEKLAw1clAD8CiARgAXCfEOKyq+OyaKjDmSs3kHoyCeMXH8bpXP9yqZ+3aS4Ce0wAAPTK3497e3XAvKRwLH2yGwJdvEpmXONN0bgVQD6ALwC8JCcaRBQI4Bis7v5OAtgFYKQQ4jARzQJwSQgRS0TRACoKIV4t3kZxWDS8h+XUOfT8xHpt2yUtwN4GYwAAVY4uxYWmw/Q0DfV3vY/k214EAGx4rCnq1auHnHyB0CD/Dgngi3jkjdwZQogj0gGcVesI4IQQIlmquxjWIEuHpe+eUr1vAfwJwKVoMN4jsmY1u1ePUfhu+z8oJbJRoc9IPLbBusq2U+pa7Kg8wLZP1slDCK3VHADQIGkpkhpYxSVA5CKf5P/Fqqfuw5nKbQEAqQueReUxHwMAwi8cQtlSwThbtjGqBt3Ay60Fph4si6lDW2JI7Iab2gnlSQOao0UA6JoA7N+FnQTQSUoXCbZERA6DLRHReADjAaBOnTpeMpUpTuG6lUaw9CvIjYIQAr8fPY/eTasiO7svmrwZj/ubhaFLlyF4bpu11pQml7D4ZFkcyyiNR2qeRVhwAD6xVEXF4Hy82L8JXpYmbZ45loBMBOPLTcmYPPjmuRLDnUd+YDTGo2BJQojlUp0/4fjxZDiAAUKIR6Xt0bCOfzxDRFeUBluyhx9PGMa7eC1YkkJOAqhtt10L1khrAOBOsCWGYXwALZ4IdwFoRET1pNCM98MaZAlwL9gSwzA+gEeiQUR3E9FJAF0AxBHRWinfFixJCJEL4GkAawEcAfCTEOKQ1IRssCWGYXwXntzFMMxNsD8NhmFUg0WDYRi3YNFgGMYtWDQYhnELvxwIJaILAJR4x40AoNz9tG9ihHMAjHEeRjgHQNl51BVCVJEr8EvRUAoR7XY0AuwvGOEcAGOchxHOAfD8PPjxhGEYt2DRYBjGLYwuGl/qbYAKGOEcAGOchxHOAfDwPAw9psEwjPoYvafBMIzKsGgwDOMWhhINIhpORIeIKJ+IHL5SIqKBRPQ3EZ2QfJP6DERUiYjWE9Fx6VvWKRERWYjoABHtJyKfWL3n6rqSlY+l8kQiaqeHna5QcB49ieiqdO33E9EbetjpDCKaT0Tnieigg/KS/y2EEIb5wOoVvQmsvkY7OKgTCCAJQH0AIQASADTT23Y7+2YBiJbS0QDecVDPAiBCb3vdua4ABgNYDYAAdAawQ2+7S3gePQH8pretLs6jB4B2AA46KC/x38JQPQ0hxBEhxN8uqtkcHQshsgEUODr2FYbA6mQZ0vdQ/UxxCyXXdQiABcLKdgAVJI9tvoSv/38oQgixCYCzwLkl/lsYSjQUIufouKZOtshRxNkyAEfOlgWAdUS0R3K6rDdKrquvX3tAuY1diCiBiFYTUXNtTFOVEv8ttPBGripKHB27akImT9P3zs7OwY1mugkhTkse3NcT0VHp10UvlFxX3a+9ApTYuBfWtRnXiWgwgF8BNPK2YSpT4r+F34mG8K6jY01wdg5EpMjZshDitPR9noiWwdqt1lM0lFxX3a+9AlzaKIS4ZpdeRUSfE1GEEMKfFrOV+G9hxscTZ46OfQGXzpaJKJyIyhakAfQHIDtKriFKrusKAGOkkfvOAK4WPIr5EC7Pg4huISlCGBF1hPU+StXcUs8o+d9C71FelUeM74ZVQbMAnAOwVsqvAWBVsZHjY7COkr+mt93FzqEygA0AjkvflYqfA6wj+wnS55CvnIPcdQUwAcAEKU0APpPKD8DBGy69PwrO42npuicA2A6gq942y5zDDwDOAMiR7olH1Ppb8DRyhmHcwoyPJwzDeACLBsMwbsGiwTCMW7BoMAzjFiwaDMO4BYsGwzBuwaLBMIxb/D8sTrxuuezQKgAAAABJRU5ErkJggg==\n",
      "text/plain": [
       "<Figure size 432x288 with 1 Axes>"
      ]
     },
     "metadata": {
      "needs_background": "light"
     },
     "output_type": "display_data"
    }
   ],
>>>>>>> parent of 1492915... last commit of the draft
   "source": [
    "ls = sim(circle_hit,randx(0.9),randv(),bounces)\n",
    "xs = list(map(lambda x: x[0][0], ls))\n",
    "ys = list(map(lambda x: x[0][1], ls))\n",
    "plt.plot(xs,ys)\n",
    "print(ls[-1])\n",
    "x,v,_ = ls[-1]\n",
    "plt.quiver(*x,*v)\n",
    "draw_circle = plt.Circle((0, 0), 1,fill=False)\n",
    "plt.gcf().gca().add_artist(draw_circle)\n",
    "plt.gca().set_aspect(1)\n",
    "plt.show()"
   ]
  },
  {
   "cell_type": "code",
<<<<<<< HEAD
   "execution_count": null,
   "metadata": {},
   "outputs": [],
=======
   "execution_count": 84,
   "metadata": {},
   "outputs": [
    {
     "data": {
      "text/plain": [
       "<BarContainer object of 1000 artists>"
      ]
     },
     "execution_count": 84,
     "metadata": {},
     "output_type": "execute_result"
    },
    {
     "data": {
      "image/png": "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\n",
      "text/plain": [
       "<Figure size 432x288 with 1 Axes>"
      ]
     },
     "metadata": {
      "needs_background": "light"
     },
     "output_type": "display_data"
    }
   ],
>>>>>>> parent of 1492915... last commit of the draft
   "source": [
    "ss = list(map(lambda x: x[2],ls[1:]))\n",
    "#print(ss)\n",
    "#ax = plt.gca()\n",
    "#ax.hist(ss,bins=bounces)\n",
    "us,cs = side_chance(ls)\n",
    "plt.bar(us,cs,width=0.05)"
   ]
  },
  {
   "cell_type": "code",
   "execution_count": null,
   "metadata": {},
   "outputs": [],
   "source": []
  }
 ],
 "metadata": {
  "kernelspec": {
   "display_name": "Python [conda env:root] *",
   "language": "python",
   "name": "conda-root-py"
  },
  "language_info": {
   "codemirror_mode": {
    "name": "ipython",
    "version": 3
   },
   "file_extension": ".py",
   "mimetype": "text/x-python",
   "name": "python",
   "nbconvert_exporter": "python",
   "pygments_lexer": "ipython3",
   "version": "3.8.3"
  }
 },
 "nbformat": 4,
 "nbformat_minor": 4
}
