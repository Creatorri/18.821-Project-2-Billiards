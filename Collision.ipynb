{
 "cells": [
  {
   "cell_type": "code",
   "execution_count": 1,
   "metadata": {},
   "outputs": [],
   "source": [
    "import numpy as np\n",
    "import scipy as sp\n",
    "import matplotlib.pyplot as plt\n",
    "import math\n",
    "from numpy.random import default_rng, SeedSequence\n",
    "import multiprocessing\n",
    "import concurrent.futures"
   ]
  },
  {
   "cell_type": "code",
   "execution_count": 2,
   "metadata": {},
   "outputs": [],
   "source": [
    "rng = default_rng()"
   ]
  },
  {
   "cell_type": "code",
   "execution_count": 3,
   "metadata": {},
   "outputs": [],
   "source": [
    "error = 1e-10 #because machine error is *really* important when working with linalg"
   ]
  },
  {
   "cell_type": "code",
   "execution_count": 4,
   "metadata": {},
   "outputs": [],
   "source": [
    "def normalize(v):\n",
    "    l = np.linalg.norm(v)\n",
    "    if l < error:\n",
    "        print(\"Something has gone terribly wrong with \"+str(v))\n",
    "        return v\n",
    "    return v/l"
   ]
  },
  {
   "cell_type": "markdown",
   "metadata": {},
   "source": [
    "### Defining shapes\n",
    "In general we will define a discrete shape to be an array of pairs of points which represent the lines between them."
   ]
  },
  {
   "cell_type": "code",
   "execution_count": 5,
   "metadata": {},
   "outputs": [],
   "source": [
    "def polar_poly(r,n):\n",
    "    r = np.vectorize(r)\n",
    "    theta = 2*np.pi/n\n",
    "    angles = np.array([x*theta for x in range(n)])\n",
    "    p0s = np.vstack((r(angles)*np.cos(angles),r(angles)*np.sin(angles))).T\n",
    "    p1s = np.array(list(map(lambda i: p0s[(i+1)%n],range(n))))\n",
    "    return np.array(list(zip(p0s,p1s)))"
   ]
  },
  {
   "cell_type": "code",
   "execution_count": 6,
   "metadata": {},
   "outputs": [],
   "source": [
    "def ngon(n):\n",
    "    return polar_poly(lambda t: 1,n)"
   ]
  },
  {
   "cell_type": "code",
   "execution_count": 8,
   "metadata": {},
   "outputs": [],
   "source": [
    "def circle_arcs(n):\n",
    "    f = lambda t: np.array([np.cos(t),np.sin(t)])\n",
    "    fs = []\n",
    "    ns = []\n",
    "    tbounds = []\n",
    "    for i in range(n):\n",
    "        fs.append(f)\n",
    "        ns.append(f)\n",
    "        tbounds.append((2*np.pi/i,2*np.pi/(i+1)))\n",
    "    return (fs,ns,tbound)"
   ]
  },
  {
   "cell_type": "code",
   "execution_count": 9,
   "metadata": {},
   "outputs": [],
   "source": [
    "def polar_curve(r,rprime):\n",
    "    rhat = lambda t: np.array([np.cos(t),np.sin(t)])\n",
    "    that = lambda t: rhat(t+np.pi/2)\n",
    "    f = lambda t: r(t)*np.array([np.cos(t),np.sin(t)])\n",
    "    n = lambda t: -r(t)*rhat(t)+rprime(t)*that(t)\n",
    "    tbound = (0,2*np.pi)\n",
    "    return ([f],[n],[tbound])"
   ]
  },
  {
   "cell_type": "markdown",
   "metadata": {},
   "source": [
    "General Hit Algorithms"
   ]
  },
  {
   "cell_type": "code",
   "execution_count": 10,
   "metadata": {},
   "outputs": [],
   "source": [
    "def line_hit(x,v,p0,p1):\n",
    "    dp = p0-p1#np.subtract(p0,p1)\n",
    "    a = np.vstack((v,dp)).T\n",
    "    b = p0-x#np.subtract(p0,x)\n",
    "    t = np.linalg.solve(a,b)\n",
    "    nx = x+t[0]*v #np.add(x,np.multiply(t[1],v))\n",
    "    p = p0-t[1]*dp#np.add(p0,np.multiply(t[0],dp))\n",
    "    if t[1] < 1 and t[1] > 0 and t[0] > 0 and np.linalg.norm(p-nx) < error:\n",
    "        n = np.array([-dp[1],dp[0]])\n",
    "        return True, (p,n,(x,v,t[0]))\n",
    "    else:\n",
    "        return False, ()"
   ]
  },
  {
   "cell_type": "code",
   "execution_count": 11,
   "metadata": {},
   "outputs": [],
   "source": [
    "def curve_hit(x,v,f,n,tbound):\n",
    "    g = lambda st: (x+v*st[0])-f(st[1])\n",
    "    hit,_,_,i,m = fsolve[f,[1,0.5*tbound[0]+0.5*tbound[1]]]\n",
    "    if i == 1:\n",
    "        r = normalize(n(hit[1]))\n",
    "        p = x+v*hit[0]\n",
    "        return True, (p,r,(x,v,st[1]))\n",
    "    return False, ()"
   ]
  },
  {
   "cell_type": "markdown",
   "metadata": {},
   "source": [
    "Filtering specific hits of piecewise curves/shapes"
   ]
  },
  {
   "cell_type": "code",
   "execution_count": 12,
   "metadata": {},
   "outputs": [],
   "source": [
    "def general_hit(hits):\n",
    "    crossings = list(map(lambda x: (x[1],x[2]), filter(lambda x: x[0], hits)))\n",
    "    if crossings == []:\n",
    "        print('oh no')\n",
    "        print(hits)\n",
    "    cross = sorted(crossings,key=lambda x: x[0][2][2])[0]\n",
    "    p = cross[0][0]\n",
    "    n = cross[0][1]\n",
    "    s = cross[1]\n",
    "    return p, n, s"
   ]
  },
  {
   "cell_type": "code",
   "execution_count": 13,
   "metadata": {},
   "outputs": [],
   "source": [
    "def polygon_hit(ps):\n",
    "    def hit(x,v):\n",
    "        hits = list(map(lambda p: line_hit(x,v,*p[1])+(p[0],),enumerate(ps))) #append i to the side\n",
    "        return general_hit(hits)\n",
    "    return hit"
   ]
  },
  {
   "cell_type": "code",
   "execution_count": 14,
   "metadata": {},
   "outputs": [],
   "source": [
    "def piecewise_smooth(fs,ns,tbounds):\n",
    "    def hit(x,v):\n",
    "        hits = list(map(lambda ifnt: curve_hit(x,v,ifnt[1],ifnt[2],ifnt[3])+(ifnt[0],),enumerate(zip(fs,ns,tbounds))))\n",
    "        return general_hit(hits)\n",
    "    return hit"
   ]
  },
  {
   "cell_type": "markdown",
   "metadata": {},
   "source": [
    "Special Cases"
   ]
  },
  {
   "cell_type": "code",
   "execution_count": 15,
   "metadata": {},
   "outputs": [],
   "source": [
    "def circle_hit(x,v):\n",
    "    b = np.dot(v,x)\n",
    "    c = np.linalg.norm(x)**2 -1\n",
    "    ts = -b+np.array([1,-1])*np.sqrt(b**2 - c)\n",
    "    t = np.min(ts[np.all(np.greater(ts,[0,0]))])\n",
    "    p = x+t*v\n",
    "    n = -p\n",
    "    return p, n, np.arctan2(x[1],x[0])"
   ]
  },
  {
   "cell_type": "markdown",
   "metadata": {},
   "source": [
    "Bounce algorithm"
   ]
  },
  {
   "cell_type": "code",
   "execution_count": 16,
   "metadata": {},
   "outputs": [],
   "source": [
    "def bounce(v,n):\n",
    "    n = normalize(n)\n",
    "    return v-2*np.dot(n,v)*n#np.subtract(v,np.multiply(2*np.dot(n,v),n))"
   ]
  },
  {
   "cell_type": "markdown",
   "metadata": {},
   "source": [
    "Simulation of many bounces"
   ]
  },
  {
   "cell_type": "code",
   "execution_count": 17,
   "metadata": {},
   "outputs": [],
   "source": [
    "def sim(hitFunc,x,v,depth):\n",
    "    lines = [(x,v,-1)]\n",
    "    for _ in range(depth):\n",
    "        x, n, s = hitFunc(x,v)\n",
    "        v = bounce(v,n)\n",
    "        x = x+error*v#np.add(x,np.multiply(1e-12,v))\n",
    "        lines = lines + [(x,v,s)]\n",
    "    return lines"
   ]
  },
  {
   "cell_type": "markdown",
   "metadata": {},
   "source": [
    "Random Start Info"
   ]
  },
  {
   "cell_type": "code",
   "execution_count": 18,
   "metadata": {},
   "outputs": [],
   "source": [
    "def randx(rad):\n",
    "    r = rng.random()*rad\n",
    "    theta = 2*np.pi*rng.random()\n",
    "    x = np.multiply(r,np.array([np.cos(theta),np.sin(theta)]))\n",
    "    return x\n",
    "def randv():\n",
    "    vtheta = 2*np.pi*rng.random()\n",
    "    v = np.array([np.cos(vtheta),np.sin(vtheta)])\n",
    "    return v"
   ]
  },
  {
   "cell_type": "markdown",
   "metadata": {},
   "source": [
    "Get data for plotting"
   ]
  },
  {
   "cell_type": "code",
   "execution_count": 19,
   "metadata": {},
   "outputs": [],
   "source": [
    "def side_chance(sim_result,mod=0):\n",
    "    if mod == 0:\n",
    "        s = np.array(list(map(lambda x: x[2],sim_result[1:])))\n",
    "    else:\n",
    "        s = np.array(list(map(lambda x: x[2]%mod,sim_result[1:])))\n",
    "    uniques = np.unique(s)\n",
    "    counts = np.array(list(map(lambda u: sum(1 for side in s if side == u),uniques)))\n",
    "    counts = normalize(counts)\n",
    "    return uniques,counts"
   ]
  },
  {
   "cell_type": "markdown",
   "metadata": {},
   "source": [
    "Specific Square Sims"
   ]
  },
  {
   "cell_type": "code",
   "execution_count": 20,
   "metadata": {},
   "outputs": [
    {
     "data": {
      "image/png": "[encoded data removed]",
      "text/plain": [
       "<Figure size 432x288 with 1 Axes>"
      ]
     },
     "metadata": {
      "needs_background": "light"
     },
     "output_type": "display_data"
    }
   ],
   "source": [
    "sq = ngon(4)\n",
    "sqhit = polygon_hit(sq)\n",
    "ls = sim(sqhit,np.array([0,0.5]),np.array([1,0]),1000)\n",
    "plt.plot(*sq.T)\n",
    "xs = list(map(lambda x: x[0][0], ls))\n",
    "ys = list(map(lambda x: x[0][1], ls))\n",
    "plt.plot(xs,ys)\n",
    "x,v,_ = ls[-1]\n",
    "plt.quiver(*x,*v)\n",
    "ax = plt.gca()\n",
    "ax.set_aspect(1)\n",
    "plt.show()"
   ]
  },
  {
   "cell_type": "code",
   "execution_count": 21,
   "metadata": {},
   "outputs": [
    {
     "data": {
      "text/plain": [
       "<BarContainer object of 2 artists>"
      ]
     },
     "execution_count": 21,
     "metadata": {},
     "output_type": "execute_result"
    },
    {
     "data": {
      "image/png": "[encoded data removed]",
      "text/plain": [
       "<Figure size 432x288 with 1 Axes>"
      ]
     },
     "metadata": {
      "needs_background": "light"
     },
     "output_type": "display_data"
    }
   ],
   "source": [
    "ss = list(map(lambda x: x[2]%2,ls[1:]))\n",
    "#print(ss)\n",
    "#ax = plt.gca()\n",
    "#ax.hist(ss,bins=2*sides)\n",
    "us,cs = side_chance(ls,mod=2)\n",
    "plt.bar(us,cs)"
   ]
  },
  {
   "cell_type": "markdown",
   "metadata": {},
   "source": [
    "Specifically Circular Sims"
   ]
  },
  {
   "cell_type": "code",
   "execution_count": 22,
   "metadata": {},
   "outputs": [
    {
     "name": "stdout",
     "output_type": "stream",
     "text": [
      "(array([-0.8660254, -0.5      ]), array([-1.00000000e+00, -2.34631758e-10]), 1.57079632697881)\n"
     ]
    },
    {
     "data": {
      "image/png": "[encoded data removed]",
      "text/plain": [
       "<Figure size 432x288 with 1 Axes>"
      ]
     },
     "metadata": {
      "needs_background": "light"
     },
     "output_type": "display_data"
    }
   ],
   "source": [
    "deg = 30\n",
    "theta = np.pi/2-(np.pi/180)*deg #<- Edit this!\n",
    "ls = sim(circle_hit,np.array([0,1]),np.array([np.cos(theta),np.sin(theta)]),1000)\n",
    "xs = list(map(lambda x: x[0][0], ls))\n",
    "ys = list(map(lambda x: x[0][1], ls))\n",
    "#print(xs)\n",
    "plt.plot(xs,ys)\n",
    "print(ls[-1])\n",
    "x,v,_ = ls[-1]\n",
    "plt.quiver(*x,*v)\n",
    "draw_circle = plt.Circle((0, 0), 1,fill=False)\n",
    "plt.xlim(-1,1)\n",
    "plt.ylim(-1,1)\n",
    "plt.gcf().gca().add_artist(draw_circle)\n",
    "plt.gca().set_aspect(1)\n",
    "plt.savefig(\"{}deg.png\".format(deg))\n",
    "plt.show()"
   ]
  },
  {
   "cell_type": "code",
   "execution_count": 23,
   "metadata": {},
   "outputs": [
    {
     "data": {
      "text/plain": [
       "<BarContainer object of 1000 artists>"
      ]
     },
     "execution_count": 23,
     "metadata": {},
     "output_type": "execute_result"
    },
    {
     "data": {
      "image/png": "[encoded data removed]",
      "text/plain": [
       "<Figure size 432x288 with 1 Axes>"
      ]
     },
     "metadata": {
      "needs_background": "light"
     },
     "output_type": "display_data"
    }
   ],
   "source": [
    "ss = list(map(lambda x: x[2],ls[1:]))\n",
    "#print(ss) #<- Side sequence\n",
    "#ax = plt.gca()\n",
    "#ax.hist(ss,bins=bounces)\n",
    "us,cs = side_chance(ls)\n",
    "plt.bar(us,cs,width=0.05)"
   ]
  },
  {
   "cell_type": "markdown",
   "metadata": {},
   "source": [
    "Discrete Cardiod Sims"
   ]
  },
  {
   "cell_type": "code",
   "execution_count": 24,
   "metadata": {},
   "outputs": [
    {
     "data": {
      "image/png": "[encoded data removed]",
      "text/plain": [
       "<Figure size 432x288 with 1 Axes>"
      ]
     },
     "metadata": {
      "needs_background": "light"
     },
     "output_type": "display_data"
    }
   ],
   "source": [
    "shape = polar_poly(lambda t: 1+np.cos(t),30)\n",
    "shapehit = polygon_hit(shape)\n",
    "ls = sim(shapehit,randx(0.5)+np.array([0.75,0]),randv(),1000)\n",
    "plt.plot(*shape.T)\n",
    "xs = list(map(lambda x: x[0][0], ls))\n",
    "ys = list(map(lambda x: x[0][1], ls))\n",
    "plt.plot(xs,ys)\n",
    "x,v,_ = ls[-1]\n",
    "plt.quiver(*x,*v)\n",
    "ax = plt.gca()\n",
    "ax.set_aspect(1)\n",
    "plt.savefig('cardiod.png')\n",
    "plt.show()"
   ]
  },
  {
   "cell_type": "code",
   "execution_count": 25,
   "metadata": {},
   "outputs": [
    {
     "data": {
      "image/png": "[encoded data removed]",
      "text/plain": [
       "<Figure size 432x288 with 1 Axes>"
      ]
     },
     "metadata": {
      "needs_background": "light"
     },
     "output_type": "display_data"
    }
   ],
   "source": [
    "ss = list(map(lambda x: x[2],ls[1:]))\n",
    "#print(ss)\n",
    "#ax = plt.gca()\n",
    "#ax.hist(ss,bins=bounces)\n",
    "sidelengths = np.array(list(map(lambda q: np.linalg.norm(q[1]-q[0]),shape)))\n",
    "us,cs = side_chance(ls)\n",
    "ncs = cs/sidelengths[us]\n",
    "plt.bar(us,cs,width=0.75)\n",
    "plt.savefig(\"normalizedcardiodsidesplot.png\")"
   ]
  },
  {
   "cell_type": "markdown",
   "metadata": {},
   "source": [
    "Setting up shapes etc."
   ]
  },
  {
   "cell_type": "code",
   "execution_count": 26,
   "metadata": {},
   "outputs": [],
   "source": [
    "sides = 10\n",
    "bounces = 10000\n",
    "ng = ngon(sides)\n",
    "nghit = polygon_hit(ng)"
   ]
  },
  {
   "cell_type": "markdown",
   "metadata": {},
   "source": [
    "Random Circle & N-Gon"
   ]
  },
  {
   "cell_type": "code",
   "execution_count": 27,
   "metadata": {},
   "outputs": [
    {
     "data": {
      "image/png": "[encoded data removed]",
      "text/plain": [
       "<Figure size 432x288 with 1 Axes>"
      ]
     },
     "metadata": {
      "needs_background": "light"
     },
     "output_type": "display_data"
    }
   ],
   "source": [
    "ls = sim(nghit,randx(np.cos(np.pi/sides)),randv(),bounces)\n",
    "plt.plot(*ng.T)\n",
    "xs = list(map(lambda x: x[0][0], ls))\n",
    "ys = list(map(lambda x: x[0][1], ls))\n",
    "plt.plot(xs,ys)\n",
    "x,v,_ = ls[-1]\n",
    "plt.quiver(*x,*v)\n",
    "ax = plt.gca()\n",
    "ax.set_aspect(1)\n",
    "plt.show()"
   ]
  },
  {
   "cell_type": "code",
   "execution_count": 28,
   "metadata": {},
   "outputs": [
    {
     "data": {
      "image/png": "[encoded data removed]",
      "text/plain": [
       "<Figure size 432x288 with 1 Axes>"
      ]
     },
     "metadata": {
      "needs_background": "light"
     },
     "output_type": "display_data"
    }
   ],
   "source": [
    "ss = list(map(lambda x: x[2],ls[1:]))\n",
    "#print(ss)\n",
    "#ax = plt.gca()\n",
    "#ax.hist(ss,bins=2*sides)\n",
    "us,cs = side_chance(ls)\n",
    "plt.bar(us,cs)\n",
    "plt.savefig('100.png')"
   ]
  },
  {
   "cell_type": "code",
   "execution_count": 29,
   "metadata": {},
   "outputs": [
    {
     "name": "stdout",
     "output_type": "stream",
     "text": [
      "(array([-0.59658354,  0.80255098]), array([-0.41186982,  0.9112427 ]), -0.502094414447757)\n"
     ]
    },
    {
     "data": {
      "image/png": "[encoded data removed]",
      "text/plain": [
       "<Figure size 432x288 with 1 Axes>"
      ]
     },
     "metadata": {
      "needs_background": "light"
     },
     "output_type": "display_data"
    }
   ],
   "source": [
    "ls = sim(circle_hit,randx(0.9),randv(),bounces)\n",
    "xs = list(map(lambda x: x[0][0], ls))\n",
    "ys = list(map(lambda x: x[0][1], ls))\n",
    "plt.plot(xs,ys)\n",
    "print(ls[-1])\n",
    "x,v,_ = ls[-1]\n",
    "plt.quiver(*x,*v)\n",
    "draw_circle = plt.Circle((0, 0), 1,fill=False)\n",
    "plt.gcf().gca().add_artist(draw_circle)\n",
    "plt.gca().set_aspect(1)\n",
    "plt.show()"
   ]
  },
  {
   "cell_type": "code",
   "execution_count": 30,
   "metadata": {},
   "outputs": [
    {
     "data": {
      "text/plain": [
       "<BarContainer object of 10000 artists>"
      ]
     },
     "execution_count": 30,
     "metadata": {},
     "output_type": "execute_result"
    },
    {
     "data": {
      "image/png": "[encoded data removed]",
      "text/plain": [
       "<Figure size 432x288 with 1 Axes>"
      ]
     },
     "metadata": {
      "needs_background": "light"
     },
     "output_type": "display_data"
    }
   ],
   "source": [
    "ss = list(map(lambda x: x[2],ls[1:]))\n",
    "#print(ss)\n",
    "#ax = plt.gca()\n",
    "#ax.hist(ss,bins=bounces)\n",
    "us,cs = side_chance(ls)\n",
    "plt.bar(us,cs,width=0.05)"
   ]
  },
  {
   "cell_type": "code",
   "execution_count": null,
   "metadata": {},
   "outputs": [],
   "source": []
  }
 ],
 "metadata": {
  "kernelspec": {
   "display_name": "Python [conda env:root] *",
   "language": "python",
   "name": "conda-root-py"
  },
  "language_info": {
   "codemirror_mode": {
    "name": "ipython",
    "version": 3
   },
   "file_extension": ".py",
   "mimetype": "text/x-python",
   "name": "python",
   "nbconvert_exporter": "python",
   "pygments_lexer": "ipython3",
   "version": "3.8.3"
  }
 },
 "nbformat": 4,
 "nbformat_minor": 4
}
