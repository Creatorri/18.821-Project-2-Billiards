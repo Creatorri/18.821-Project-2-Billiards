{
 "cells": [
  {
   "cell_type": "code",
   "execution_count": 1,
   "metadata": {},
   "outputs": [],
   "source": [
    "%matplotlib widget\n",
    "from tqdm.auto import tqdm, trange\n",
    "import numpy as np\n",
    "import scipy as sp\n",
    "import matplotlib.pyplot as plt\n",
    "import math\n",
    "from numpy.random import default_rng, SeedSequence\n",
    "import multiprocessing\n",
    "import concurrent.futures\n",
    "from numba import vectorize,jit,prange,objmode,njit"
   ]
  },
  {
   "cell_type": "code",
   "execution_count": 2,
   "metadata": {},
   "outputs": [],
   "source": [
    "rng = default_rng()"
   ]
  },
  {
   "cell_type": "code",
   "execution_count": 3,
   "metadata": {},
   "outputs": [],
   "source": [
    "error = 1e-10 #because machine error is *really* important when working with linalg"
   ]
  },
  {
   "cell_type": "code",
   "execution_count": 4,
   "metadata": {},
   "outputs": [],
   "source": [
    "def normalize(v):\n",
    "    l = np.linalg.norm(v)\n",
    "    if l < error:\n",
    "        print(\"Something has gone terribly wrong with \"+str(v))\n",
    "        return v\n",
    "    return v/l"
   ]
  },
  {
   "cell_type": "markdown",
   "metadata": {},
   "source": [
    "Questions for next version:\n",
    "* Make precise:\n",
    "    * Why probability 1? Give intuition and what measure 0 set works\n",
    "    * Say what $x_n, p_n, v_n$ are, give picture\n",
    "    * Conjecture 4.1: Provide evidence and convince the reader that, for irrational starting direction \n",
    "        * Get some random [convex polygons](https://cglab.ca/~sander/misc/ConvexGeneration/convex.html) and see if that works\n",
    "    * Check conj 4.2 for irregular triangles\n",
    "* Density of paths:\n",
    "    * How to measure?\n",
    "        * Maybe try making circles and finding the largest radius $\\epsilon$ s.t. $B_\\epsilon \\cap L =\\emptyset$ (for $L$ is the set of points in the lines)\n",
    "    * How dense are random paths on 7-gons? Show with 1000 bounces\n",
    "    * Are there protected regions in small $n$ $n$-gons? If so, how?"
   ]
  },
  {
   "cell_type": "markdown",
   "metadata": {},
   "source": [
    "### Defining shapes\n",
    "In general we will define a discrete shape to be an array of pairs of points which represent the lines between them."
   ]
  },
  {
   "cell_type": "code",
   "execution_count": 5,
   "metadata": {},
   "outputs": [],
   "source": [
    "def polar_poly(r,n):\n",
    "    r = np.vectorize(r)\n",
    "    theta = 2*np.pi/n\n",
    "    angles = np.array([x*theta for x in range(n)])\n",
    "    p0s = np.vstack((r(angles)*np.cos(angles),r(angles)*np.sin(angles))).T\n",
    "    p1s = np.array(list(map(lambda i: p0s[(i+1)%n],range(n))))\n",
    "    return np.array(list(zip(p0s,p1s)))"
   ]
  },
  {
   "cell_type": "code",
   "execution_count": 6,
   "metadata": {},
   "outputs": [
    {
     "data": {
      "application/vnd.jupyter.widget-view+json": {
       "model_id": "d576b05fe2a34f78a6851c7b63687bd0",
       "version_major": 2,
       "version_minor": 0
      },
      "text/plain": [
       "Canvas(toolbar=Toolbar(toolitems=[('Home', 'Reset original view', 'home', 'home'), ('Back', 'Back to previous …"
      ]
     },
     "metadata": {},
     "output_type": "display_data"
    }
   ],
   "source": [
    "fig = plt.figure()\n",
    "shape = polar_poly(lambda t: 1+np.cos(t),6)\n",
    "plt.plot(*shape.T)\n",
    "plt.gca().set_aspect(1)\n",
    "plt.plot(0,0,'ro')\n",
    "plt.axis('off')\n",
    "plt.show()"
   ]
  },
  {
   "cell_type": "code",
   "execution_count": 7,
   "metadata": {},
   "outputs": [],
   "source": [
    "def ngon(n):\n",
    "    return polar_poly(lambda t: 1,n)"
   ]
  },
  {
   "cell_type": "code",
   "execution_count": 8,
   "metadata": {},
   "outputs": [
    {
     "data": {
      "application/vnd.jupyter.widget-view+json": {
       "model_id": "db67945cd28947f9bd6089b35a5b6a5f",
       "version_major": 2,
       "version_minor": 0
      },
      "text/plain": [
       "Canvas(toolbar=Toolbar(toolitems=[('Home', 'Reset original view', 'home', 'home'), ('Back', 'Back to previous …"
      ]
     },
     "metadata": {},
     "output_type": "display_data"
    }
   ],
   "source": [
    "fig = plt.figure()\n",
    "shape = ngon(5)\n",
    "plt.plot(*shape.T)\n",
    "plt.gca().set_aspect(1)\n",
    "plt.plot(0,0,'ro')\n",
    "plt.axis('off')\n",
    "plt.show()"
   ]
  },
  {
   "cell_type": "code",
   "execution_count": 9,
   "metadata": {},
   "outputs": [],
   "source": [
    "def circle_arcs(n):\n",
    "    f = lambda t: np.array([np.cos(t),np.sin(t)])\n",
    "    fs = []\n",
    "    ns = []\n",
    "    tbounds = []\n",
    "    for i in range(n):\n",
    "        fs.append(f)\n",
    "        ns.append(f)\n",
    "        tbounds.append((2*np.pi/i,2*np.pi/(i+1)))\n",
    "    return (fs,ns,tbound)"
   ]
  },
  {
   "cell_type": "code",
   "execution_count": 10,
   "metadata": {},
   "outputs": [],
   "source": [
    "def polar_curve(r,rprime):\n",
    "    rhat = lambda t: np.array([np.cos(t),np.sin(t)])\n",
    "    that = lambda t: rhat(t+np.pi/2)\n",
    "    f = lambda t: r(t)*np.array([np.cos(t),np.sin(t)])\n",
    "    n = lambda t: -r(t)*rhat(t)+rprime(t)*that(t)\n",
    "    tbound = (0,2*np.pi)\n",
    "    return ([f],[n],[tbound])"
   ]
  },
  {
   "cell_type": "markdown",
   "metadata": {},
   "source": [
    "General Hit Algorithms"
   ]
  },
  {
   "cell_type": "code",
   "execution_count": 11,
   "metadata": {},
   "outputs": [],
   "source": [
    "#@njit(fastmath=True,parallel=True)\n",
    "def line_hit(x,v,p0,p1):\n",
    "    dp = p0-p1#np.subtract(p0,p1)\n",
    "    a = np.vstack((v,dp)).T\n",
    "    b = p0-x#np.subtract(p0,x)\n",
    "    t = np.linalg.solve(a,b)\n",
    "    nx = x+t[0]*v #np.add(x,np.multiply(t[1],v))\n",
    "    p = p0-t[1]*dp#np.add(p0,np.multiply(t[0],dp))\n",
    "    if t[1] < 1 and t[1] > 0 and t[0] > 0 and np.linalg.norm(p-nx) < error:\n",
    "        n = np.array([-dp[1],dp[0]])\n",
    "        return True, (p,n,(x,v,t[0]))\n",
    "    else:\n",
    "        return False, ()"
   ]
  },
  {
   "cell_type": "code",
   "execution_count": 12,
   "metadata": {},
   "outputs": [],
   "source": [
    "#@jit(fastmath=True,parallel=True,forceobj=True)\n",
    "def curve_hit(x,v,f,n,tbound):\n",
    "    g = lambda st: (x+v*st[0])-f(st[1])\n",
    "    hit,_,_,i,m = fsolve[g,[1,0.5*tbound[0]+0.5*tbound[1]]]\n",
    "    if i == 1:\n",
    "        r = normalize(n(hit[1]))\n",
    "        p = x+v*hit[0]\n",
    "        return True, (p,r,(x,v,hit[1]))\n",
    "    return False, ()"
   ]
  },
  {
   "cell_type": "markdown",
   "metadata": {},
   "source": [
    "Filtering specific hits of piecewise curves/shapes"
   ]
  },
  {
   "cell_type": "code",
   "execution_count": 13,
   "metadata": {},
   "outputs": [],
   "source": [
    "#@jit(fastmath=True,parallel=True,forceobj=True)\n",
    "def general_hit(hits):\n",
    "    crossings = list(map(lambda x: (x[1],x[2]), filter(lambda x: x[0], hits)))\n",
    "    if crossings == []:\n",
    "        raise Exception(\"No hits!\")\n",
    "    cross = sorted(crossings,key=lambda x: x[0][2][2])[0]\n",
    "    p = cross[0][0]\n",
    "    n = cross[0][1]\n",
    "    s = cross[1]\n",
    "    t = cross[0][2][2]\n",
    "    return p, n, s, t"
   ]
  },
  {
   "cell_type": "code",
   "execution_count": 14,
   "metadata": {},
   "outputs": [],
   "source": [
    "def polygon_hit(ps):\n",
    "    def hit(x,v):\n",
    "        hits = list(map(lambda p: line_hit(x,v,*p[1])+(p[0],),enumerate(ps))) #append i to the side\n",
    "        return general_hit(hits)\n",
    "    return hit"
   ]
  },
  {
   "cell_type": "code",
   "execution_count": 15,
   "metadata": {},
   "outputs": [],
   "source": [
    "def piecewise_smooth(fs,ns,tbounds):\n",
    "    def hit(x,v):\n",
    "        hits = list(map(lambda ifnt: curve_hit(x,v,ifnt[1],ifnt[2],ifnt[3])+(ifnt[0],),enumerate(zip(fs,ns,tbounds))))\n",
    "        return general_hit(hits)\n",
    "    return hit"
   ]
  },
  {
   "cell_type": "markdown",
   "metadata": {},
   "source": [
    "Special Case"
   ]
  },
  {
   "cell_type": "code",
   "execution_count": 16,
   "metadata": {},
   "outputs": [],
   "source": [
    "#@njit(fastmath=True,parallel=True)\n",
    "def circle_hit(x,v):\n",
    "    b = np.dot(v,x)\n",
    "    c = np.linalg.norm(x)**2 -1\n",
    "    ts = -b+np.array([1,-1])*np.sqrt(b**2 - c)\n",
    "    t = np.max(ts)#np.min(ts[np.all(np.greater(ts,[0,0]))])\n",
    "    p = x+t*v\n",
    "    n = -p\n",
    "    return p, n, np.arctan2(x[1],x[0])"
   ]
  },
  {
   "cell_type": "markdown",
   "metadata": {},
   "source": [
    "Random Convex Shapes"
   ]
  },
  {
   "cell_type": "code",
   "execution_count": 17,
   "metadata": {},
   "outputs": [],
   "source": [
    "def rand_convex(n):\n",
    "    x = np.sort(rng.random(size=n)*2-1)\n",
    "    y = np.sort(rng.random(size=n)*2-1)\n",
    "    minx,maxx = x[0],x[-1]\n",
    "    miny,maxy = y[0],y[-1]\n",
    "    \n",
    "    xbs = rng.choice([True,False],size=n-2)\n",
    "    x0 = x[1:-1]\n",
    "    x1 = x0[xbs]\n",
    "    x2 = x0[np.logical_not(xbs)]\n",
    "    \n",
    "    ybs = rng.choice([True,False],size=n-2)\n",
    "    y0 = y[1:-1]\n",
    "    y1 = y0[ybs]\n",
    "    y2 = y0[np.logical_not(ybs)]\n",
    "    \n",
    "    x1 = np.hstack((minx,x1,maxx))\n",
    "    x2 = np.hstack((minx,x2,maxx))\n",
    "    xs = np.array([])\n",
    "    for i,x in enumerate(x1[:-1]):\n",
    "        xs = np.append(xs,x1[i+1]-x)\n",
    "    for i,x in enumerate(x2[:-1]):\n",
    "        xs = np.append(xs,x-x2[i+1])\n",
    "        \n",
    "    y1 = np.hstack((miny,y1,maxy))\n",
    "    y2 = np.hstack((miny,y2,maxy))\n",
    "    ys = np.array([])\n",
    "    for i,y in enumerate(y1[:-1]):\n",
    "        ys = np.append(ys,y1[i+1]-y)\n",
    "    for i,y in enumerate(y2[:-1]):\n",
    "        ys = np.append(ys,y-y2[i+1])\n",
    "        \n",
    "    rng.shuffle(ys)\n",
    "    \n",
    "    vec = list(zip(xs,ys))\n",
    "    vec.sort(key=lambda x: np.arctan2(x[1],x[0]))\n",
    "    vec = np.array(vec)\n",
    "    \n",
    "    p = [0,0]\n",
    "    p0s = np.array([p])\n",
    "    for v in vec:\n",
    "        p = p+v\n",
    "        p0s = np.append(p0s,[p],axis=0)\n",
    "        \n",
    "    del p\n",
    "    off = np.array([minx,miny]) - np.min(p0s,axis=0)\n",
    "    p0s = np.array(list(map(lambda p: p+off,p0s)))\n",
    "    p1s = np.array(list(map(lambda i: p0s[(i+1)%n],range(n))))\n",
    "    \n",
    "    return np.array(list(zip(p0s,p1s)))"
   ]
  },
  {
   "cell_type": "code",
   "execution_count": 18,
   "metadata": {},
   "outputs": [
    {
     "data": {
      "application/vnd.jupyter.widget-view+json": {
       "model_id": "f1cc2e8e89bd4dcca06463a2c98ac1ad",
       "version_major": 2,
       "version_minor": 0
      },
      "text/plain": [
       "Canvas(toolbar=Toolbar(toolitems=[('Home', 'Reset original view', 'home', 'home'), ('Back', 'Back to previous …"
      ]
     },
     "metadata": {},
     "output_type": "display_data"
    }
   ],
   "source": [
    "fig = plt.figure()\n",
    "shape = rand_convex(5)\n",
    "plt.plot(*shape.T)\n",
    "plt.gca().set_aspect(1)\n",
    "plt.plot(0,0,'ro')\n",
    "plt.axis('off')\n",
    "plt.show()"
   ]
  },
  {
   "cell_type": "markdown",
   "metadata": {},
   "source": [
    "Bounce algorithm"
   ]
  },
  {
   "cell_type": "code",
   "execution_count": 19,
   "metadata": {},
   "outputs": [],
   "source": [
    "#@njit(fastmath=True,parallel=True)\n",
    "def bounce(v,n):\n",
    "    n = normalize(n)\n",
    "    return v-2*np.dot(n,v)*n#np.subtract(v,np.multiply(2*np.dot(n,v),n))"
   ]
  },
  {
   "cell_type": "markdown",
   "metadata": {},
   "source": [
    "Simulation of many bounces"
   ]
  },
  {
   "cell_type": "code",
   "execution_count": 20,
   "metadata": {},
   "outputs": [],
   "source": [
    "#@jit(fastmath=True,parallel=True,forceobj=True)\n",
    "def sim(hitFunc,x,v,depth):\n",
    "    lines = [(x,v,-1)]\n",
    "    for _ in range(depth):\n",
    "        x, n, s, t = hitFunc(x,v)\n",
    "        v = bounce(v,n)\n",
    "        x = x+error*v#np.add(x,np.multiply(1e-12,v))\n",
    "        lines = lines + [(x,v,s)]\n",
    "    return lines"
   ]
  },
  {
   "cell_type": "code",
   "execution_count": 21,
   "metadata": {},
   "outputs": [],
   "source": [
    "def dynamical_sim(hitFunc,x,v,side,depth):\n",
    "    lines = [x]\n",
    "    hits = [0]\n",
    "    for _ in range(depth):\n",
    "        x, n, s, t = hitFunc(x,v)\n",
    "        v = bounce(v,n)\n",
    "        x = x+error*v\n",
    "        if s == side:\n",
    "            hits = hits + [t]\n",
    "        lines = lines + [x]\n",
    "    return lines,hits[1:]"
   ]
  },
  {
   "cell_type": "markdown",
   "metadata": {},
   "source": [
    "Random Start Info"
   ]
  },
  {
   "cell_type": "code",
   "execution_count": 22,
   "metadata": {},
   "outputs": [],
   "source": [
    "def randx(rad):\n",
    "    r = rng.random()*rad\n",
    "    theta = 2*np.pi*rng.random()\n",
    "    x = np.multiply(r,np.array([np.cos(theta),np.sin(theta)]))\n",
    "    return x\n",
    "def randv():\n",
    "    vtheta = 2*np.pi*rng.random()\n",
    "    v = np.array([np.cos(vtheta),np.sin(vtheta)])\n",
    "    return v"
   ]
  },
  {
   "cell_type": "markdown",
   "metadata": {},
   "source": [
    "Get data for plotting"
   ]
  },
  {
   "cell_type": "code",
   "execution_count": 23,
   "metadata": {},
   "outputs": [],
   "source": [
    "def side_chance(sim_result,mod=0):\n",
    "    if mod == 0:\n",
    "        s = np.array(list(map(lambda x: x[2],sim_result[1:])))\n",
    "    else:\n",
    "        s = np.array(list(map(lambda x: x[2]%mod,sim_result[1:])))\n",
    "    uniques = np.unique(s)\n",
    "    counts = np.array(list(map(lambda u: sum(1 for side in s if side == u),uniques)))\n",
    "    counts = normalize(counts)\n",
    "    return uniques,counts"
   ]
  },
  {
   "cell_type": "markdown",
   "metadata": {},
   "source": [
    "Dynamical Analysis"
   ]
  },
  {
   "cell_type": "code",
   "execution_count": 24,
   "metadata": {},
   "outputs": [
    {
     "data": {
      "application/vnd.jupyter.widget-view+json": {
       "model_id": "bf51e687d78047dc867ab3ae465a9ae2",
       "version_major": 2,
       "version_minor": 0
      },
      "text/plain": [
       "Canvas(toolbar=Toolbar(toolitems=[('Home', 'Reset original view', 'home', 'home'), ('Back', 'Back to previous …"
      ]
     },
     "metadata": {},
     "output_type": "display_data"
    },
    {
     "data": {
      "application/vnd.jupyter.widget-view+json": {
       "model_id": "fe21079fe45c49a9b167f12408f30e64",
       "version_major": 2,
       "version_minor": 0
      },
      "text/plain": [
       "HBox(children=(HTML(value=''), FloatProgress(value=0.0, max=50.0), HTML(value='')))"
      ]
     },
     "metadata": {},
     "output_type": "display_data"
    },
    {
     "name": "stdout",
     "output_type": "stream",
     "text": [
      "\n"
     ]
    }
   ],
   "source": [
    "from mpl_toolkits.mplot3d import Axes3D\n",
    "import matplotlib\n",
    "fig = plt.figure()\n",
    "ax = fig.add_subplot(111, projection='3d')\n",
    "shape = ngon(4)#10*rand_convex(5)\n",
    "shapehit = polygon_hit(shape)\n",
    "ts = np.linspace(0,np.pi/8)\n",
    "for t in tqdm(ts):    \n",
    "    ls,hs = dynamical_sim(shapehit,np.array([0.25-1,0.24]),np.array([np.cos(t),np.sin(t)]),0,10000)\n",
    "    xns = hs[1:]\n",
    "    xn1s = hs[:-1]\n",
    "    ax.scatter(xns,xn1s,t,marker=matplotlib.markers.MarkerStyle(marker=','))\n",
    "    xy = np.linspace(0,max(hs))\n",
    "    #ax.plot(xy,xy,t,'r--')\n",
    "plt.show()"
   ]
  },
  {
   "cell_type": "markdown",
   "metadata": {},
   "source": [
    "Random N-Gon Sims"
   ]
  },
  {
   "cell_type": "code",
   "execution_count": 25,
   "metadata": {},
   "outputs": [],
   "source": [
    "def sl(q):\n",
    "    return np.linalg.norm(q[1]-q[0])\n",
    "sidelen = np.vectorize(sl,signature='(2,2)->()')\n",
    "#@njit(fastmath=True,parallel=True)\n",
    "def lenprob(depth,sides,trials,tries=50):\n",
    "    length = np.array([])\n",
    "    prob = np.array([])\n",
    "    theta = np.array([])\n",
    "    \n",
    "    for n in sides:\n",
    "        for k in trange(trials):\n",
    "            shape = 10*rand_convex(n+3)\n",
    "            hit = polygon_hit(shape)\n",
    "            sidelengths = sidelen(shape)\n",
    "            t = 0\n",
    "            ls = None\n",
    "            while t < tries:\n",
    "                t += 1\n",
    "                v = randv()\n",
    "                x = randx(1)\n",
    "                try:\n",
    "                    ls = sim(hit,x,v,depth)\n",
    "                except:\n",
    "                    continue\n",
    "                t = tries+1\n",
    "                us,cs = side_chance(ls)\n",
    "                ncs = cs/np.sum(sidelengths)\n",
    "                length = np.append(length,sidelengths[us])\n",
    "                prob = np.append(prob,ncs)\n",
    "                theta = np.append(theta,np.arctan2(v[1],v[0]))\n",
    "        print(\"Got to {} sides\".format(n))\n",
    "    return length, prob, theta"
   ]
  },
  {
   "cell_type": "code",
   "execution_count": 27,
   "metadata": {},
   "outputs": [
    {
     "data": {
      "application/vnd.jupyter.widget-view+json": {
       "model_id": "ad5fb8060bc44f29be1773d8e630fa9c",
       "version_major": 2,
       "version_minor": 0
      },
      "text/plain": [
       "Canvas(toolbar=Toolbar(toolitems=[('Home', 'Reset original view', 'home', 'home'), ('Back', 'Back to previous …"
      ]
     },
     "metadata": {},
     "output_type": "display_data"
    },
    {
     "data": {
      "application/vnd.jupyter.widget-view+json": {
       "model_id": "712d657ae8ba460e85270303ee9b29e9",
       "version_major": 2,
       "version_minor": 0
      },
      "text/plain": [
       "HBox(children=(HTML(value=''), FloatProgress(value=0.0, max=1000.0), HTML(value='')))"
      ]
     },
     "metadata": {},
     "output_type": "display_data"
    },
    {
     "name": "stdout",
     "output_type": "stream",
     "text": [
      "\n",
      "Got to 100 sides\n",
      "0.0019447743039847241x+2.9197308882922995e-05\n"
     ]
    }
   ],
   "source": [
    "plt.figure()\n",
    "l,p,_ = lenprob(1000,[100],1000,tries=1)\n",
    "fit = np.polyfit(l,p,1)\n",
    "poly = np.poly1d(fit)\n",
    "lenth = np.linspace(0,max(l))\n",
    "print(\"{}x+{}\".format(fit[0],fit[1]))\n",
    "plt.plot(l,p,'k,',label=\"100-gons\")\n",
    "plt.plot(lenth,poly(lenth),'r--',label=\"Best Fit\")\n",
    "plt.legend()\n",
    "plt.savefig('lenprob100.png')\n",
    "plt.show()"
   ]
  },
  {
   "cell_type": "code",
   "execution_count": null,
   "metadata": {},
   "outputs": [
    {
     "data": {
      "application/vnd.jupyter.widget-view+json": {
       "model_id": "956914e7124e4b44901088aadd7dceaa",
       "version_major": 2,
       "version_minor": 0
      },
      "text/plain": [
       "Canvas(toolbar=Toolbar(toolitems=[('Home', 'Reset original view', 'home', 'home'), ('Back', 'Back to previous …"
      ]
     },
     "metadata": {},
     "output_type": "display_data"
    },
    {
     "data": {
      "application/vnd.jupyter.widget-view+json": {
       "model_id": "a26fc96b55144962bafc5b3a92d9b6e1",
       "version_major": 2,
       "version_minor": 0
      },
      "text/plain": [
       "HBox(children=(HTML(value=''), FloatProgress(value=0.0, max=5000.0), HTML(value='')))"
      ]
     },
     "metadata": {},
     "output_type": "display_data"
    },
    {
     "name": "stdout",
     "output_type": "stream",
     "text": [
      "\n",
      "Got to 3 sides\n",
      "0.0008228402645866947x+0.0016015890311828077\n"
     ]
    },
    {
     "data": {
      "application/vnd.jupyter.widget-view+json": {
       "model_id": "e9a1e45e9c934e46990c7d7f5d1d4818",
       "version_major": 2,
       "version_minor": 0
      },
      "text/plain": [
       "HBox(children=(HTML(value=''), FloatProgress(value=0.0, max=5000.0), HTML(value='')))"
      ]
     },
     "metadata": {},
     "output_type": "display_data"
    },
    {
     "name": "stdout",
     "output_type": "stream",
     "text": [
      "\n",
      "Got to 4 sides\n",
      "0.0008436980550192983x+0.001125140162847277\n"
     ]
    },
    {
     "data": {
      "application/vnd.jupyter.widget-view+json": {
       "model_id": "314848a160a24dee90c0ec9b98000764",
       "version_major": 2,
       "version_minor": 0
      },
      "text/plain": [
       "HBox(children=(HTML(value=''), FloatProgress(value=0.0, max=5000.0), HTML(value='')))"
      ]
     },
     "metadata": {},
     "output_type": "display_data"
    }
   ],
   "source": [
    "fig = plt.figure()\n",
    "nums = [3,4,5,6,7,8,9,10]\n",
    "colors = \"krbgcmy\"\n",
    "for n,c in zip(nums,colors):\n",
    "    l,p,_ = lenprob(10000,[n],5000)\n",
    "    plt.plot(l,p,c+',',label=\"{}-gons\".format(n))\n",
    "    fit = np.polyfit(l,p,1)\n",
    "    print(\"{}x+{}\".format(fit[0],fit[1]))\n",
    "plt.legend()\n",
    "plt.savefig('lenprob.png')\n",
    "plt.show()"
   ]
  },
  {
   "cell_type": "code",
   "execution_count": null,
   "metadata": {},
   "outputs": [],
   "source": [
    "#from mpl_toolkits.mplot3d import Axes3D\n",
    "#fig = plt.figure()\n",
    "#ax = fig.add_subplot(111, projection='3d')\n",
    "#ax.scatter(l,p,a)\n",
    "#plt.savefig('lenprobangle.png')\n",
    "#plt.show()"
   ]
  },
  {
   "cell_type": "markdown",
   "metadata": {},
   "source": [
    "Specific Square Sims"
   ]
  },
  {
   "cell_type": "code",
   "execution_count": null,
   "metadata": {},
   "outputs": [],
   "source": [
    "sq = ngon(4)\n",
    "sqhit = polygon_hit(sq)\n",
    "x0 = np.array([0.25-1,0.24])\n",
    "slopes = [np.sqrt(2)/2,np.sqrt(3),np.sqrt(5)]\n",
    "n = 100\n",
    "for m in slopes:\n",
    "    ls = sim(sqhit,x0,np.array([m,1]),n)\n",
    "    plt.plot(*sq.T)\n",
    "    xs = list(map(lambda x: x[0][0], ls))\n",
    "    ys = list(map(lambda x: x[0][1], ls))\n",
    "    plt.plot(xs,ys)\n",
    "    x,v,_ = ls[-1]\n",
    "    plt.quiver(*x,*v)\n",
    "    ax = plt.gca()\n",
    "    ax.set_aspect(1)\n",
    "    plt.axis('off')\n",
    "    plt.savefig('{}for{}.png'.format(np.round(m,3),n))\n",
    "    plt.show()"
   ]
  },
  {
   "cell_type": "code",
   "execution_count": null,
   "metadata": {},
   "outputs": [],
   "source": [
    "ss = list(map(lambda x: x[2]%2,ls[1:]))\n",
    "#print(ss)\n",
    "#ax = plt.gca()\n",
    "#ax.hist(ss,bins=2*sides)\n",
    "us,cs = side_chance(ls,mod=2)\n",
    "plt.bar(us,cs)"
   ]
  },
  {
   "cell_type": "markdown",
   "metadata": {},
   "source": [
    "Specifically Circular Sims"
   ]
  },
  {
   "cell_type": "code",
   "execution_count": null,
   "metadata": {},
   "outputs": [],
   "source": [
    "deg = 30\n",
    "theta = np.pi/2-(np.pi/180)*deg #<- Edit this!\n",
    "ls = sim(circle_hit,np.array([0,1]),np.array([np.cos(theta),np.sin(theta)]),1000)\n",
    "xs = list(map(lambda x: x[0][0], ls))\n",
    "ys = list(map(lambda x: x[0][1], ls))\n",
    "#print(xs)\n",
    "plt.plot(xs,ys)\n",
    "print(ls[-1])\n",
    "x,v,_ = ls[-1]\n",
    "plt.quiver(*x,*v)\n",
    "draw_circle = plt.Circle((0, 0), 1,fill=False)\n",
    "plt.xlim(-1,1)\n",
    "plt.ylim(-1,1)\n",
    "plt.gcf().gca().add_artist(draw_circle)\n",
    "plt.gca().set_aspect(1)\n",
    "plt.axis('off')\n",
    "plt.savefig(\"{}deg.png\".format(deg))\n",
    "plt.show()"
   ]
  },
  {
   "cell_type": "code",
   "execution_count": null,
   "metadata": {},
   "outputs": [],
   "source": [
    "ss = list(map(lambda x: x[2],ls[1:]))\n",
    "#print(ss) #<- Side sequence\n",
    "#ax = plt.gca()\n",
    "#ax.hist(ss,bins=bounces)\n",
    "us,cs = side_chance(ls)\n",
    "plt.bar(us,cs,width=0.05)"
   ]
  },
  {
   "cell_type": "markdown",
   "metadata": {},
   "source": [
    "Discrete Cardiod Sims"
   ]
  },
  {
   "cell_type": "code",
   "execution_count": null,
   "metadata": {},
   "outputs": [],
   "source": [
    "shape = polar_poly(lambda t: 1+np.cos(t),100)\n",
    "shapehit = polygon_hit(shape)\n",
    "ls = sim(shapehit,randx(0.5)+np.array([0.75,0]),randv(),10000)\n",
    "#ls = sim(shapehit,np.array([0.,0.]),np.array([0.,1.]),100)\n",
    "plt.plot(*shape.T)\n",
    "xs = list(map(lambda x: x[0][0], ls))\n",
    "ys = list(map(lambda x: x[0][1], ls))\n",
    "plt.plot(xs,ys)\n",
    "x,v,_ = ls[-1]\n",
    "plt.quiver(*x,*v)\n",
    "ax = plt.gca()\n",
    "ax.set_aspect(1)\n",
    "plt.axis('off')\n",
    "plt.savefig('6cardiodrand.png')\n",
    "plt.show()"
   ]
  },
  {
   "cell_type": "code",
   "execution_count": null,
   "metadata": {},
   "outputs": [],
   "source": [
    "ss = list(map(lambda x: x[2],ls[1:]))\n",
    "#print(ss)\n",
    "#ax = plt.gca()\n",
    "#ax.hist(ss,bins=bounces)\n",
    "sidelengths = np.array(list(map(lambda q: np.linalg.norm(q[1]-q[0]),shape)))\n",
    "print(sidelengths)\n",
    "us,cs = side_chance(ls)\n",
    "print(sum(cs))\n",
    "ncs = cs/sum(cs)#/sidelengths[us]\n",
    "plt.bar(us,ncs,width=0.75)\n",
    "plt.plot(us,sidelengths[us]/sum(sidelengths),'r')\n",
    "plt.savefig(\"6normcardiodsidesplot.png\")"
   ]
  },
  {
   "cell_type": "code",
   "execution_count": null,
   "metadata": {},
   "outputs": [],
   "source": [
    "#(fs,ns,ts) = polar_curve(lambda t: 1+np.cos(t),lambda t: -np.sin(t))\n",
    "#hit = piecewise_smooth(fs,ns,ts)\n",
    "#ls = sim(hit,randx(0.5)+np.array([0.75,0]),randv(),1000)\n",
    "ts = np.linspace(0,2*np.pi)\n",
    "xs = (1+np.cos(ts))*np.cos(ts)\n",
    "ys = (1+np.cos(ts))*np.sin(ts)\n",
    "plt.plot(xs,ys)\n",
    "#xs = list(map(lambda x: x[0][0], ls))\n",
    "#ys = list(map(lambda x: x[0][1], ls))\n",
    "#plt.plot(xs,ys)\n",
    "#x,v,_ = ls[-1]\n",
    "#plt.quiver(*x,*v)\n",
    "ax = plt.gca()\n",
    "ax.set_aspect(1)"
   ]
  },
  {
   "cell_type": "markdown",
   "metadata": {},
   "source": [
    "Setting up shapes etc."
   ]
  },
  {
   "cell_type": "code",
   "execution_count": null,
   "metadata": {},
   "outputs": [],
   "source": [
    "sides = 110\n",
    "bounces = 1000\n",
    "ng = ngon(sides)\n",
    "nghit = polygon_hit(ng)"
   ]
  },
  {
   "cell_type": "markdown",
   "metadata": {},
   "source": [
    "Random Circle & N-Gon"
   ]
  },
  {
   "cell_type": "code",
   "execution_count": null,
   "metadata": {},
   "outputs": [],
   "source": [
    "ls = sim(nghit,randx(np.cos(np.pi/sides)),randv(),bounces)\n",
    "plt.plot(*ng.T)\n",
    "xs = list(map(lambda x: x[0][0], ls))\n",
    "ys = list(map(lambda x: x[0][1], ls))\n",
    "plt.plot(xs,ys)\n",
    "x,v,_ = ls[-1]\n",
    "plt.quiver(*x,*v)\n",
    "plt.gca().set_aspect(1)\n",
    "plt.axis('off')\n",
    "plt.savefig('ngonirrational2.png')\n",
    "plt.show()"
   ]
  },
  {
   "cell_type": "code",
   "execution_count": null,
   "metadata": {},
   "outputs": [],
   "source": [
    "ss = list(map(lambda x: x[2],ls[1:]))\n",
    "#print(ss)\n",
    "#ax = plt.gca()\n",
    "#ax.hist(ss,bins=2*sides)\n",
    "us,cs = side_chance(ls)\n",
    "plt.bar(us,cs)\n",
    "plt.savefig('100.png')"
   ]
  },
  {
   "cell_type": "code",
   "execution_count": null,
   "metadata": {},
   "outputs": [],
   "source": [
    "ls = sim(circle_hit,randx(0.9),randv(),bounces)\n",
    "xs = list(map(lambda x: x[0][0], ls))\n",
    "ys = list(map(lambda x: x[0][1], ls))\n",
    "plt.plot(xs,ys)\n",
    "print(ls[-1])\n",
    "x,v,_ = ls[-1]\n",
    "plt.quiver(*x,*v)\n",
    "draw_circle = plt.Circle((0, 0), 1,fill=False)\n",
    "plt.gcf().gca().add_artist(draw_circle)\n",
    "plt.gca().set_aspect(1)\n",
    "plt.axis('off')\n",
    "plt.show()"
   ]
  },
  {
   "cell_type": "code",
   "execution_count": null,
   "metadata": {},
   "outputs": [],
   "source": [
    "ss = list(map(lambda x: x[2],ls[1:]))\n",
    "#print(ss)\n",
    "#ax = plt.gca()\n",
    "#ax.hist(ss,bins=bounces)\n",
    "us,cs = side_chance(ls)\n",
    "plt.bar(us,cs,width=0.05)"
   ]
  }
 ],
 "metadata": {
  "kernelspec": {
   "display_name": "Python [conda env:root] *",
   "language": "python",
   "name": "conda-root-py"
  },
  "language_info": {
   "codemirror_mode": {
    "name": "ipython",
    "version": 3
   },
   "file_extension": ".py",
   "mimetype": "text/x-python",
   "name": "python",
   "nbconvert_exporter": "python",
   "pygments_lexer": "ipython3",
   "version": "3.8.5"
  }
 },
 "nbformat": 4,
 "nbformat_minor": 4
}
