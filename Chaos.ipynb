{
 "cells": [
  {
   "cell_type": "code",
   "execution_count": 1,
   "metadata": {},
   "outputs": [],
   "source": [
    "#%matplotlib widget\n",
    "from tqdm.auto import tqdm, trange\n",
    "import numpy as np\n",
    "import scipy as sp\n",
    "import matplotlib.pyplot as plt\n",
    "import math\n",
    "from numpy.random import default_rng, SeedSequence\n",
    "import multiprocessing\n",
    "import concurrent.futures\n",
    "from numba import vectorize,jit,prange,objmode,njit\n",
    "from bentley_ottmann.planar import edges_intersect"
   ]
  },
  {
   "cell_type": "code",
   "execution_count": 2,
   "metadata": {},
   "outputs": [],
   "source": [
    "rng = default_rng()"
   ]
  },
  {
   "cell_type": "code",
   "execution_count": 3,
   "metadata": {},
   "outputs": [],
   "source": [
    "error = 1e-10 #because machine error is *really* important when working with linalg"
   ]
  },
  {
   "cell_type": "code",
   "execution_count": 4,
   "metadata": {},
   "outputs": [],
   "source": [
    "def normalize(v):\n",
    "    l = np.linalg.norm(v)\n",
    "    if l < error:\n",
    "        print(\"Something has gone terribly wrong with \"+str(v))\n",
    "        return v\n",
    "    return v/l"
   ]
  },
  {
   "cell_type": "code",
   "execution_count": 5,
   "metadata": {},
   "outputs": [],
   "source": [
    "def polar_poly(r,n):\n",
    "    r = np.vectorize(r)\n",
    "    theta = 2*np.pi/n\n",
    "    angles = np.array([x*theta for x in range(n)])\n",
    "    p0s = np.vstack((r(angles)*np.cos(angles),r(angles)*np.sin(angles))).T\n",
    "    p1s = np.array(list(map(lambda i: p0s[(i+1)%n],range(n))))\n",
    "    return np.array(list(zip(p0s,p1s)))"
   ]
  },
  {
   "cell_type": "code",
   "execution_count": 6,
   "metadata": {},
   "outputs": [],
   "source": [
    "#from https://stackoverflow.com/a/45372025\n",
    "\n",
    "def is_convex_polygon(polygon):\n",
    "    \"\"\"Return True if the polynomial defined by the sequence of 2D\n",
    "    points is 'strictly convex': points are valid, side lengths non-\n",
    "    zero, interior angles are strictly between zero and a straight\n",
    "    angle, and the polygon does not intersect itself.\n",
    "\n",
    "    NOTES:  1.  Algorithm: the signed changes of the direction angles\n",
    "                from one side to the next side must be all positive or\n",
    "                all negative, and their sum must equal plus-or-minus\n",
    "                one full turn (2 pi radians). Also check for too few,\n",
    "                invalid, or repeated points.\n",
    "            2.  No check is explicitly done for zero internal angles\n",
    "                (180 degree direction-change angle) as this is covered\n",
    "                in other ways, including the `n < 3` check.\n",
    "    \"\"\"\n",
    "    try:  # needed for any bad points or direction changes\n",
    "        # Check for too few points\n",
    "        if len(polygon) < 3:\n",
    "            return False\n",
    "        # Get starting information\n",
    "        old_x, old_y = polygon[-2]\n",
    "        new_x, new_y = polygon[-1]\n",
    "        new_direction = np.arctan2(new_y - old_y, new_x - old_x)\n",
    "        angle_sum = 0.0\n",
    "        # Check each point (the side ending there, its angle) and accum. angles\n",
    "        for ndx, newpoint in enumerate(polygon):\n",
    "            # Update point coordinates and side directions, check side length\n",
    "            old_x, old_y, old_direction = new_x, new_y, new_direction\n",
    "            new_x, new_y = newpoint\n",
    "            new_direction = np.arctan2(new_y - old_y, new_x - old_x)\n",
    "            if old_x == new_x and old_y == new_y:\n",
    "                return False  # repeated consecutive points\n",
    "            # Calculate & check the normalized direction-change angle\n",
    "            angle = new_direction - old_direction\n",
    "            if angle <= -np.pi:\n",
    "                angle += 2*np.pi  # make it in half-open interval (-Pi, Pi]\n",
    "            elif angle > np.pi:\n",
    "                angle -= np.pi\n",
    "            if ndx == 0:  # if first time through loop, initialize orientation\n",
    "                if angle == 0.0:\n",
    "                    return False\n",
    "                orientation = 1.0 if angle > 0.0 else -1.0\n",
    "            else:  # if other time through loop, check orientation is stable\n",
    "                if orientation * angle <= 0.0:  # not both pos. or both neg.\n",
    "                    return False\n",
    "            # Accumulate the direction-change angle\n",
    "            angle_sum += angle\n",
    "        # Check that the total number of full turns is plus-or-minus 1\n",
    "        return np.abs(np.around(angle_sum / (2*np.pi))) == 1\n",
    "    except (ArithmeticError, TypeError, ValueError):\n",
    "        return False  # any exception means not a proper convex polygon"
   ]
  },
  {
   "cell_type": "code",
   "execution_count": 7,
   "metadata": {},
   "outputs": [],
   "source": [
    "# from https://matlabgeeks.com/tips-tutorials/computational-geometry/creating-2-d-polygons-in-matlab/\n",
    "def rand_ngon(n,radVar=1,angVar=1):\n",
    "    angles = np.arange(n)*(2*np.pi/n)\n",
    "    \n",
    "    xs = (1+rng.random(size=n)*radVar)*np.cos(angles+rng.random(size=n)*angVar)\n",
    "    ys = (1+rng.random(size=n)*radVar)*np.sin(angles+rng.random(size=n)*angVar)\n",
    "    \n",
    "    vs = list(zip(xs,ys))\n",
    "    simple = not edges_intersect(vs)\n",
    "    \n",
    "    p0s = np.array(vs)\n",
    "    convex = is_convex_polygon(p0s)\n",
    "    p1s = p0s[np.mod(np.arange(n)+1,n)]\n",
    "    \n",
    "    return np.array(list(zip(p0s,p1s))),convex,simple"
   ]
  },
  {
   "cell_type": "code",
   "execution_count": 8,
   "metadata": {},
   "outputs": [],
   "source": [
    "def rand_convex(n,randVar=1,angVar=1):\n",
    "    convex = False\n",
    "    while not convex:\n",
    "        shape,convex,_ = rand_ngon(n,randVar,angVar)\n",
    "    return shape\n",
    "def rand_concave(n,randVar=1,angVar=1):\n",
    "    convex = True\n",
    "    simple = True\n",
    "    while convex or not simple:\n",
    "        shape,convex,simple = rand_ngon(n,randVar,angVar)\n",
    "    return shape\n",
    "def rand_simple(n,randVar=1,angVar=1):\n",
    "    simple = False\n",
    "    while not simple:\n",
    "        shape,convex,simple = rand_ngon(n,randVar,angVar)\n",
    "    return shape,convex"
   ]
  },
  {
   "cell_type": "code",
   "execution_count": 9,
   "metadata": {},
   "outputs": [
    {
     "name": "stdout",
     "output_type": "stream",
     "text": [
      "False\n"
     ]
    },
    {
     "data": {
      "image/png": "[encoded data removed]",
      "text/plain": [
       "<Figure size 432x288 with 1 Axes>"
      ]
     },
     "metadata": {
      "needs_background": "light"
     },
     "output_type": "display_data"
    }
   ],
   "source": [
    "n = 7\n",
    "fig = plt.figure()\n",
    "shape,convex = rand_simple(n)\n",
    "print(convex)\n",
    "plt.plot(*shape.T)\n",
    "plt.gca().set_aspect(1)\n",
    "plt.plot(0,0,'ro')\n",
    "plt.axis('off')\n",
    "plt.show()"
   ]
  },
  {
   "cell_type": "code",
   "execution_count": 10,
   "metadata": {},
   "outputs": [],
   "source": [
    "#@njit(fastmath=True,parallel=True)\n",
    "def line_hit(x,v,p0,p1):\n",
    "    dp = p0-p1#np.subtract(p0,p1)\n",
    "    a = np.vstack((v,dp)).T\n",
    "    b = p0-x#np.subtract(p0,x)\n",
    "    t = np.linalg.solve(a,b)\n",
    "    nx = x+t[0]*v #np.add(x,np.multiply(t[1],v))\n",
    "    p = p0-t[1]*dp#np.add(p0,np.multiply(t[0],dp))\n",
    "    if t[1] < 1 and t[1] > 0 and t[0] > 0 and np.linalg.norm(p-nx) < error:\n",
    "        n = np.array([-dp[1],dp[0]])\n",
    "        return True, (p,n,(x,v,t[0]))\n",
    "    else:\n",
    "        return False, ()"
   ]
  },
  {
   "cell_type": "code",
   "execution_count": 11,
   "metadata": {},
   "outputs": [],
   "source": [
    "#@jit(fastmath=True,parallel=True,forceobj=True)\n",
    "def general_hit(hits):\n",
    "    #crossings = hits[:,0,[1,2]]\n",
    "    crossings = list(map(lambda x: (x[1],x[2]), filter(lambda x: x[0], hits)))\n",
    "    #crossings = hits[:][0][[1,2]]\n",
    "    if crossings == []:\n",
    "        raise Exception(\"No hits!\")\n",
    "    cross = sorted(crossings,key=lambda x: x[0][2][2])[0]\n",
    "    p = cross[0][0]\n",
    "    n = cross[0][1]\n",
    "    s = cross[1]\n",
    "    t = cross[0][2][2]\n",
    "    return p, n, s, t"
   ]
  },
  {
   "cell_type": "code",
   "execution_count": 12,
   "metadata": {},
   "outputs": [],
   "source": [
    "def polygon_hit(ps):\n",
    "    def hit(x,v):\n",
    "        hits = list(map(lambda p: line_hit(x,v,*p[1])+(p[0],),enumerate(ps))) #append i to the side\n",
    "        return general_hit(hits)\n",
    "    return hit"
   ]
  },
  {
   "cell_type": "code",
   "execution_count": 13,
   "metadata": {},
   "outputs": [],
   "source": [
    "def bounce(v,n):\n",
    "    n = normalize(n)\n",
    "    return v-2*np.dot(n,v)*n"
   ]
  },
  {
   "cell_type": "code",
   "execution_count": 14,
   "metadata": {},
   "outputs": [],
   "source": [
    "def sim(hitFunc,x,v,depth):\n",
    "    xs = np.zeros((depth+1,2))\n",
    "    vs = np.zeros((depth+1,2))\n",
    "    ss = np.zeros(depth)\n",
    "    ts = np.zeros(depth)\n",
    "    xs[0] = x\n",
    "    vs[0] = v\n",
    "    ss[0] = -1\n",
    "    ts[0] = -1\n",
    "    for i in range(depth):\n",
    "        x, n, s, t = hitFunc(x,v)\n",
    "        v = bounce(v,n)\n",
    "        xs[i+1] = x\n",
    "        vs[i+1] = v\n",
    "        ss[i] = s\n",
    "        ts[i] = t\n",
    "        x = x+error*v\n",
    "    return xs,vs,ss,ts"
   ]
  },
  {
   "cell_type": "code",
   "execution_count": 15,
   "metadata": {},
   "outputs": [],
   "source": [
    "def dynamical_sim(hitFunc,x,v,side,depth):\n",
    "    xs,vs,ss,ts = sim(hitFunc,x,v,depth)\n",
    "    return ts[ss==side]"
   ]
  },
  {
   "cell_type": "code",
   "execution_count": 16,
   "metadata": {},
   "outputs": [],
   "source": [
    "def randx(rad):\n",
    "    r = rng.random()*rad\n",
    "    theta = 2*np.pi*rng.random()\n",
    "    x = np.multiply(r,np.array([np.cos(theta),np.sin(theta)]))\n",
    "    return x\n",
    "def randv():\n",
    "    vtheta = 2*np.pi*rng.random()\n",
    "    v = np.array([np.cos(vtheta),np.sin(vtheta)])\n",
    "    return v"
   ]
  },
  {
   "cell_type": "code",
   "execution_count": 17,
   "metadata": {},
   "outputs": [],
   "source": [
    "# from my chaos pset\n",
    "@njit(fastmath=True,parallel=True)\n",
    "def chaos_test(time_series):\n",
    "    c = 2\n",
    "    bign = time_series.size\n",
    "    path = np.zeros((bign+1,2))\n",
    "    with objmode():\n",
    "        path[0] = np.array([rng.random()*5,rng.random()*5])\n",
    "    for n,phi in enumerate(time_series):\n",
    "        path[n+1] = path[n]+phi*np.array([np.cos(c*n),np.sin(c*n)])\n",
    "    ps = path[:,0]\n",
    "    qs = path[:,1]\n",
    "    n = np.int_(0.1*bign)\n",
    "    ks = np.arange(n)\n",
    "    dks = np.zeros_like(ks)\n",
    "    expectphisq = (np.sum(time_series)/time_series.size)**2\n",
    "    for k in range(n):\n",
    "        j = np.arange(bign-k)+1\n",
    "        mk = (1/(bign-k))*np.sum((ps[j+k]-ps[j])**2+(qs[j+k]-qs[j])**2)\n",
    "        dks[k] = mk-expectphisq*(1-np.cos(k*c))/(1-np.cos(c))\n",
    "    dks = dks + 1.1*np.abs(np.min(dks))\n",
    "    with objmode(fit='f8[:]'):\n",
    "        fit = np.polyfit(np.log(ks+1),np.log(dks+1),1)\n",
    "    return fit[0],path,ks,dks"
   ]
  },
  {
   "cell_type": "code",
   "execution_count": 18,
   "metadata": {},
   "outputs": [],
   "source": [
    "n = 4\n",
    "vex = rand_convex(n)\n",
    "vexhit = polygon_hit(vex)\n",
    "cav = rand_concave(n)\n",
    "cavhit = polygon_hit(cav)"
   ]
  },
  {
   "cell_type": "code",
   "execution_count": 19,
   "metadata": {},
   "outputs": [
    {
     "data": {
      "text/plain": [
       "[<matplotlib.lines.Line2D at 0x1fc515e8ca0>,\n",
       " <matplotlib.lines.Line2D at 0x1fc515e8d60>,\n",
       " <matplotlib.lines.Line2D at 0x1fc515e8e20>,\n",
       " <matplotlib.lines.Line2D at 0x1fc515e8ee0>]"
      ]
     },
     "execution_count": 19,
     "metadata": {},
     "output_type": "execute_result"
    },
    {
     "data": {
      "image/png": "[encoded data removed]",
      "text/plain": [
       "<Figure size 432x288 with 2 Axes>"
      ]
     },
     "metadata": {
      "needs_background": "light"
     },
     "output_type": "display_data"
    }
   ],
   "source": [
    "fig,(ax0,ax1) = plt.subplots(1,2)\n",
    "ax0.plot(*vex.T)\n",
    "ax1.plot(*cav.T)"
   ]
  },
  {
   "cell_type": "code",
   "execution_count": 20,
   "metadata": {},
   "outputs": [],
   "source": [
    "dynvex = dynamical_sim(vexhit,randx(0.5),randv(),0,10000)\n",
    "dyncav = dynamical_sim(cavhit,randx(0.5),randv(),0,10000)"
   ]
  },
  {
   "cell_type": "code",
   "execution_count": 21,
   "metadata": {},
   "outputs": [
    {
     "name": "stderr",
     "output_type": "stream",
     "text": [
      "C:\\Users\\torri\\miniconda3\\lib\\site-packages\\numba\\core\\dispatcher.py:238: UserWarning: Numba extension module 'numba_scipy' failed to load due to 'ValueError(No function '__pyx_fuse_0pdtr' found in __pyx_capi__ of 'scipy.special.cython_special')'.\n",
      "  entrypoints.init_all()\n"
     ]
    }
   ],
   "source": [
    "chaosvex,pvex,kvex,mvex = chaos_test(dynvex)\n",
    "chaoscav,pcav,kcav,mcav = chaos_test(dyncav)"
   ]
  },
  {
   "cell_type": "code",
   "execution_count": 22,
   "metadata": {},
   "outputs": [
    {
     "name": "stdout",
     "output_type": "stream",
     "text": [
      "Convex 0.9401765845454128\n",
      "Concave 1.0189481963566474\n"
     ]
    },
    {
     "data": {
      "image/png": "[encoded data removed]",
      "text/plain": [
       "<Figure size 432x288 with 4 Axes>"
      ]
     },
     "metadata": {
      "needs_background": "light"
     },
     "output_type": "display_data"
    }
   ],
   "source": [
    "fig,(ax0,ax1) = plt.subplots(2,2)\n",
    "ax0[0].set_title(\"Convex\")\n",
    "ax0[0].plot(*pvex.T)\n",
    "ax0[1].set_title(\"Concav\")\n",
    "ax0[1].plot(*pcav.T)\n",
    "ax1[0].plot(kvex,mvex)\n",
    "ax1[1].plot(kcav,mcav)\n",
    "print(\"Convex\",chaosvex)\n",
    "print(\"Concave\",chaoscav)"
   ]
  },
  {
   "cell_type": "code",
   "execution_count": 23,
   "metadata": {},
   "outputs": [],
   "source": [
    "def chaos_sims(trials,sides,depth):\n",
    "    chaos,vexs = np.zeros(trials),np.zeros(trials)\n",
    "    for i in trange(trials):\n",
    "        shape,convex = rand_simple(sides)\n",
    "        vexs[i] = convex\n",
    "        hit = polygon_hit(shape)\n",
    "        try:\n",
    "            dyn = dynamical_sim(hit,randx(0.5),randv(),0,depth)\n",
    "            chaos[i],_,_,_ = chaos_test(dyn)\n",
    "        except:\n",
    "            chaos[i] = -1\n",
    "    return chaos,vexs"
   ]
  },
  {
   "cell_type": "code",
   "execution_count": null,
   "metadata": {},
   "outputs": [
    {
     "data": {
      "application/vnd.jupyter.widget-view+json": {
       "model_id": "e567b77905494e22842241dc0971189a",
       "version_major": 2,
       "version_minor": 0
      },
      "text/plain": [
       "HBox(children=(HTML(value=''), FloatProgress(value=0.0, max=1000.0), HTML(value='')))"
      ]
     },
     "metadata": {},
     "output_type": "display_data"
    },
    {
     "name": "stdout",
     "output_type": "stream",
     "text": [
      "\n"
     ]
    },
    {
     "data": {
      "application/vnd.jupyter.widget-view+json": {
       "model_id": "1013f10e332d4b9d8b19155b9edb13c7",
       "version_major": 2,
       "version_minor": 0
      },
      "text/plain": [
       "HBox(children=(HTML(value=''), FloatProgress(value=0.0, max=1000.0), HTML(value='')))"
      ]
     },
     "metadata": {},
     "output_type": "display_data"
    },
    {
     "name": "stdout",
     "output_type": "stream",
     "text": [
      "\n"
     ]
    },
    {
     "data": {
      "application/vnd.jupyter.widget-view+json": {
       "model_id": "2e6d881bfc97431c846ba8d03dd44dbb",
       "version_major": 2,
       "version_minor": 0
      },
      "text/plain": [
       "HBox(children=(HTML(value=''), FloatProgress(value=0.0, max=1000.0), HTML(value='')))"
      ]
     },
     "metadata": {},
     "output_type": "display_data"
    },
    {
     "name": "stdout",
     "output_type": "stream",
     "text": [
      "\n"
     ]
    },
    {
     "data": {
      "application/vnd.jupyter.widget-view+json": {
       "model_id": "8fdf8dbec64a4ae5a61fb6da3f5d5c16",
       "version_major": 2,
       "version_minor": 0
      },
      "text/plain": [
       "HBox(children=(HTML(value=''), FloatProgress(value=0.0, max=1000.0), HTML(value='')))"
      ]
     },
     "metadata": {},
     "output_type": "display_data"
    },
    {
     "name": "stderr",
     "output_type": "stream",
     "text": [
      "C:\\Users\\torri\\miniconda3\\lib\\site-packages\\numpy\\lib\\polynomial.py:628: RuntimeWarning: invalid value encountered in true_divide\n",
      "  lhs /= scale\n"
     ]
    },
    {
     "name": "stdout",
     "output_type": "stream",
     "text": [
      "\n"
     ]
    },
    {
     "data": {
      "application/vnd.jupyter.widget-view+json": {
       "model_id": "70f3f3a157ea40bab016c52fbf803121",
       "version_major": 2,
       "version_minor": 0
      },
      "text/plain": [
       "HBox(children=(HTML(value=''), FloatProgress(value=0.0, max=1000.0), HTML(value='')))"
      ]
     },
     "metadata": {},
     "output_type": "display_data"
    },
    {
     "name": "stdout",
     "output_type": "stream",
     "text": [
      "\n"
     ]
    },
    {
     "data": {
      "application/vnd.jupyter.widget-view+json": {
       "model_id": "d81424d227a042379bd97bb9afea7fe8",
       "version_major": 2,
       "version_minor": 0
      },
      "text/plain": [
       "HBox(children=(HTML(value=''), FloatProgress(value=0.0, max=1000.0), HTML(value='')))"
      ]
     },
     "metadata": {},
     "output_type": "display_data"
    }
   ],
   "source": [
    "trials = 1000\n",
    "depth = 5000\n",
    "sides = np.array([4,5,6,7,8,9,10])\n",
    "cz,vz,mask = np.zeros((sides.size,trials)),np.zeros((sides.size,trials)),np.zeros((sides.size,trials))\n",
    "for i,s in enumerate(sides):\n",
    "    cz[i],vz[i] = chaos_sims(trials,s,depth)\n",
    "    vz[i] = vz[i] != 0\n",
    "    mask[i] = cz[i] != -1"
   ]
  },
  {
   "cell_type": "code",
   "execution_count": null,
   "metadata": {},
   "outputs": [],
   "source": [
    "for i,s in enumerate(sides):\n",
    "    c = cz[i,mask[i]]\n",
    "    v = vz[i,mask[i]]\n",
    "    fig, axs = plt.subplots(1, 3, sharey=True, tight_layout=True)\n",
    "    axs[0].set_title(\"Convex\")\n",
    "    axs[0].hist(c[v], bins=n_bins)\n",
    "    axs[1].set_title(\"Concave\")\n",
    "    axs[1].hist(c[np.logical_not(v)], bins=n_bins)\n",
    "    axs[2].set_title(\"Combined\")\n",
    "    axs[2].hist(c, bins=n_bins)\n",
    "    plt.savefig(\"{}chaos.png\".format(s))"
   ]
  },
  {
   "cell_type": "code",
   "execution_count": null,
   "metadata": {},
   "outputs": [],
   "source": []
  }
 ],
 "metadata": {
  "kernelspec": {
   "display_name": "Python [conda env:root] *",
   "language": "python",
   "name": "conda-root-py"
  },
  "language_info": {
   "codemirror_mode": {
    "name": "ipython",
    "version": 3
   },
   "file_extension": ".py",
   "mimetype": "text/x-python",
   "name": "python",
   "nbconvert_exporter": "python",
   "pygments_lexer": "ipython3",
   "version": "3.8.5"
  }
 },
 "nbformat": 4,
 "nbformat_minor": 4
}
